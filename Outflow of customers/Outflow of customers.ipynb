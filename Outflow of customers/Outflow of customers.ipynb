{
 "cells": [
  {
   "cell_type": "markdown",
   "metadata": {},
   "source": [
    "# Отток клиентов"
   ]
  },
  {
   "cell_type": "markdown",
   "metadata": {},
   "source": [
    "Из «Бета-Банка» стали уходить клиенты. Каждый месяц. Немного, но заметно. Банковские маркетологи посчитали: сохранять текущих клиентов дешевле, чем привлекать новых.\n",
    "\n",
    "Нужно спрогнозировать, уйдёт клиент из банка в ближайшее время или нет. Вам предоставлены исторические данные о поведении клиентов и расторжении договоров с банком. \n",
    "\n",
    "Постройте модель с предельно большим значением *F1*-меры. Чтобы сдать проект успешно, нужно довести метрику до 0.59. Проверьте *F1*-меру на тестовой выборке самостоятельно.\n",
    "\n",
    "Дополнительно измеряйте *AUC-ROC*, сравнивайте её значение с *F1*-мерой.\n",
    "\n",
    "Источник данных: [https://www.kaggle.com/barelydedicated/bank-customer-churn-modeling](https://www.kaggle.com/barelydedicated/bank-customer-churn-modeling)"
   ]
  },
  {
   "cell_type": "markdown",
   "metadata": {},
   "source": [
    "Признаки\n",
    "- RowNumber — индекс строки в данных\n",
    "- CustomerId — уникальный идентификатор клиента\n",
    "- Surname — фамилия\n",
    "- CreditScore — кредитный рейтинг\n",
    "- Geography — страна проживания\n",
    "- Gender — пол\n",
    "- Age — возраст\n",
    "- Tenure — сколько лет человек является клиентом банка\n",
    "- Balance — баланс на счёте\n",
    "- NumOfProducts — количество продуктов банка, используемых клиентом\n",
    "- HasCrCard — наличие кредитной карты\n",
    "- IsActiveMember — активность клиента\n",
    "- EstimatedSalary — предполагаемая зарплата\n",
    "\n",
    "Целевой признак\n",
    "- Exited — факт ухода клиента"
   ]
  },
  {
   "cell_type": "markdown",
   "metadata": {},
   "source": [
    "## Подготовка данных"
   ]
  },
  {
   "cell_type": "code",
   "execution_count": 1,
   "metadata": {
    "ExecuteTime": {
     "end_time": "2022-12-23T12:33:41.557494Z",
     "start_time": "2022-12-23T12:33:41.542502Z"
    }
   },
   "outputs": [],
   "source": [
    "# Импорт библиотеки машинное обучение\n",
    "import pandas as pd\n",
    "import numpy as np\n",
    "import seaborn as sns\n",
    "import matplotlib.pyplot as plt\n",
    "\n",
    "from sklearn.tree import DecisionTreeClassifier\n",
    "from sklearn.ensemble import RandomForestClassifier\n",
    "from sklearn.linear_model import LogisticRegression\n",
    "from sklearn.utils import shuffle\n",
    "\n",
    "from sklearn.preprocessing import StandardScaler\n",
    "\n",
    "from sklearn.model_selection import train_test_split\n",
    "from sklearn.metrics import (roc_curve, roc_auc_score, confusion_matrix,\n",
    "                             recall_score, precision_score, f1_score)\n",
    "from tqdm import tqdm"
   ]
  },
  {
   "cell_type": "code",
   "execution_count": 2,
   "metadata": {
    "ExecuteTime": {
     "end_time": "2022-12-23T12:33:41.652210Z",
     "start_time": "2022-12-23T12:33:41.601345Z"
    }
   },
   "outputs": [],
   "source": [
    "try:\n",
    "    df = pd.read_csv('/datasets/Churn.csv')\n",
    "except:\n",
    "    df = pd.read_csv('Churn.csv')"
   ]
  },
  {
   "cell_type": "code",
   "execution_count": 3,
   "metadata": {
    "ExecuteTime": {
     "end_time": "2022-12-23T12:33:41.684152Z",
     "start_time": "2022-12-23T12:33:41.662182Z"
    },
    "scrolled": true
   },
   "outputs": [],
   "source": [
    "def review(df):\n",
    "    info = display(df.head()), df.info(), \n",
    "    print('-'*50), \n",
    "    print('Количчество дубликатов:',df.duplicated().sum()),\n",
    "    pd.options.display.float_format = '{:,.2f}'.format\n",
    "    display(df.describe())"
   ]
  },
  {
   "cell_type": "code",
   "execution_count": 4,
   "metadata": {
    "ExecuteTime": {
     "end_time": "2022-12-23T12:33:41.809788Z",
     "start_time": "2022-12-23T12:33:41.714043Z"
    },
    "scrolled": false
   },
   "outputs": [
    {
     "data": {
      "text/html": [
       "<div>\n",
       "<style scoped>\n",
       "    .dataframe tbody tr th:only-of-type {\n",
       "        vertical-align: middle;\n",
       "    }\n",
       "\n",
       "    .dataframe tbody tr th {\n",
       "        vertical-align: top;\n",
       "    }\n",
       "\n",
       "    .dataframe thead th {\n",
       "        text-align: right;\n",
       "    }\n",
       "</style>\n",
       "<table border=\"1\" class=\"dataframe\">\n",
       "  <thead>\n",
       "    <tr style=\"text-align: right;\">\n",
       "      <th></th>\n",
       "      <th>RowNumber</th>\n",
       "      <th>CustomerId</th>\n",
       "      <th>Surname</th>\n",
       "      <th>CreditScore</th>\n",
       "      <th>Geography</th>\n",
       "      <th>Gender</th>\n",
       "      <th>Age</th>\n",
       "      <th>Tenure</th>\n",
       "      <th>Balance</th>\n",
       "      <th>NumOfProducts</th>\n",
       "      <th>HasCrCard</th>\n",
       "      <th>IsActiveMember</th>\n",
       "      <th>EstimatedSalary</th>\n",
       "      <th>Exited</th>\n",
       "    </tr>\n",
       "  </thead>\n",
       "  <tbody>\n",
       "    <tr>\n",
       "      <th>0</th>\n",
       "      <td>1</td>\n",
       "      <td>15634602</td>\n",
       "      <td>Hargrave</td>\n",
       "      <td>619</td>\n",
       "      <td>France</td>\n",
       "      <td>Female</td>\n",
       "      <td>42</td>\n",
       "      <td>2.0</td>\n",
       "      <td>0.00</td>\n",
       "      <td>1</td>\n",
       "      <td>1</td>\n",
       "      <td>1</td>\n",
       "      <td>101348.88</td>\n",
       "      <td>1</td>\n",
       "    </tr>\n",
       "    <tr>\n",
       "      <th>1</th>\n",
       "      <td>2</td>\n",
       "      <td>15647311</td>\n",
       "      <td>Hill</td>\n",
       "      <td>608</td>\n",
       "      <td>Spain</td>\n",
       "      <td>Female</td>\n",
       "      <td>41</td>\n",
       "      <td>1.0</td>\n",
       "      <td>83807.86</td>\n",
       "      <td>1</td>\n",
       "      <td>0</td>\n",
       "      <td>1</td>\n",
       "      <td>112542.58</td>\n",
       "      <td>0</td>\n",
       "    </tr>\n",
       "    <tr>\n",
       "      <th>2</th>\n",
       "      <td>3</td>\n",
       "      <td>15619304</td>\n",
       "      <td>Onio</td>\n",
       "      <td>502</td>\n",
       "      <td>France</td>\n",
       "      <td>Female</td>\n",
       "      <td>42</td>\n",
       "      <td>8.0</td>\n",
       "      <td>159660.80</td>\n",
       "      <td>3</td>\n",
       "      <td>1</td>\n",
       "      <td>0</td>\n",
       "      <td>113931.57</td>\n",
       "      <td>1</td>\n",
       "    </tr>\n",
       "    <tr>\n",
       "      <th>3</th>\n",
       "      <td>4</td>\n",
       "      <td>15701354</td>\n",
       "      <td>Boni</td>\n",
       "      <td>699</td>\n",
       "      <td>France</td>\n",
       "      <td>Female</td>\n",
       "      <td>39</td>\n",
       "      <td>1.0</td>\n",
       "      <td>0.00</td>\n",
       "      <td>2</td>\n",
       "      <td>0</td>\n",
       "      <td>0</td>\n",
       "      <td>93826.63</td>\n",
       "      <td>0</td>\n",
       "    </tr>\n",
       "    <tr>\n",
       "      <th>4</th>\n",
       "      <td>5</td>\n",
       "      <td>15737888</td>\n",
       "      <td>Mitchell</td>\n",
       "      <td>850</td>\n",
       "      <td>Spain</td>\n",
       "      <td>Female</td>\n",
       "      <td>43</td>\n",
       "      <td>2.0</td>\n",
       "      <td>125510.82</td>\n",
       "      <td>1</td>\n",
       "      <td>1</td>\n",
       "      <td>1</td>\n",
       "      <td>79084.10</td>\n",
       "      <td>0</td>\n",
       "    </tr>\n",
       "  </tbody>\n",
       "</table>\n",
       "</div>"
      ],
      "text/plain": [
       "   RowNumber  CustomerId   Surname  CreditScore Geography  Gender  Age  \\\n",
       "0          1    15634602  Hargrave          619    France  Female   42   \n",
       "1          2    15647311      Hill          608     Spain  Female   41   \n",
       "2          3    15619304      Onio          502    France  Female   42   \n",
       "3          4    15701354      Boni          699    France  Female   39   \n",
       "4          5    15737888  Mitchell          850     Spain  Female   43   \n",
       "\n",
       "   Tenure    Balance  NumOfProducts  HasCrCard  IsActiveMember  \\\n",
       "0     2.0       0.00              1          1               1   \n",
       "1     1.0   83807.86              1          0               1   \n",
       "2     8.0  159660.80              3          1               0   \n",
       "3     1.0       0.00              2          0               0   \n",
       "4     2.0  125510.82              1          1               1   \n",
       "\n",
       "   EstimatedSalary  Exited  \n",
       "0        101348.88       1  \n",
       "1        112542.58       0  \n",
       "2        113931.57       1  \n",
       "3         93826.63       0  \n",
       "4         79084.10       0  "
      ]
     },
     "metadata": {},
     "output_type": "display_data"
    },
    {
     "name": "stdout",
     "output_type": "stream",
     "text": [
      "<class 'pandas.core.frame.DataFrame'>\n",
      "RangeIndex: 10000 entries, 0 to 9999\n",
      "Data columns (total 14 columns):\n",
      " #   Column           Non-Null Count  Dtype  \n",
      "---  ------           --------------  -----  \n",
      " 0   RowNumber        10000 non-null  int64  \n",
      " 1   CustomerId       10000 non-null  int64  \n",
      " 2   Surname          10000 non-null  object \n",
      " 3   CreditScore      10000 non-null  int64  \n",
      " 4   Geography        10000 non-null  object \n",
      " 5   Gender           10000 non-null  object \n",
      " 6   Age              10000 non-null  int64  \n",
      " 7   Tenure           9091 non-null   float64\n",
      " 8   Balance          10000 non-null  float64\n",
      " 9   NumOfProducts    10000 non-null  int64  \n",
      " 10  HasCrCard        10000 non-null  int64  \n",
      " 11  IsActiveMember   10000 non-null  int64  \n",
      " 12  EstimatedSalary  10000 non-null  float64\n",
      " 13  Exited           10000 non-null  int64  \n",
      "dtypes: float64(3), int64(8), object(3)\n",
      "memory usage: 1.1+ MB\n",
      "--------------------------------------------------\n",
      "Количчество дубликатов: 0\n"
     ]
    },
    {
     "data": {
      "text/html": [
       "<div>\n",
       "<style scoped>\n",
       "    .dataframe tbody tr th:only-of-type {\n",
       "        vertical-align: middle;\n",
       "    }\n",
       "\n",
       "    .dataframe tbody tr th {\n",
       "        vertical-align: top;\n",
       "    }\n",
       "\n",
       "    .dataframe thead th {\n",
       "        text-align: right;\n",
       "    }\n",
       "</style>\n",
       "<table border=\"1\" class=\"dataframe\">\n",
       "  <thead>\n",
       "    <tr style=\"text-align: right;\">\n",
       "      <th></th>\n",
       "      <th>RowNumber</th>\n",
       "      <th>CustomerId</th>\n",
       "      <th>CreditScore</th>\n",
       "      <th>Age</th>\n",
       "      <th>Tenure</th>\n",
       "      <th>Balance</th>\n",
       "      <th>NumOfProducts</th>\n",
       "      <th>HasCrCard</th>\n",
       "      <th>IsActiveMember</th>\n",
       "      <th>EstimatedSalary</th>\n",
       "      <th>Exited</th>\n",
       "    </tr>\n",
       "  </thead>\n",
       "  <tbody>\n",
       "    <tr>\n",
       "      <th>count</th>\n",
       "      <td>10,000.00</td>\n",
       "      <td>10,000.00</td>\n",
       "      <td>10,000.00</td>\n",
       "      <td>10,000.00</td>\n",
       "      <td>9,091.00</td>\n",
       "      <td>10,000.00</td>\n",
       "      <td>10,000.00</td>\n",
       "      <td>10,000.00</td>\n",
       "      <td>10,000.00</td>\n",
       "      <td>10,000.00</td>\n",
       "      <td>10,000.00</td>\n",
       "    </tr>\n",
       "    <tr>\n",
       "      <th>mean</th>\n",
       "      <td>5,000.50</td>\n",
       "      <td>15,690,940.57</td>\n",
       "      <td>650.53</td>\n",
       "      <td>38.92</td>\n",
       "      <td>5.00</td>\n",
       "      <td>76,485.89</td>\n",
       "      <td>1.53</td>\n",
       "      <td>0.71</td>\n",
       "      <td>0.52</td>\n",
       "      <td>100,090.24</td>\n",
       "      <td>0.20</td>\n",
       "    </tr>\n",
       "    <tr>\n",
       "      <th>std</th>\n",
       "      <td>2,886.90</td>\n",
       "      <td>71,936.19</td>\n",
       "      <td>96.65</td>\n",
       "      <td>10.49</td>\n",
       "      <td>2.89</td>\n",
       "      <td>62,397.41</td>\n",
       "      <td>0.58</td>\n",
       "      <td>0.46</td>\n",
       "      <td>0.50</td>\n",
       "      <td>57,510.49</td>\n",
       "      <td>0.40</td>\n",
       "    </tr>\n",
       "    <tr>\n",
       "      <th>min</th>\n",
       "      <td>1.00</td>\n",
       "      <td>15,565,701.00</td>\n",
       "      <td>350.00</td>\n",
       "      <td>18.00</td>\n",
       "      <td>0.00</td>\n",
       "      <td>0.00</td>\n",
       "      <td>1.00</td>\n",
       "      <td>0.00</td>\n",
       "      <td>0.00</td>\n",
       "      <td>11.58</td>\n",
       "      <td>0.00</td>\n",
       "    </tr>\n",
       "    <tr>\n",
       "      <th>25%</th>\n",
       "      <td>2,500.75</td>\n",
       "      <td>15,628,528.25</td>\n",
       "      <td>584.00</td>\n",
       "      <td>32.00</td>\n",
       "      <td>2.00</td>\n",
       "      <td>0.00</td>\n",
       "      <td>1.00</td>\n",
       "      <td>0.00</td>\n",
       "      <td>0.00</td>\n",
       "      <td>51,002.11</td>\n",
       "      <td>0.00</td>\n",
       "    </tr>\n",
       "    <tr>\n",
       "      <th>50%</th>\n",
       "      <td>5,000.50</td>\n",
       "      <td>15,690,738.00</td>\n",
       "      <td>652.00</td>\n",
       "      <td>37.00</td>\n",
       "      <td>5.00</td>\n",
       "      <td>97,198.54</td>\n",
       "      <td>1.00</td>\n",
       "      <td>1.00</td>\n",
       "      <td>1.00</td>\n",
       "      <td>100,193.91</td>\n",
       "      <td>0.00</td>\n",
       "    </tr>\n",
       "    <tr>\n",
       "      <th>75%</th>\n",
       "      <td>7,500.25</td>\n",
       "      <td>15,753,233.75</td>\n",
       "      <td>718.00</td>\n",
       "      <td>44.00</td>\n",
       "      <td>7.00</td>\n",
       "      <td>127,644.24</td>\n",
       "      <td>2.00</td>\n",
       "      <td>1.00</td>\n",
       "      <td>1.00</td>\n",
       "      <td>149,388.25</td>\n",
       "      <td>0.00</td>\n",
       "    </tr>\n",
       "    <tr>\n",
       "      <th>max</th>\n",
       "      <td>10,000.00</td>\n",
       "      <td>15,815,690.00</td>\n",
       "      <td>850.00</td>\n",
       "      <td>92.00</td>\n",
       "      <td>10.00</td>\n",
       "      <td>250,898.09</td>\n",
       "      <td>4.00</td>\n",
       "      <td>1.00</td>\n",
       "      <td>1.00</td>\n",
       "      <td>199,992.48</td>\n",
       "      <td>1.00</td>\n",
       "    </tr>\n",
       "  </tbody>\n",
       "</table>\n",
       "</div>"
      ],
      "text/plain": [
       "       RowNumber    CustomerId  CreditScore       Age   Tenure    Balance  \\\n",
       "count  10,000.00     10,000.00    10,000.00 10,000.00 9,091.00  10,000.00   \n",
       "mean    5,000.50 15,690,940.57       650.53     38.92     5.00  76,485.89   \n",
       "std     2,886.90     71,936.19        96.65     10.49     2.89  62,397.41   \n",
       "min         1.00 15,565,701.00       350.00     18.00     0.00       0.00   \n",
       "25%     2,500.75 15,628,528.25       584.00     32.00     2.00       0.00   \n",
       "50%     5,000.50 15,690,738.00       652.00     37.00     5.00  97,198.54   \n",
       "75%     7,500.25 15,753,233.75       718.00     44.00     7.00 127,644.24   \n",
       "max    10,000.00 15,815,690.00       850.00     92.00    10.00 250,898.09   \n",
       "\n",
       "       NumOfProducts  HasCrCard  IsActiveMember  EstimatedSalary    Exited  \n",
       "count      10,000.00  10,000.00       10,000.00        10,000.00 10,000.00  \n",
       "mean            1.53       0.71            0.52       100,090.24      0.20  \n",
       "std             0.58       0.46            0.50        57,510.49      0.40  \n",
       "min             1.00       0.00            0.00            11.58      0.00  \n",
       "25%             1.00       0.00            0.00        51,002.11      0.00  \n",
       "50%             1.00       1.00            1.00       100,193.91      0.00  \n",
       "75%             2.00       1.00            1.00       149,388.25      0.00  \n",
       "max             4.00       1.00            1.00       199,992.48      1.00  "
      ]
     },
     "metadata": {},
     "output_type": "display_data"
    }
   ],
   "source": [
    "# Изучим в целом данные нашего датафрейма\n",
    "review(df)"
   ]
  },
  {
   "cell_type": "code",
   "execution_count": 5,
   "metadata": {
    "ExecuteTime": {
     "end_time": "2022-12-23T12:33:41.856660Z",
     "start_time": "2022-12-23T12:33:41.814774Z"
    },
    "scrolled": false
   },
   "outputs": [
    {
     "name": "stdout",
     "output_type": "stream",
     "text": [
      "<class 'pandas.core.frame.DataFrame'>\n",
      "RangeIndex: 10000 entries, 0 to 9999\n",
      "Data columns (total 14 columns):\n",
      " #   Column            Non-Null Count  Dtype  \n",
      "---  ------            --------------  -----  \n",
      " 0   row_number        10000 non-null  int64  \n",
      " 1   customer_id       10000 non-null  int64  \n",
      " 2   surname           10000 non-null  object \n",
      " 3   credit_score      10000 non-null  int64  \n",
      " 4   geography         10000 non-null  object \n",
      " 5   gender            10000 non-null  object \n",
      " 6   age               10000 non-null  int64  \n",
      " 7   tenure            9091 non-null   float64\n",
      " 8   balance           10000 non-null  float64\n",
      " 9   num_of_product    10000 non-null  int64  \n",
      " 10  has_cr_card       10000 non-null  int64  \n",
      " 11  is_active_member  10000 non-null  int64  \n",
      " 12  estimated_salary  10000 non-null  float64\n",
      " 13  exited            10000 non-null  int64  \n",
      "dtypes: float64(3), int64(8), object(3)\n",
      "memory usage: 1.1+ MB\n"
     ]
    }
   ],
   "source": [
    "# Приведем столбцы к нижнему регистру и переименнуем коллоны для удобства\n",
    "df.columns = df.columns.str.lower()\n",
    "df.rename(columns={\n",
    "    'rownumber':'row_number',\n",
    "    'customerid':'customer_id',\n",
    "    'creditscore':'credit_score',\n",
    "    'numofproducts':'num_of_product',\n",
    "    'hascrcard':'has_cr_card',\n",
    "    'isactivemember':'is_active_member',\n",
    "    'estimatedsalary':'estimated_salary'\n",
    "},\n",
    "          inplace=True)\n",
    "# Проверяем преобразование\n",
    "df.info()"
   ]
  },
  {
   "cell_type": "code",
   "execution_count": 6,
   "metadata": {
    "ExecuteTime": {
     "end_time": "2022-12-23T12:33:41.904534Z",
     "start_time": "2022-12-23T12:33:41.861651Z"
    }
   },
   "outputs": [
    {
     "data": {
      "text/html": [
       "<div>\n",
       "<style scoped>\n",
       "    .dataframe tbody tr th:only-of-type {\n",
       "        vertical-align: middle;\n",
       "    }\n",
       "\n",
       "    .dataframe tbody tr th {\n",
       "        vertical-align: top;\n",
       "    }\n",
       "\n",
       "    .dataframe thead th {\n",
       "        text-align: right;\n",
       "    }\n",
       "</style>\n",
       "<table border=\"1\" class=\"dataframe\">\n",
       "  <thead>\n",
       "    <tr style=\"text-align: right;\">\n",
       "      <th></th>\n",
       "      <th>row_number</th>\n",
       "      <th>customer_id</th>\n",
       "      <th>surname</th>\n",
       "      <th>credit_score</th>\n",
       "      <th>geography</th>\n",
       "      <th>gender</th>\n",
       "      <th>age</th>\n",
       "      <th>tenure</th>\n",
       "      <th>balance</th>\n",
       "      <th>num_of_product</th>\n",
       "      <th>has_cr_card</th>\n",
       "      <th>is_active_member</th>\n",
       "      <th>estimated_salary</th>\n",
       "      <th>exited</th>\n",
       "    </tr>\n",
       "  </thead>\n",
       "  <tbody>\n",
       "    <tr>\n",
       "      <th>30</th>\n",
       "      <td>31</td>\n",
       "      <td>15589475</td>\n",
       "      <td>Azikiwe</td>\n",
       "      <td>591</td>\n",
       "      <td>Spain</td>\n",
       "      <td>Female</td>\n",
       "      <td>39</td>\n",
       "      <td>NaN</td>\n",
       "      <td>0.00</td>\n",
       "      <td>3</td>\n",
       "      <td>1</td>\n",
       "      <td>0</td>\n",
       "      <td>140,469.38</td>\n",
       "      <td>1</td>\n",
       "    </tr>\n",
       "    <tr>\n",
       "      <th>48</th>\n",
       "      <td>49</td>\n",
       "      <td>15766205</td>\n",
       "      <td>Yin</td>\n",
       "      <td>550</td>\n",
       "      <td>Germany</td>\n",
       "      <td>Male</td>\n",
       "      <td>38</td>\n",
       "      <td>NaN</td>\n",
       "      <td>103,391.38</td>\n",
       "      <td>1</td>\n",
       "      <td>0</td>\n",
       "      <td>1</td>\n",
       "      <td>90,878.13</td>\n",
       "      <td>0</td>\n",
       "    </tr>\n",
       "    <tr>\n",
       "      <th>51</th>\n",
       "      <td>52</td>\n",
       "      <td>15768193</td>\n",
       "      <td>Trevisani</td>\n",
       "      <td>585</td>\n",
       "      <td>Germany</td>\n",
       "      <td>Male</td>\n",
       "      <td>36</td>\n",
       "      <td>NaN</td>\n",
       "      <td>146,050.97</td>\n",
       "      <td>2</td>\n",
       "      <td>0</td>\n",
       "      <td>0</td>\n",
       "      <td>86,424.57</td>\n",
       "      <td>0</td>\n",
       "    </tr>\n",
       "    <tr>\n",
       "      <th>53</th>\n",
       "      <td>54</td>\n",
       "      <td>15702298</td>\n",
       "      <td>Parkhill</td>\n",
       "      <td>655</td>\n",
       "      <td>Germany</td>\n",
       "      <td>Male</td>\n",
       "      <td>41</td>\n",
       "      <td>NaN</td>\n",
       "      <td>125,561.97</td>\n",
       "      <td>1</td>\n",
       "      <td>0</td>\n",
       "      <td>0</td>\n",
       "      <td>164,040.94</td>\n",
       "      <td>1</td>\n",
       "    </tr>\n",
       "    <tr>\n",
       "      <th>60</th>\n",
       "      <td>61</td>\n",
       "      <td>15651280</td>\n",
       "      <td>Hunter</td>\n",
       "      <td>742</td>\n",
       "      <td>Germany</td>\n",
       "      <td>Male</td>\n",
       "      <td>35</td>\n",
       "      <td>NaN</td>\n",
       "      <td>136,857.00</td>\n",
       "      <td>1</td>\n",
       "      <td>0</td>\n",
       "      <td>0</td>\n",
       "      <td>84,509.57</td>\n",
       "      <td>0</td>\n",
       "    </tr>\n",
       "    <tr>\n",
       "      <th>...</th>\n",
       "      <td>...</td>\n",
       "      <td>...</td>\n",
       "      <td>...</td>\n",
       "      <td>...</td>\n",
       "      <td>...</td>\n",
       "      <td>...</td>\n",
       "      <td>...</td>\n",
       "      <td>...</td>\n",
       "      <td>...</td>\n",
       "      <td>...</td>\n",
       "      <td>...</td>\n",
       "      <td>...</td>\n",
       "      <td>...</td>\n",
       "      <td>...</td>\n",
       "    </tr>\n",
       "    <tr>\n",
       "      <th>9944</th>\n",
       "      <td>9945</td>\n",
       "      <td>15703923</td>\n",
       "      <td>Cameron</td>\n",
       "      <td>744</td>\n",
       "      <td>Germany</td>\n",
       "      <td>Male</td>\n",
       "      <td>41</td>\n",
       "      <td>NaN</td>\n",
       "      <td>190,409.34</td>\n",
       "      <td>2</td>\n",
       "      <td>1</td>\n",
       "      <td>1</td>\n",
       "      <td>138,361.48</td>\n",
       "      <td>0</td>\n",
       "    </tr>\n",
       "    <tr>\n",
       "      <th>9956</th>\n",
       "      <td>9957</td>\n",
       "      <td>15707861</td>\n",
       "      <td>Nucci</td>\n",
       "      <td>520</td>\n",
       "      <td>France</td>\n",
       "      <td>Female</td>\n",
       "      <td>46</td>\n",
       "      <td>NaN</td>\n",
       "      <td>85,216.61</td>\n",
       "      <td>1</td>\n",
       "      <td>1</td>\n",
       "      <td>0</td>\n",
       "      <td>117,369.52</td>\n",
       "      <td>1</td>\n",
       "    </tr>\n",
       "    <tr>\n",
       "      <th>9964</th>\n",
       "      <td>9965</td>\n",
       "      <td>15642785</td>\n",
       "      <td>Douglas</td>\n",
       "      <td>479</td>\n",
       "      <td>France</td>\n",
       "      <td>Male</td>\n",
       "      <td>34</td>\n",
       "      <td>NaN</td>\n",
       "      <td>117,593.48</td>\n",
       "      <td>2</td>\n",
       "      <td>0</td>\n",
       "      <td>0</td>\n",
       "      <td>113,308.29</td>\n",
       "      <td>0</td>\n",
       "    </tr>\n",
       "    <tr>\n",
       "      <th>9985</th>\n",
       "      <td>9986</td>\n",
       "      <td>15586914</td>\n",
       "      <td>Nepean</td>\n",
       "      <td>659</td>\n",
       "      <td>France</td>\n",
       "      <td>Male</td>\n",
       "      <td>36</td>\n",
       "      <td>NaN</td>\n",
       "      <td>123,841.49</td>\n",
       "      <td>2</td>\n",
       "      <td>1</td>\n",
       "      <td>0</td>\n",
       "      <td>96,833.00</td>\n",
       "      <td>0</td>\n",
       "    </tr>\n",
       "    <tr>\n",
       "      <th>9999</th>\n",
       "      <td>10000</td>\n",
       "      <td>15628319</td>\n",
       "      <td>Walker</td>\n",
       "      <td>792</td>\n",
       "      <td>France</td>\n",
       "      <td>Female</td>\n",
       "      <td>28</td>\n",
       "      <td>NaN</td>\n",
       "      <td>130,142.79</td>\n",
       "      <td>1</td>\n",
       "      <td>1</td>\n",
       "      <td>0</td>\n",
       "      <td>38,190.78</td>\n",
       "      <td>0</td>\n",
       "    </tr>\n",
       "  </tbody>\n",
       "</table>\n",
       "<p>909 rows × 14 columns</p>\n",
       "</div>"
      ],
      "text/plain": [
       "      row_number  customer_id    surname  credit_score geography  gender  age  \\\n",
       "30            31     15589475    Azikiwe           591     Spain  Female   39   \n",
       "48            49     15766205        Yin           550   Germany    Male   38   \n",
       "51            52     15768193  Trevisani           585   Germany    Male   36   \n",
       "53            54     15702298   Parkhill           655   Germany    Male   41   \n",
       "60            61     15651280     Hunter           742   Germany    Male   35   \n",
       "...          ...          ...        ...           ...       ...     ...  ...   \n",
       "9944        9945     15703923    Cameron           744   Germany    Male   41   \n",
       "9956        9957     15707861      Nucci           520    France  Female   46   \n",
       "9964        9965     15642785    Douglas           479    France    Male   34   \n",
       "9985        9986     15586914     Nepean           659    France    Male   36   \n",
       "9999       10000     15628319     Walker           792    France  Female   28   \n",
       "\n",
       "      tenure    balance  num_of_product  has_cr_card  is_active_member  \\\n",
       "30       NaN       0.00               3            1                 0   \n",
       "48       NaN 103,391.38               1            0                 1   \n",
       "51       NaN 146,050.97               2            0                 0   \n",
       "53       NaN 125,561.97               1            0                 0   \n",
       "60       NaN 136,857.00               1            0                 0   \n",
       "...      ...        ...             ...          ...               ...   \n",
       "9944     NaN 190,409.34               2            1                 1   \n",
       "9956     NaN  85,216.61               1            1                 0   \n",
       "9964     NaN 117,593.48               2            0                 0   \n",
       "9985     NaN 123,841.49               2            1                 0   \n",
       "9999     NaN 130,142.79               1            1                 0   \n",
       "\n",
       "      estimated_salary  exited  \n",
       "30          140,469.38       1  \n",
       "48           90,878.13       0  \n",
       "51           86,424.57       0  \n",
       "53          164,040.94       1  \n",
       "60           84,509.57       0  \n",
       "...                ...     ...  \n",
       "9944        138,361.48       0  \n",
       "9956        117,369.52       1  \n",
       "9964        113,308.29       0  \n",
       "9985         96,833.00       0  \n",
       "9999         38,190.78       0  \n",
       "\n",
       "[909 rows x 14 columns]"
      ]
     },
     "execution_count": 6,
     "metadata": {},
     "output_type": "execute_result"
    }
   ],
   "source": [
    "# Выведем данные по пропускам\n",
    "df[df.tenure.isnull()]"
   ]
  },
  {
   "cell_type": "code",
   "execution_count": 7,
   "metadata": {
    "ExecuteTime": {
     "end_time": "2022-12-23T12:33:41.935451Z",
     "start_time": "2022-12-23T12:33:41.918496Z"
    }
   },
   "outputs": [
    {
     "name": "stdout",
     "output_type": "stream",
     "text": [
      "Количество уникальных значений: [ 2.  1.  8.  7.  4.  6.  3. 10.  5.  9.  0.]\n",
      "Количество пустых значий: 0\n"
     ]
    }
   ],
   "source": [
    "# Заполним пустые значение медианным значеием\n",
    "df.tenure = df.tenure.fillna(df.tenure.median())\n",
    "print(f'Количество уникальных значений: {df.tenure.unique()}')\n",
    "print(f'Количество пустых значий: {df.tenure.isnull().sum()}')"
   ]
  },
  {
   "cell_type": "markdown",
   "metadata": {},
   "source": [
    "Мы заполнили пустые значения медианным для дальнейшего анализа датафрейма"
   ]
  },
  {
   "cell_type": "code",
   "execution_count": 8,
   "metadata": {
    "ExecuteTime": {
     "end_time": "2022-12-23T12:33:42.014240Z",
     "start_time": "2022-12-23T12:33:41.999281Z"
    }
   },
   "outputs": [
    {
     "name": "stdout",
     "output_type": "stream",
     "text": [
      "France     5014\n",
      "Germany    2509\n",
      "Spain      2477\n",
      "Name: geography, dtype: int64\n",
      "Male      5457\n",
      "Female    4543\n",
      "Name: gender, dtype: int64\n"
     ]
    }
   ],
   "source": [
    "# Проверим уникальные значения в двух позициях для анализа\n",
    "print(df.geography.value_counts())\n",
    "print(df.gender.value_counts())"
   ]
  },
  {
   "cell_type": "markdown",
   "metadata": {},
   "source": [
    "Уникальных значений в этих столбцах немного, поэтому нам можно их закодировать методом One-Hot Encoding (OHE)."
   ]
  },
  {
   "cell_type": "code",
   "execution_count": 9,
   "metadata": {
    "ExecuteTime": {
     "end_time": "2022-12-23T12:33:42.106996Z",
     "start_time": "2022-12-23T12:33:42.084053Z"
    }
   },
   "outputs": [],
   "source": [
    "df = pd.get_dummies(df,\n",
    "                    columns=['geography', 'gender'],\n",
    "                    drop_first=True)"
   ]
  },
  {
   "cell_type": "code",
   "execution_count": 10,
   "metadata": {
    "ExecuteTime": {
     "end_time": "2022-12-23T12:33:42.154866Z",
     "start_time": "2022-12-23T12:33:42.141899Z"
    }
   },
   "outputs": [],
   "source": [
    "# Выделим из датасета целевой признак Exited и избавимся от лишних данных.\n",
    "features = df.drop(['row_number', 'customer_id', 'surname', 'exited'], axis=1)\n",
    "target = df.exited"
   ]
  },
  {
   "cell_type": "markdown",
   "metadata": {},
   "source": [
    "**Разобьем данные на выборки и проведем масштабирование**"
   ]
  },
  {
   "cell_type": "code",
   "execution_count": 11,
   "metadata": {
    "ExecuteTime": {
     "end_time": "2022-12-23T12:33:42.248612Z",
     "start_time": "2022-12-23T12:33:42.225674Z"
    }
   },
   "outputs": [],
   "source": [
    "features_train, features_test, target_train, target_test = train_test_split(\n",
    "    features, target, test_size=0.4, random_state=12345)\n",
    "\n",
    "features_valid, features_test, target_valid, target_test = train_test_split(\n",
    "    features_test, target_test, test_size=0.5, random_state=12345) "
   ]
  },
  {
   "cell_type": "code",
   "execution_count": 12,
   "metadata": {
    "ExecuteTime": {
     "end_time": "2022-12-23T12:33:42.312444Z",
     "start_time": "2022-12-23T12:33:42.291526Z"
    }
   },
   "outputs": [],
   "source": [
    "numeric = ['age','tenure','balance','credit_score','num_of_product','estimated_salary']"
   ]
  },
  {
   "cell_type": "code",
   "execution_count": 13,
   "metadata": {
    "ExecuteTime": {
     "end_time": "2022-12-23T12:33:42.375274Z",
     "start_time": "2022-12-23T12:33:42.351339Z"
    },
    "scrolled": false
   },
   "outputs": [
    {
     "data": {
      "text/plain": [
       "StandardScaler()"
      ]
     },
     "execution_count": 13,
     "metadata": {},
     "output_type": "execute_result"
    }
   ],
   "source": [
    "scaler = StandardScaler()\n",
    "scaler.fit(features_train[numeric])"
   ]
  },
  {
   "cell_type": "code",
   "execution_count": 14,
   "metadata": {
    "ExecuteTime": {
     "end_time": "2022-12-23T12:33:42.439102Z",
     "start_time": "2022-12-23T12:33:42.411177Z"
    }
   },
   "outputs": [
    {
     "name": "stderr",
     "output_type": "stream",
     "text": [
      "/tmp/ipykernel_63/3679938634.py:1: SettingWithCopyWarning: \n",
      "A value is trying to be set on a copy of a slice from a DataFrame.\n",
      "Try using .loc[row_indexer,col_indexer] = value instead\n",
      "\n",
      "See the caveats in the documentation: https://pandas.pydata.org/pandas-docs/stable/user_guide/indexing.html#returning-a-view-versus-a-copy\n",
      "  features_train[numeric] = scaler.transform(features_train[numeric])\n",
      "/opt/conda/lib/python3.9/site-packages/pandas/core/indexing.py:1738: SettingWithCopyWarning: \n",
      "A value is trying to be set on a copy of a slice from a DataFrame.\n",
      "Try using .loc[row_indexer,col_indexer] = value instead\n",
      "\n",
      "See the caveats in the documentation: https://pandas.pydata.org/pandas-docs/stable/user_guide/indexing.html#returning-a-view-versus-a-copy\n",
      "  self._setitem_single_column(loc, value[:, i].tolist(), pi)\n"
     ]
    }
   ],
   "source": [
    "features_train[numeric] = scaler.transform(features_train[numeric])\n",
    "features_valid[numeric] = scaler.transform(features_valid[numeric])\n",
    "features_test[numeric] = scaler.transform(features_test[numeric])\n",
    "\n",
    "pd.options.mode.chained_assignment = None"
   ]
  },
  {
   "cell_type": "code",
   "execution_count": 15,
   "metadata": {
    "ExecuteTime": {
     "end_time": "2022-12-23T12:33:42.502931Z",
     "start_time": "2022-12-23T12:33:42.468026Z"
    },
    "scrolled": false
   },
   "outputs": [
    {
     "data": {
      "text/html": [
       "<div>\n",
       "<style scoped>\n",
       "    .dataframe tbody tr th:only-of-type {\n",
       "        vertical-align: middle;\n",
       "    }\n",
       "\n",
       "    .dataframe tbody tr th {\n",
       "        vertical-align: top;\n",
       "    }\n",
       "\n",
       "    .dataframe thead th {\n",
       "        text-align: right;\n",
       "    }\n",
       "</style>\n",
       "<table border=\"1\" class=\"dataframe\">\n",
       "  <thead>\n",
       "    <tr style=\"text-align: right;\">\n",
       "      <th></th>\n",
       "      <th>credit_score</th>\n",
       "      <th>age</th>\n",
       "      <th>tenure</th>\n",
       "      <th>balance</th>\n",
       "      <th>num_of_product</th>\n",
       "      <th>has_cr_card</th>\n",
       "      <th>is_active_member</th>\n",
       "      <th>estimated_salary</th>\n",
       "      <th>geography_Germany</th>\n",
       "      <th>geography_Spain</th>\n",
       "      <th>gender_Male</th>\n",
       "    </tr>\n",
       "  </thead>\n",
       "  <tbody>\n",
       "    <tr>\n",
       "      <th>7479</th>\n",
       "      <td>-0.89</td>\n",
       "      <td>-0.37</td>\n",
       "      <td>1.08</td>\n",
       "      <td>1.23</td>\n",
       "      <td>-0.89</td>\n",
       "      <td>1</td>\n",
       "      <td>0</td>\n",
       "      <td>-0.19</td>\n",
       "      <td>0</td>\n",
       "      <td>1</td>\n",
       "      <td>1</td>\n",
       "    </tr>\n",
       "    <tr>\n",
       "      <th>3411</th>\n",
       "      <td>0.61</td>\n",
       "      <td>-0.18</td>\n",
       "      <td>1.08</td>\n",
       "      <td>0.60</td>\n",
       "      <td>-0.89</td>\n",
       "      <td>0</td>\n",
       "      <td>0</td>\n",
       "      <td>-0.33</td>\n",
       "      <td>0</td>\n",
       "      <td>0</td>\n",
       "      <td>0</td>\n",
       "    </tr>\n",
       "    <tr>\n",
       "      <th>6027</th>\n",
       "      <td>2.05</td>\n",
       "      <td>0.48</td>\n",
       "      <td>-0.74</td>\n",
       "      <td>1.03</td>\n",
       "      <td>0.83</td>\n",
       "      <td>0</td>\n",
       "      <td>1</td>\n",
       "      <td>1.50</td>\n",
       "      <td>1</td>\n",
       "      <td>0</td>\n",
       "      <td>1</td>\n",
       "    </tr>\n",
       "    <tr>\n",
       "      <th>1247</th>\n",
       "      <td>-1.46</td>\n",
       "      <td>-1.42</td>\n",
       "      <td>0.35</td>\n",
       "      <td>-1.23</td>\n",
       "      <td>0.83</td>\n",
       "      <td>1</td>\n",
       "      <td>0</td>\n",
       "      <td>-1.07</td>\n",
       "      <td>0</td>\n",
       "      <td>0</td>\n",
       "      <td>1</td>\n",
       "    </tr>\n",
       "    <tr>\n",
       "      <th>3716</th>\n",
       "      <td>0.13</td>\n",
       "      <td>-1.13</td>\n",
       "      <td>-1.10</td>\n",
       "      <td>1.14</td>\n",
       "      <td>-0.89</td>\n",
       "      <td>0</td>\n",
       "      <td>0</td>\n",
       "      <td>1.52</td>\n",
       "      <td>1</td>\n",
       "      <td>0</td>\n",
       "      <td>0</td>\n",
       "    </tr>\n",
       "    <tr>\n",
       "      <th>...</th>\n",
       "      <td>...</td>\n",
       "      <td>...</td>\n",
       "      <td>...</td>\n",
       "      <td>...</td>\n",
       "      <td>...</td>\n",
       "      <td>...</td>\n",
       "      <td>...</td>\n",
       "      <td>...</td>\n",
       "      <td>...</td>\n",
       "      <td>...</td>\n",
       "      <td>...</td>\n",
       "    </tr>\n",
       "    <tr>\n",
       "      <th>4478</th>\n",
       "      <td>-1.07</td>\n",
       "      <td>-0.75</td>\n",
       "      <td>-0.37</td>\n",
       "      <td>-1.23</td>\n",
       "      <td>0.83</td>\n",
       "      <td>0</td>\n",
       "      <td>1</td>\n",
       "      <td>-1.28</td>\n",
       "      <td>0</td>\n",
       "      <td>0</td>\n",
       "      <td>1</td>\n",
       "    </tr>\n",
       "    <tr>\n",
       "      <th>4094</th>\n",
       "      <td>-1.45</td>\n",
       "      <td>-0.94</td>\n",
       "      <td>1.81</td>\n",
       "      <td>-1.23</td>\n",
       "      <td>0.83</td>\n",
       "      <td>0</td>\n",
       "      <td>1</td>\n",
       "      <td>-1.28</td>\n",
       "      <td>0</td>\n",
       "      <td>0</td>\n",
       "      <td>1</td>\n",
       "    </tr>\n",
       "    <tr>\n",
       "      <th>3492</th>\n",
       "      <td>0.03</td>\n",
       "      <td>0.58</td>\n",
       "      <td>-0.01</td>\n",
       "      <td>-0.31</td>\n",
       "      <td>-0.89</td>\n",
       "      <td>0</td>\n",
       "      <td>1</td>\n",
       "      <td>-0.90</td>\n",
       "      <td>0</td>\n",
       "      <td>0</td>\n",
       "      <td>0</td>\n",
       "    </tr>\n",
       "    <tr>\n",
       "      <th>2177</th>\n",
       "      <td>0.15</td>\n",
       "      <td>-1.42</td>\n",
       "      <td>-0.37</td>\n",
       "      <td>-1.23</td>\n",
       "      <td>0.83</td>\n",
       "      <td>0</td>\n",
       "      <td>1</td>\n",
       "      <td>-1.13</td>\n",
       "      <td>0</td>\n",
       "      <td>0</td>\n",
       "      <td>0</td>\n",
       "    </tr>\n",
       "    <tr>\n",
       "      <th>4578</th>\n",
       "      <td>0.40</td>\n",
       "      <td>-0.09</td>\n",
       "      <td>-1.47</td>\n",
       "      <td>-1.23</td>\n",
       "      <td>0.83</td>\n",
       "      <td>0</td>\n",
       "      <td>0</td>\n",
       "      <td>-0.95</td>\n",
       "      <td>0</td>\n",
       "      <td>0</td>\n",
       "      <td>1</td>\n",
       "    </tr>\n",
       "  </tbody>\n",
       "</table>\n",
       "<p>6000 rows × 11 columns</p>\n",
       "</div>"
      ],
      "text/plain": [
       "      credit_score   age  tenure  balance  num_of_product  has_cr_card  \\\n",
       "7479         -0.89 -0.37    1.08     1.23           -0.89            1   \n",
       "3411          0.61 -0.18    1.08     0.60           -0.89            0   \n",
       "6027          2.05  0.48   -0.74     1.03            0.83            0   \n",
       "1247         -1.46 -1.42    0.35    -1.23            0.83            1   \n",
       "3716          0.13 -1.13   -1.10     1.14           -0.89            0   \n",
       "...            ...   ...     ...      ...             ...          ...   \n",
       "4478         -1.07 -0.75   -0.37    -1.23            0.83            0   \n",
       "4094         -1.45 -0.94    1.81    -1.23            0.83            0   \n",
       "3492          0.03  0.58   -0.01    -0.31           -0.89            0   \n",
       "2177          0.15 -1.42   -0.37    -1.23            0.83            0   \n",
       "4578          0.40 -0.09   -1.47    -1.23            0.83            0   \n",
       "\n",
       "      is_active_member  estimated_salary  geography_Germany  geography_Spain  \\\n",
       "7479                 0             -0.19                  0                1   \n",
       "3411                 0             -0.33                  0                0   \n",
       "6027                 1              1.50                  1                0   \n",
       "1247                 0             -1.07                  0                0   \n",
       "3716                 0              1.52                  1                0   \n",
       "...                ...               ...                ...              ...   \n",
       "4478                 1             -1.28                  0                0   \n",
       "4094                 1             -1.28                  0                0   \n",
       "3492                 1             -0.90                  0                0   \n",
       "2177                 1             -1.13                  0                0   \n",
       "4578                 0             -0.95                  0                0   \n",
       "\n",
       "      gender_Male  \n",
       "7479            1  \n",
       "3411            0  \n",
       "6027            1  \n",
       "1247            1  \n",
       "3716            0  \n",
       "...           ...  \n",
       "4478            1  \n",
       "4094            1  \n",
       "3492            0  \n",
       "2177            0  \n",
       "4578            1  \n",
       "\n",
       "[6000 rows x 11 columns]"
      ]
     },
     "execution_count": 15,
     "metadata": {},
     "output_type": "execute_result"
    }
   ],
   "source": [
    "# проверим прошло ли масштабирование\n",
    "features_train"
   ]
  },
  {
   "cell_type": "code",
   "execution_count": 16,
   "metadata": {
    "ExecuteTime": {
     "end_time": "2022-12-23T12:33:42.549808Z",
     "start_time": "2022-12-23T12:33:42.528865Z"
    }
   },
   "outputs": [
    {
     "name": "stdout",
     "output_type": "stream",
     "text": [
      "Shapes\n",
      "Training set: (6000, 11)\n",
      "              (6000,)\n",
      "Shapes\n",
      "Valid set:    (2000, 11)\n",
      "              (2000,)\n",
      "Shapes\n",
      "Test set:     (2000, 11)\n",
      "              (2000,)\n"
     ]
    }
   ],
   "source": [
    "print('Shapes\\nTraining set: {}\\n              {}'\n",
    "  .format(features_train.shape,target_train.shape))\n",
    "print('Shapes\\nValid set:    {}\\n              {}'\n",
    "  .format(features_valid.shape,target_valid.shape))\n",
    "print('Shapes\\nTest set:     {}\\n              {}'\n",
    "  .format(features_test.shape,target_test.shape))"
   ]
  },
  {
   "cell_type": "markdown",
   "metadata": {},
   "source": [
    "## Исследование задачи"
   ]
  },
  {
   "cell_type": "markdown",
   "metadata": {},
   "source": [
    "Целевой признак - exited, который может принимать значения 1 или 0, что отражает факт ухода клиента из банка. Перед нами задача бинарной классификации. Проверим насколько сбалансированы классы в выборке."
   ]
  },
  {
   "cell_type": "code",
   "execution_count": 17,
   "metadata": {
    "ExecuteTime": {
     "end_time": "2022-12-23T12:33:42.660510Z",
     "start_time": "2022-12-23T12:33:42.635579Z"
    },
    "scrolled": true
   },
   "outputs": [
    {
     "data": {
      "text/plain": [
       "0   80.10\n",
       "1   19.90\n",
       "Name: exited, dtype: float64"
      ]
     },
     "execution_count": 17,
     "metadata": {},
     "output_type": "execute_result"
    }
   ],
   "source": [
    "target_train.value_counts(normalize=True).round(3) * 100"
   ]
  },
  {
   "cell_type": "markdown",
   "metadata": {},
   "source": [
    "Соотношение классов 19.90 - 80.10 Классы не являются сбалансированными. Обучим модели на несбалансированной выборке и получим метрики таких моделей. В качестве алгоритмов обучения используем Random Forest Classifier и Logistic Regression. На несбалансированной выборке будем использовать метрику F1, как определяющую качество модели."
   ]
  },
  {
   "cell_type": "markdown",
   "metadata": {},
   "source": [
    "**Random Forest**"
   ]
  },
  {
   "cell_type": "code",
   "execution_count": 18,
   "metadata": {
    "ExecuteTime": {
     "end_time": "2022-12-23T12:34:10.791192Z",
     "start_time": "2022-12-23T12:33:42.742291Z"
    }
   },
   "outputs": [
    {
     "name": "stderr",
     "output_type": "stream",
     "text": [
      "100%|██████████| 8/8 [00:19<00:00,  2.41s/it]"
     ]
    },
    {
     "name": "stdout",
     "output_type": "stream",
     "text": [
      "\n",
      "best_est       = 91\n",
      "best max_depth = 22\n",
      "best result F1 = 0.5888\n",
      "best AUC-ROC   = 0.7194\n",
      "CPU times: user 19.2 s, sys: 37.9 ms, total: 19.2 s\n",
      "Wall time: 19.3 s\n"
     ]
    },
    {
     "name": "stderr",
     "output_type": "stream",
     "text": [
      "\n"
     ]
    }
   ],
   "source": [
    "%%time\n",
    "for depth in tqdm(range(1, 25, 3)):\n",
    "    for est in range(1, 100, 10):\n",
    "        model_rfc = RandomForestClassifier(random_state=12345,\n",
    "                                               n_estimators=est,\n",
    "                                               max_depth=depth)\n",
    "        model_rfc.fit(features_train, target_train)\n",
    "        predicted_valid_rfc = model_rfc.predict(features_valid)\n",
    "        result_rfc = f1_score(target_valid, predicted_valid_rfc)\n",
    "        roc_auc_rfc = roc_auc_score(target_valid, predicted_valid_rfc)\n",
    "print(\n",
    "'''\n",
    "best_est       = {}\n",
    "best max_depth = {}\n",
    "best result F1 = {:,.4f}\n",
    "best AUC-ROC   = {:,.4f}'''\n",
    "        .format(est, depth, result_rfc, roc_auc_rfc))"
   ]
  },
  {
   "cell_type": "markdown",
   "metadata": {},
   "source": [
    "Максимальное значение F1 - 0.5888, достигнуто при количестве деревьев 91 и их максимальной глубине 22."
   ]
  },
  {
   "cell_type": "markdown",
   "metadata": {},
   "source": [
    "**LogisticRegression**"
   ]
  },
  {
   "cell_type": "markdown",
   "metadata": {},
   "source": [
    "Получим результат для модели с алгоритмом обучения Logistic Regression."
   ]
  },
  {
   "cell_type": "code",
   "execution_count": 19,
   "metadata": {
    "ExecuteTime": {
     "end_time": "2022-12-23T12:34:10.851661Z",
     "start_time": "2022-12-23T12:34:10.791192Z"
    }
   },
   "outputs": [
    {
     "name": "stdout",
     "output_type": "stream",
     "text": [
      "\n",
      "F1      = 0.3311\n",
      "AUC-ROC = 0.5932\n"
     ]
    }
   ],
   "source": [
    "model_lgr = LogisticRegression(random_state = 12345, solver='liblinear')\n",
    "model_lgr.fit(features_train, target_train)\n",
    "\n",
    "predicted_valid_lgr = model_lgr.predict(features_valid)\n",
    "\n",
    "result_lgr = f1_score(target_valid, predicted_valid_lgr)\n",
    "roc_auc = roc_auc_score(target_valid, predicted_valid_lgr)\n",
    "\n",
    "print('''\n",
    "F1      = {:,.4f}\n",
    "AUC-ROC = {:,.4f}'''.format(result_lgr, roc_auc))"
   ]
  },
  {
   "cell_type": "markdown",
   "metadata": {},
   "source": [
    "Метрика F1 линейной модели значительно хуже, чем у случайного леса."
   ]
  },
  {
   "cell_type": "markdown",
   "metadata": {},
   "source": [
    "Метрика F1 лучше у модели с алгоритмом Random Forest с гиперпараметрами количество оценщиков 91 и глубиной деревьев 22. Создадим таблицу scores и запишем в нее полученное значения F1 на валидационной выборки."
   ]
  },
  {
   "cell_type": "code",
   "execution_count": 20,
   "metadata": {
    "ExecuteTime": {
     "end_time": "2022-12-23T12:34:10.866885Z",
     "start_time": "2022-12-23T12:34:10.858906Z"
    }
   },
   "outputs": [],
   "source": [
    "# сохраним показатели в таблицу\n",
    "scores = {}\n",
    "scores['Unbalanced'] = result_rfc"
   ]
  },
  {
   "cell_type": "markdown",
   "metadata": {},
   "source": [
    "**Анализ результатов**"
   ]
  },
  {
   "cell_type": "code",
   "execution_count": 21,
   "metadata": {
    "ExecuteTime": {
     "end_time": "2022-12-23T12:34:10.886968Z",
     "start_time": "2022-12-23T12:34:10.876858Z"
    }
   },
   "outputs": [],
   "source": [
    "def main_param(target, predicted):\n",
    "    print('recall_score', round(recall_score(target, predicted),4))\n",
    "    print('precision_score', round(precision_score(target, predicted),4))\n",
    "    print('f1_score', round(f1_score(target, predicted),4))\n",
    "    print('AUC-ROC', round(roc_auc_score(target, predicted),4))"
   ]
  },
  {
   "cell_type": "code",
   "execution_count": 22,
   "metadata": {
    "ExecuteTime": {
     "end_time": "2022-12-23T12:34:10.909885Z",
     "start_time": "2022-12-23T12:34:10.895699Z"
    }
   },
   "outputs": [],
   "source": [
    "def confusion_data(target, predictd):\n",
    "    confusion_data = pd.DataFrame(columns=np.unique(target),\n",
    "                              index=np.unique(predictd),\n",
    "                              data=confusion_matrix(target,\n",
    "                                                    predictd))\n",
    "    sns.heatmap(confusion_data,\n",
    "                linewidths=5,\n",
    "                cmap='Oranges',\n",
    "                annot=True,\n",
    "                fmt='2.0f'\n",
    "    )\n",
    "    plt.xlabel('predictions')\n",
    "    plt.ylabel('targets');"
   ]
  },
  {
   "cell_type": "code",
   "execution_count": 23,
   "metadata": {
    "ExecuteTime": {
     "end_time": "2022-12-23T12:34:11.250175Z",
     "start_time": "2022-12-23T12:34:10.909885Z"
    }
   },
   "outputs": [
    {
     "name": "stdout",
     "output_type": "stream",
     "text": [
      "recall_score 0.4761\n",
      "precision_score 0.7713\n",
      "f1_score 0.5888\n",
      "AUC-ROC 0.7194\n",
      "\n"
     ]
    },
    {
     "data": {
      "image/png": "[encoded data removed]",
      "text/plain": [
       "<Figure size 432x288 with 2 Axes>"
      ]
     },
     "metadata": {
      "needs_background": "light"
     },
     "output_type": "display_data"
    }
   ],
   "source": [
    "main_param(target_valid, predicted_valid_rfc)\n",
    "print()\n",
    "confusion_data(target_valid, predicted_valid_rfc)"
   ]
  },
  {
   "cell_type": "code",
   "execution_count": 24,
   "metadata": {
    "ExecuteTime": {
     "end_time": "2022-12-23T12:34:11.559517Z",
     "start_time": "2022-12-23T12:34:11.254179Z"
    }
   },
   "outputs": [
    {
     "name": "stdout",
     "output_type": "stream",
     "text": [
      "recall_score 0.2344\n",
      "precision_score 0.5632\n",
      "f1_score 0.3311\n",
      "AUC-ROC 0.5932\n",
      "\n"
     ]
    },
    {
     "data": {
      "image/png": "[encoded data removed]",
      "text/plain": [
       "<Figure size 432x288 with 2 Axes>"
      ]
     },
     "metadata": {
      "needs_background": "light"
     },
     "output_type": "display_data"
    }
   ],
   "source": [
    "main_param(target_valid, predicted_valid_lgr)\n",
    "print()\n",
    "confusion_data(target_valid, predicted_valid_lgr)"
   ]
  },
  {
   "cell_type": "markdown",
   "metadata": {},
   "source": [
    "**Вывод**\n",
    "\n",
    "Мы получили модель, обученную алгоритмом Random Forest, с метрикой F1 на валидационной выборке равной 0.588.Модель плохо предсказывает положительные исходы. Причиной является дисбаланс классов в обучающей выборке."
   ]
  },
  {
   "cell_type": "markdown",
   "metadata": {},
   "source": [
    "## Борьба с дисбалансом"
   ]
  },
  {
   "cell_type": "markdown",
   "metadata": {},
   "source": [
    "**Сбалансирование веса классов**"
   ]
  },
  {
   "cell_type": "markdown",
   "metadata": {},
   "source": [
    "**Обучим алгоритм LogisticRegression**"
   ]
  },
  {
   "cell_type": "code",
   "execution_count": 25,
   "metadata": {
    "ExecuteTime": {
     "end_time": "2022-12-23T12:34:11.605199Z",
     "start_time": "2022-12-23T12:34:11.563478Z"
    }
   },
   "outputs": [],
   "source": [
    "model_blc_lgr = LogisticRegression(random_state=12345,\n",
    "                                   solver='liblinear',\n",
    "                                   class_weight='balanced')\n",
    "model_blc_lgr.fit(features_train, target_train)\n",
    "predicted_blc_lgr = model_blc_lgr.predict(features_valid)"
   ]
  },
  {
   "cell_type": "code",
   "execution_count": 26,
   "metadata": {
    "ExecuteTime": {
     "end_time": "2022-12-23T12:34:12.262033Z",
     "start_time": "2022-12-23T12:34:11.605199Z"
    }
   },
   "outputs": [
    {
     "name": "stdout",
     "output_type": "stream",
     "text": [
      "recall_score 0.6818\n",
      "precision_score 0.381\n",
      "f1_score 0.4889\n",
      "AUC-ROC 0.6946\n",
      "\n"
     ]
    },
    {
     "data": {
      "image/png": "[encoded data removed]",
      "text/plain": [
       "<Figure size 432x288 with 2 Axes>"
      ]
     },
     "metadata": {
      "needs_background": "light"
     },
     "output_type": "display_data"
    }
   ],
   "source": [
    "main_param(target_valid, predicted_blc_lgr)\n",
    "print()\n",
    "confusion_data(target_valid, predicted_blc_lgr)"
   ]
  },
  {
   "cell_type": "markdown",
   "metadata": {},
   "source": [
    "Сбалансирование веса увеличило F1 модели Logistic Regression до 0.4889."
   ]
  },
  {
   "cell_type": "code",
   "execution_count": 27,
   "metadata": {
    "ExecuteTime": {
     "end_time": "2022-12-23T12:34:13.237794Z",
     "start_time": "2022-12-23T12:34:12.268015Z"
    }
   },
   "outputs": [],
   "source": [
    "model_blc_rfc = RandomForestClassifier(random_state=12345,\n",
    "                                       class_weight='balanced')\n",
    "model_blc_rfc.fit(features_train, target_train)\n",
    "predicted_blc_rfc = model_blc_rfc.predict(features_valid)\n",
    "result_rfc = f1_score(target_valid, predicted_blc_rfc)"
   ]
  },
  {
   "cell_type": "code",
   "execution_count": 28,
   "metadata": {
    "ExecuteTime": {
     "end_time": "2022-12-23T12:34:13.528744Z",
     "start_time": "2022-12-23T12:34:13.237794Z"
    }
   },
   "outputs": [
    {
     "name": "stdout",
     "output_type": "stream",
     "text": [
      "recall_score 0.4378\n",
      "precision_score 0.7957\n",
      "f1_score 0.5648\n",
      "AUC-ROC 0.704\n",
      "\n"
     ]
    },
    {
     "data": {
      "image/png": "[encoded data removed]",
      "text/plain": [
       "<Figure size 432x288 with 2 Axes>"
      ]
     },
     "metadata": {
      "needs_background": "light"
     },
     "output_type": "display_data"
    }
   ],
   "source": [
    "main_param(target_valid, predicted_blc_rfc)\n",
    "print()\n",
    "confusion_data(target_valid, predicted_blc_rfc)"
   ]
  },
  {
   "cell_type": "markdown",
   "metadata": {},
   "source": [
    "Максимальное значение F1 0.5719 у модели случайного леса"
   ]
  },
  {
   "cell_type": "code",
   "execution_count": 29,
   "metadata": {
    "ExecuteTime": {
     "end_time": "2022-12-23T12:34:13.554319Z",
     "start_time": "2022-12-23T12:34:13.531871Z"
    }
   },
   "outputs": [],
   "source": [
    "scores['Classweighted'] = result_rfc"
   ]
  },
  {
   "cell_type": "markdown",
   "metadata": {},
   "source": [
    "**Увеличение выборки**"
   ]
  },
  {
   "cell_type": "code",
   "execution_count": 30,
   "metadata": {
    "ExecuteTime": {
     "end_time": "2022-12-23T12:34:13.583120Z",
     "start_time": "2022-12-23T12:34:13.563295Z"
    }
   },
   "outputs": [],
   "source": [
    "def upsample(features, target, repeat):\n",
    "    features_zeros = features[target == 0]\n",
    "    features_ones = features[target == 1]\n",
    "    target_zeros = target[target == 0]\n",
    "    target_ones = target[target == 1]\n",
    "\n",
    "    features_upsampled = pd.concat(\n",
    "        [features_zeros] + [features_ones] * repeat)\n",
    "    target_upsampled = pd.concat(\n",
    "        [target_zeros] + [target_ones] * repeat)\n",
    "    \n",
    "    features_upsampled, target_upsampled = shuffle(\n",
    "        features_upsampled, target_upsampled, random_state=12345)\n",
    "    \n",
    "    return features_upsampled, target_upsampled"
   ]
  },
  {
   "cell_type": "code",
   "execution_count": 31,
   "metadata": {
    "ExecuteTime": {
     "end_time": "2022-12-23T12:34:13.630066Z",
     "start_time": "2022-12-23T12:34:13.590796Z"
    },
    "scrolled": false
   },
   "outputs": [
    {
     "name": "stdout",
     "output_type": "stream",
     "text": [
      "(9588, 11)\n",
      "(9588,)\n",
      "После увеличение выборки\n",
      "0   0.50\n",
      "1   0.50\n",
      "Name: exited, dtype: float64\n"
     ]
    }
   ],
   "source": [
    "features_upsampled, target_upsampled = upsample(features_train, target_train, 4)\n",
    "\n",
    "print(features_upsampled.shape)\n",
    "print(target_upsampled.shape)\n",
    "print(\n",
    "    f'После увеличение выборки\\n{target_upsampled.value_counts(normalize=True)}'\n",
    ")"
   ]
  },
  {
   "cell_type": "markdown",
   "metadata": {},
   "source": [
    "**Random Forest**"
   ]
  },
  {
   "cell_type": "code",
   "execution_count": 32,
   "metadata": {
    "ExecuteTime": {
     "end_time": "2022-12-23T12:34:14.894078Z",
     "start_time": "2022-12-23T12:34:13.634056Z"
    }
   },
   "outputs": [],
   "source": [
    "model_rfc = RandomForestClassifier(random_state=12345,\n",
    "                                               n_estimators=91,\n",
    "                                               max_depth=22)\n",
    "model_rfc.fit(features_upsampled, target_upsampled)\n",
    "predicted_up_rfc = model_rfc.predict(features_valid)\n",
    "result_rfc = f1_score(target_valid, predicted_up_rfc)"
   ]
  },
  {
   "cell_type": "code",
   "execution_count": 33,
   "metadata": {
    "ExecuteTime": {
     "end_time": "2022-12-23T12:34:15.163333Z",
     "start_time": "2022-12-23T12:34:14.894078Z"
    }
   },
   "outputs": [
    {
     "name": "stdout",
     "output_type": "stream",
     "text": [
      "recall_score 0.5455\n",
      "precision_score 0.6533\n",
      "f1_score 0.5945\n",
      "AUC-ROC 0.7345\n",
      "\n"
     ]
    },
    {
     "data": {
      "image/png": "[encoded data removed]",
      "text/plain": [
       "<Figure size 432x288 with 2 Axes>"
      ]
     },
     "metadata": {
      "needs_background": "light"
     },
     "output_type": "display_data"
    }
   ],
   "source": [
    "main_param(target_valid, predicted_up_rfc)\n",
    "print()\n",
    "confusion_data(target_valid, predicted_up_rfc)"
   ]
  },
  {
   "cell_type": "markdown",
   "metadata": {},
   "source": [
    "F1 модели, обученной на увеличенной выборке, вырос до 0.5945, но не сильно высоко."
   ]
  },
  {
   "cell_type": "markdown",
   "metadata": {},
   "source": [
    "**LogisticRegression**"
   ]
  },
  {
   "cell_type": "code",
   "execution_count": 34,
   "metadata": {
    "ExecuteTime": {
     "end_time": "2022-12-23T12:34:15.225000Z",
     "start_time": "2022-12-23T12:34:15.167323Z"
    }
   },
   "outputs": [],
   "source": [
    "model = LogisticRegression(random_state = 12345, solver='liblinear')\n",
    "model.fit(features_upsampled, target_upsampled)\n",
    "predicted_up = model.predict(features_valid)"
   ]
  },
  {
   "cell_type": "code",
   "execution_count": 35,
   "metadata": {
    "ExecuteTime": {
     "end_time": "2022-12-23T12:34:15.497062Z",
     "start_time": "2022-12-23T12:34:15.227991Z"
    }
   },
   "outputs": [
    {
     "name": "stdout",
     "output_type": "stream",
     "text": [
      "recall_score 0.6818\n",
      "precision_score 0.381\n",
      "f1_score 0.4889\n",
      "AUC-ROC 0.6946\n",
      "\n"
     ]
    },
    {
     "data": {
      "image/png": "[encoded data removed]",
      "text/plain": [
       "<Figure size 432x288 with 2 Axes>"
      ]
     },
     "metadata": {
      "needs_background": "light"
     },
     "output_type": "display_data"
    }
   ],
   "source": [
    "main_param(target_valid, predicted_up)\n",
    "print()\n",
    "confusion_data(target_valid, predicted_up)"
   ]
  },
  {
   "cell_type": "markdown",
   "metadata": {},
   "source": [
    "Модель, обученная алгоритмом Logistic Regression, увеличила метрику F1 до 0.4889. Но для поставленной задачи это слишком мало."
   ]
  },
  {
   "cell_type": "code",
   "execution_count": 36,
   "metadata": {
    "ExecuteTime": {
     "end_time": "2022-12-23T12:34:15.513021Z",
     "start_time": "2022-12-23T12:34:15.500025Z"
    }
   },
   "outputs": [],
   "source": [
    "scores['Upsampled'] = result_rfc"
   ]
  },
  {
   "cell_type": "markdown",
   "metadata": {},
   "source": [
    "**Уменьшение выборки**"
   ]
  },
  {
   "cell_type": "code",
   "execution_count": 37,
   "metadata": {
    "ExecuteTime": {
     "end_time": "2022-12-23T12:34:15.529481Z",
     "start_time": "2022-12-23T12:34:15.516982Z"
    }
   },
   "outputs": [],
   "source": [
    "def downsample(features, target, fraction):\n",
    "    features_zeros = features[target == 0]\n",
    "    features_ones = features[target == 1]\n",
    "    target_zeros = target[target == 0]\n",
    "    target_ones = target[target == 1]\n",
    "\n",
    "    features_downsampled = pd.concat(\n",
    "        [features_zeros.sample(frac=fraction, random_state=12345)] +\n",
    "        [features_ones])\n",
    "    target_downsampled = pd.concat(\n",
    "        [target_zeros.sample(frac=fraction, random_state=12345)] +\n",
    "        [target_ones])\n",
    "\n",
    "    features_downsampled, target_downsampled = shuffle(features_downsampled,\n",
    "                                                       target_downsampled,\n",
    "                                                       random_state=12345)\n",
    "\n",
    "    return features_downsampled, target_downsampled"
   ]
  },
  {
   "cell_type": "code",
   "execution_count": 38,
   "metadata": {
    "ExecuteTime": {
     "end_time": "2022-12-23T12:34:15.574118Z",
     "start_time": "2022-12-23T12:34:15.537683Z"
    },
    "scrolled": true
   },
   "outputs": [
    {
     "name": "stdout",
     "output_type": "stream",
     "text": [
      "(2397, 11)\n",
      "(2397,)\n",
      "После уменьшения выборки\n",
      "0   0.50\n",
      "1   0.50\n",
      "Name: exited, dtype: float64\n"
     ]
    }
   ],
   "source": [
    "features_downsampled, target_downsampled = downsample(features_train,\n",
    "                                                      target_train, 0.25)\n",
    "\n",
    "print(features_downsampled.shape)\n",
    "print(target_downsampled.shape)\n",
    "print(\n",
    "    f'После уменьшения выборки\\n{target_downsampled.value_counts(normalize=True)}'\n",
    ")"
   ]
  },
  {
   "cell_type": "markdown",
   "metadata": {},
   "source": [
    "Число объектов в обучающей выборке уменьшилось более чем вдвое - 2397, а классы оказались сбалансированны. Обучим модели на новых данных."
   ]
  },
  {
   "cell_type": "markdown",
   "metadata": {},
   "source": [
    "**Random Forest**"
   ]
  },
  {
   "cell_type": "code",
   "execution_count": 39,
   "metadata": {
    "ExecuteTime": {
     "end_time": "2022-12-23T12:34:16.086823Z",
     "start_time": "2022-12-23T12:34:15.578111Z"
    }
   },
   "outputs": [],
   "source": [
    "model_rfc = RandomForestClassifier(random_state=12345,\n",
    "                                               n_estimators=91,\n",
    "                                               max_depth=22)\n",
    "model_rfc.fit(features_downsampled, target_downsampled)\n",
    "predicted_down_rfc = model_rfc.predict(features_valid)\n",
    "result_rfc = f1_score(target_valid, predicted_down_rfc)"
   ]
  },
  {
   "cell_type": "code",
   "execution_count": 40,
   "metadata": {
    "ExecuteTime": {
     "end_time": "2022-12-23T12:34:16.331237Z",
     "start_time": "2022-12-23T12:34:16.086823Z"
    }
   },
   "outputs": [
    {
     "name": "stdout",
     "output_type": "stream",
     "text": [
      "recall_score 0.7512\n",
      "precision_score 0.4729\n",
      "f1_score 0.5804\n",
      "AUC-ROC 0.765\n",
      "\n"
     ]
    },
    {
     "data": {
      "image/png": "[encoded data removed]",
      "text/plain": [
       "<Figure size 432x288 with 2 Axes>"
      ]
     },
     "metadata": {
      "needs_background": "light"
     },
     "output_type": "display_data"
    }
   ],
   "source": [
    "main_param(target_valid, predicted_down_rfc)\n",
    "print()\n",
    "confusion_data(target_valid, predicted_down_rfc)"
   ]
  },
  {
   "cell_type": "markdown",
   "metadata": {},
   "source": [
    "**LogisticRegression**"
   ]
  },
  {
   "cell_type": "code",
   "execution_count": 41,
   "metadata": {
    "ExecuteTime": {
     "end_time": "2022-12-23T12:34:16.375863Z",
     "start_time": "2022-12-23T12:34:16.337691Z"
    }
   },
   "outputs": [],
   "source": [
    "model = LogisticRegression(random_state = 12345, solver='liblinear')\n",
    "model.fit(features_downsampled, target_downsampled)\n",
    "predicted_down_lgr = model.predict(features_valid)\n",
    "f1_up = f1_score(target_valid, predicted_down_lgr)"
   ]
  },
  {
   "cell_type": "code",
   "execution_count": 42,
   "metadata": {
    "ExecuteTime": {
     "end_time": "2022-12-23T12:34:16.677078Z",
     "start_time": "2022-12-23T12:34:16.378738Z"
    }
   },
   "outputs": [
    {
     "name": "stdout",
     "output_type": "stream",
     "text": [
      "recall_score 0.6722\n",
      "precision_score 0.3782\n",
      "f1_score 0.4841\n",
      "AUC-ROC 0.6901\n",
      "\n"
     ]
    },
    {
     "data": {
      "image/png": "[encoded data removed]",
      "text/plain": [
       "<Figure size 432x288 with 2 Axes>"
      ]
     },
     "metadata": {
      "needs_background": "light"
     },
     "output_type": "display_data"
    }
   ],
   "source": [
    "main_param(target_valid, predicted_down_lgr)\n",
    "print()\n",
    "confusion_data(target_valid, predicted_down_lgr)"
   ]
  },
  {
   "cell_type": "code",
   "execution_count": 43,
   "metadata": {
    "ExecuteTime": {
     "end_time": "2022-12-23T12:34:16.692658Z",
     "start_time": "2022-12-23T12:34:16.678756Z"
    }
   },
   "outputs": [],
   "source": [
    "scores['Downsampled'] = result_rfc"
   ]
  },
  {
   "cell_type": "markdown",
   "metadata": {},
   "source": [
    "При обучении на уменьшенной выборке метрики F1 оказались немного ниже, чем на увеличенной. Logistic Regression дает результаты не лучше, чем Random Forest и хуже, чем заявленно в требованиях. Далее мы будем работать с алгоритмом Random Forest."
   ]
  },
  {
   "cell_type": "markdown",
   "metadata": {},
   "source": [
    "**Изменение порога вероятности**\n",
    "\n",
    "Попробуем изменить порог вероятности положительного класса и посмотрим как разные варианты влияют на метрики модели. За алгорит обучения принимаем Random Forest, с гиперпараметрами, полученными при обучении с увеличенной выборке. Обучать модель будем на увеличенной выборке. Порог вероятности будем изменять от 0.2 до 0.6."
   ]
  },
  {
   "cell_type": "code",
   "execution_count": 44,
   "metadata": {
    "ExecuteTime": {
     "end_time": "2022-12-23T12:34:18.034803Z",
     "start_time": "2022-12-23T12:34:16.697645Z"
    }
   },
   "outputs": [
    {
     "name": "stdout",
     "output_type": "stream",
     "text": [
      "Порог = 0.20 | Точность = 0.391, Полнота = 0.818, F1 = 0.5294\n",
      "Порог = 0.22 | Точность = 0.412, Полнота = 0.785, F1 = 0.5404\n",
      "Порог = 0.24 | Точность = 0.422, Полнота = 0.778, F1 = 0.5471\n",
      "Порог = 0.26 | Точность = 0.442, Полнота = 0.754, F1 = 0.5570\n",
      "Порог = 0.28 | Точность = 0.465, Полнота = 0.734, F1 = 0.5696\n",
      "Порог = 0.30 | Точность = 0.476, Полнота = 0.715, F1 = 0.5717\n",
      "Порог = 0.32 | Точность = 0.500, Полнота = 0.699, F1 = 0.5828\n",
      "Порог = 0.34 | Точность = 0.517, Полнота = 0.687, F1 = 0.5899\n",
      "Порог = 0.36 | Точность = 0.550, Полнота = 0.675, F1 = 0.6058\n",
      "Порог = 0.38 | Точность = 0.571, Полнота = 0.658, F1 = 0.6111\n",
      "Порог = 0.40 | Точность = 0.582, Полнота = 0.629, F1 = 0.6046\n",
      "Порог = 0.42 | Точность = 0.605, Полнота = 0.608, F1 = 0.6062\n",
      "Порог = 0.44 | Точность = 0.618, Полнота = 0.596, F1 = 0.6066\n",
      "Порог = 0.46 | Точность = 0.633, Полнота = 0.581, F1 = 0.6060\n",
      "Порог = 0.48 | Точность = 0.641, Полнота = 0.565, F1 = 0.6005\n",
      "Порог = 0.50 | Точность = 0.653, Полнота = 0.545, F1 = 0.5945\n",
      "Порог = 0.52 | Точность = 0.692, Полнота = 0.526, F1 = 0.5978\n",
      "Порог = 0.54 | Точность = 0.717, Полнота = 0.514, F1 = 0.5989\n",
      "Порог = 0.56 | Точность = 0.724, Полнота = 0.510, F1 = 0.5983\n",
      "Порог = 0.58 | Точность = 0.735, Полнота = 0.483, F1 = 0.5830\n"
     ]
    }
   ],
   "source": [
    "model_rfc.fit(features_upsampled, target_upsampled)\n",
    "probabilities_valid = model_rfc.predict_proba(features_valid)\n",
    "probabilities_one_valid = probabilities_valid[:, 1]\n",
    "\n",
    "for threshold in np.arange(0.2, 0.6, 0.02):\n",
    "    predicted_valid = probabilities_one_valid > threshold\n",
    "    precision = precision_score(target_valid, predicted_valid)\n",
    "    recall = recall_score(target_valid, predicted_valid)\n",
    "    result_rfc = f1_score(target_valid, predicted_valid)\n",
    "    \n",
    "    print(\"Порог = {:.2f} | Точность = {:.3f}, Полнота = {:.3f}, F1 = {:,.4f}\"\n",
    "          .format(threshold, precision, recall, result_rfc ))"
   ]
  },
  {
   "cell_type": "markdown",
   "metadata": {},
   "source": [
    "Максимальная F1 равна 0.6111, приходится на порог 0.38."
   ]
  },
  {
   "cell_type": "markdown",
   "metadata": {},
   "source": [
    "Построим график ошибок модели, отметим на ней кривую для случайной модели."
   ]
  },
  {
   "cell_type": "code",
   "execution_count": 45,
   "metadata": {
    "ExecuteTime": {
     "end_time": "2022-12-23T12:34:18.316781Z",
     "start_time": "2022-12-23T12:34:18.059440Z"
    },
    "scrolled": false
   },
   "outputs": [
    {
     "data": {
      "image/png": "[encoded data removed]",
      "text/plain": [
       "<Figure size 432x288 with 1 Axes>"
      ]
     },
     "metadata": {
      "needs_background": "light"
     },
     "output_type": "display_data"
    },
    {
     "name": "stdout",
     "output_type": "stream",
     "text": [
      "AUC-ROC = 0.8402\n"
     ]
    }
   ],
   "source": [
    "probabilities_valid = model_rfc.predict_proba(features_valid)\n",
    "probabilities_one_valid = probabilities_valid[:, 1]\n",
    "\n",
    "fpr, tpr, thresholds = roc_curve(target_valid, probabilities_one_valid)\n",
    "\n",
    "plt.figure()\n",
    "plt.plot(fpr, tpr)\n",
    "plt.plot([0, 1], [0, 1], linestyle='--')\n",
    "plt.xlim([0.0, 1.0])\n",
    "plt.ylim([0.0, 1.0])\n",
    "plt.xlabel('False Positive Rate')\n",
    "plt.ylabel('True Positive Rate')\n",
    "plt.title('ROC-кривая')\n",
    "plt.show()\n",
    "\n",
    "auc_roc = roc_auc_score(target_valid, probabilities_one_valid)\n",
    "\n",
    "print('AUC-ROC = {:,.4f}'.format(auc_roc))"
   ]
  },
  {
   "cell_type": "markdown",
   "metadata": {},
   "source": [
    "Максимальная F1 равна 0.6111, при пороге положительной вероятности 0.38. Полученная модель имеет хорошие предсказательные качества. Исследуем модель на тестовой выборке.Высокое значение метрики AUC-ROC подтверждает качество модели."
   ]
  },
  {
   "cell_type": "markdown",
   "metadata": {},
   "source": [
    "## Тестирование модели"
   ]
  },
  {
   "cell_type": "code",
   "execution_count": 46,
   "metadata": {
    "ExecuteTime": {
     "end_time": "2022-12-23T12:34:19.559742Z",
     "start_time": "2022-12-23T12:34:18.320775Z"
    }
   },
   "outputs": [],
   "source": [
    "model_rfc = RandomForestClassifier(random_state=12345,\n",
    "                                               n_estimators=91,\n",
    "                                               max_depth=22)\n",
    "model_rfc.fit(features_upsampled, target_upsampled)\n",
    "predicted_valid = model_rfc.predict(features_test)\n",
    "result_rfc = f1_score(target_test, predicted_valid)"
   ]
  },
  {
   "cell_type": "code",
   "execution_count": 47,
   "metadata": {
    "ExecuteTime": {
     "end_time": "2022-12-23T12:34:19.869966Z",
     "start_time": "2022-12-23T12:34:19.559742Z"
    },
    "scrolled": false
   },
   "outputs": [
    {
     "name": "stdout",
     "output_type": "stream",
     "text": [
      "\n",
      "recall_score 0.5343\n",
      "precision_score 0.6551\n",
      "f1_score 0.5885\n",
      "AUC-ROC 0.7294\n"
     ]
    },
    {
     "data": {
      "image/png": "[encoded data removed]",
      "text/plain": [
       "<Figure size 432x288 with 2 Axes>"
      ]
     },
     "metadata": {
      "needs_background": "light"
     },
     "output_type": "display_data"
    }
   ],
   "source": [
    "confusion_data(target_test,predicted_valid)\n",
    "print()\n",
    "main_param(target_test, predicted_valid)"
   ]
  },
  {
   "cell_type": "code",
   "execution_count": 48,
   "metadata": {
    "ExecuteTime": {
     "end_time": "2022-12-23T12:34:19.885592Z",
     "start_time": "2022-12-23T12:34:19.869966Z"
    }
   },
   "outputs": [],
   "source": [
    "scores['Test'] = result_rfc"
   ]
  },
  {
   "cell_type": "code",
   "execution_count": 49,
   "metadata": {
    "ExecuteTime": {
     "end_time": "2022-12-23T12:34:19.933199Z",
     "start_time": "2022-12-23T12:34:19.901211Z"
    }
   },
   "outputs": [
    {
     "data": {
      "text/plain": [
       "{'Unbalanced': 0.5887573964497042,\n",
       " 'Classweighted': 0.5648148148148148,\n",
       " 'Upsampled': 0.5945241199478488,\n",
       " 'Downsampled': 0.5804066543438077,\n",
       " 'Test': 0.5885416666666666}"
      ]
     },
     "execution_count": 49,
     "metadata": {},
     "output_type": "execute_result"
    }
   ],
   "source": [
    "scores"
   ]
  },
  {
   "cell_type": "code",
   "execution_count": 50,
   "metadata": {
    "ExecuteTime": {
     "end_time": "2022-12-23T12:34:20.254357Z",
     "start_time": "2022-12-23T12:34:19.938184Z"
    },
    "scrolled": false
   },
   "outputs": [
    {
     "data": {
      "image/png": "[encoded data removed]",
      "text/plain": [
       "<Figure size 432x288 with 1 Axes>"
      ]
     },
     "metadata": {
      "needs_background": "light"
     },
     "output_type": "display_data"
    }
   ],
   "source": [
    "scores_df = pd.DataFrame(data=scores, index=['F1']).T.reset_index()\n",
    "sns.barplot(x='index', y='F1', data=scores_df)\n",
    "plt.ylim(0.55, 0.65);"
   ]
  },
  {
   "cell_type": "markdown",
   "metadata": {},
   "source": [
    "**Вывод**\n",
    "\n",
    "Целевой признак в исходном наборе данных оказался несбалансирован - один класс встречался гораздо чаще, чем другой. Малое число объектов одного класса приводит к тому, что модель недообучается распознавать этот класс. В работе был применен ряд методов, выравнивающих наличие классов в выборке:\n",
    "\n",
    "- балансировка весов;\n",
    "- увеличение выборки с редким классом;\n",
    "- уменьшение выборки с частым классом.\n",
    "\n",
    "Лучший результат дал метод увеличения выборки. Он позволил модели более полно обучиться распознавать оба класса. Выбор типа модели производился из двух вариантов: линейной регрессии и случайного леса. Лучшие значения метрики F1 показала модель случайного леса.\n",
    "\n",
    "В результате была получена модель случайного леса с настроенными гиперпараметрами. Модель была обучена на увеличенной выборке. Предсказания выполненные на тестовой выборке оценены метрикой F1 равной 0.59. Полученную модель можно использовать для дальнейшей разработки предсказательной системы."
   ]
  },
  {
   "cell_type": "code",
   "execution_count": null,
   "metadata": {},
   "outputs": [],
   "source": []
  }
 ],
 "metadata": {
  "ExecuteTimeLog": [
   {
    "duration": 1617,
    "start_time": "2022-12-23T20:06:05.853Z"
   },
   {
    "duration": 83,
    "start_time": "2022-12-23T20:06:07.472Z"
   },
   {
    "duration": 4,
    "start_time": "2022-12-23T20:06:07.557Z"
   },
   {
    "duration": 70,
    "start_time": "2022-12-23T20:06:07.563Z"
   },
   {
    "duration": 14,
    "start_time": "2022-12-23T20:06:07.634Z"
   },
   {
    "duration": 30,
    "start_time": "2022-12-23T20:06:07.649Z"
   },
   {
    "duration": 6,
    "start_time": "2022-12-23T20:06:07.681Z"
   },
   {
    "duration": 6,
    "start_time": "2022-12-23T20:06:07.688Z"
   },
   {
    "duration": 26,
    "start_time": "2022-12-23T20:06:07.696Z"
   },
   {
    "duration": 4,
    "start_time": "2022-12-23T20:06:07.723Z"
   },
   {
    "duration": 15,
    "start_time": "2022-12-23T20:06:07.729Z"
   },
   {
    "duration": 3,
    "start_time": "2022-12-23T20:06:07.746Z"
   },
   {
    "duration": 10,
    "start_time": "2022-12-23T20:06:07.750Z"
   },
   {
    "duration": 39,
    "start_time": "2022-12-23T20:06:07.763Z"
   },
   {
    "duration": 22,
    "start_time": "2022-12-23T20:06:07.804Z"
   },
   {
    "duration": 7,
    "start_time": "2022-12-23T20:06:07.827Z"
   },
   {
    "duration": 9,
    "start_time": "2022-12-23T20:06:07.835Z"
   },
   {
    "duration": 19280,
    "start_time": "2022-12-23T20:06:07.846Z"
   },
   {
    "duration": 89,
    "start_time": "2022-12-23T20:06:27.127Z"
   },
   {
    "duration": 7,
    "start_time": "2022-12-23T20:06:27.218Z"
   },
   {
    "duration": 5,
    "start_time": "2022-12-23T20:06:27.316Z"
   },
   {
    "duration": 5,
    "start_time": "2022-12-23T20:06:27.323Z"
   },
   {
    "duration": 266,
    "start_time": "2022-12-23T20:06:27.329Z"
   },
   {
    "duration": 265,
    "start_time": "2022-12-23T20:06:27.597Z"
   },
   {
    "duration": 17,
    "start_time": "2022-12-23T20:06:27.864Z"
   },
   {
    "duration": 346,
    "start_time": "2022-12-23T20:06:27.918Z"
   },
   {
    "duration": 741,
    "start_time": "2022-12-23T20:06:28.265Z"
   },
   {
    "duration": 257,
    "start_time": "2022-12-23T20:06:29.008Z"
   },
   {
    "duration": 2,
    "start_time": "2022-12-23T20:06:29.267Z"
   },
   {
    "duration": 7,
    "start_time": "2022-12-23T20:06:29.271Z"
   },
   {
    "duration": 15,
    "start_time": "2022-12-23T20:06:29.279Z"
   },
   {
    "duration": 844,
    "start_time": "2022-12-23T20:06:29.315Z"
   },
   {
    "duration": 266,
    "start_time": "2022-12-23T20:06:30.161Z"
   },
   {
    "duration": 87,
    "start_time": "2022-12-23T20:06:30.429Z"
   },
   {
    "duration": 347,
    "start_time": "2022-12-23T20:06:30.518Z"
   },
   {
    "duration": 2,
    "start_time": "2022-12-23T20:06:30.867Z"
   },
   {
    "duration": 38,
    "start_time": "2022-12-23T20:06:30.871Z"
   },
   {
    "duration": 30,
    "start_time": "2022-12-23T20:06:30.910Z"
   },
   {
    "duration": 342,
    "start_time": "2022-12-23T20:06:30.942Z"
   },
   {
    "duration": 267,
    "start_time": "2022-12-23T20:06:31.286Z"
   },
   {
    "duration": 60,
    "start_time": "2022-12-23T20:06:31.556Z"
   },
   {
    "duration": 341,
    "start_time": "2022-12-23T20:06:31.618Z"
   },
   {
    "duration": 3,
    "start_time": "2022-12-23T20:06:31.961Z"
   },
   {
    "duration": 939,
    "start_time": "2022-12-23T20:06:31.965Z"
   },
   {
    "duration": 169,
    "start_time": "2022-12-23T20:06:32.906Z"
   },
   {
    "duration": 843,
    "start_time": "2022-12-23T20:06:33.077Z"
   },
   {
    "duration": 262,
    "start_time": "2022-12-23T20:06:33.922Z"
   },
   {
    "duration": 2,
    "start_time": "2022-12-23T20:06:34.186Z"
   },
   {
    "duration": 10,
    "start_time": "2022-12-23T20:06:34.190Z"
   },
   {
    "duration": 115,
    "start_time": "2022-12-23T20:06:34.215Z"
   }
  ],
  "hide_input": false,
  "kernelspec": {
   "display_name": "Python 3 (ipykernel)",
   "language": "python",
   "name": "python3"
  },
  "language_info": {
   "codemirror_mode": {
    "name": "ipython",
    "version": 3
   },
   "file_extension": ".py",
   "mimetype": "text/x-python",
   "name": "python",
   "nbconvert_exporter": "python",
   "pygments_lexer": "ipython3",
   "version": "3.9.12"
  },
  "nbTranslate": {
   "displayLangs": [
    "*"
   ],
   "hotkey": "alt-t",
   "langInMainMenu": true,
   "sourceLang": "en",
   "targetLang": "fr",
   "useGoogleTranslate": true
  },
  "toc": {
   "base_numbering": 1,
   "nav_menu": {},
   "number_sections": true,
   "sideBar": true,
   "skip_h1_title": true,
   "title_cell": "Содержание",
   "title_sidebar": "Contents",
   "toc_cell": true,
   "toc_position": {
    "height": "calc(100% - 180px)",
    "left": "10px",
    "top": "150px",
    "width": "365.168px"
   },
   "toc_section_display": true,
   "toc_window_display": false
  },
  "varInspector": {
   "cols": {
    "lenName": 16,
    "lenType": 16,
    "lenVar": 40
   },
   "kernels_config": {
    "python": {
     "delete_cmd_postfix": "",
     "delete_cmd_prefix": "del ",
     "library": "var_list.py",
     "varRefreshCmd": "print(var_dic_list())"
    },
    "r": {
     "delete_cmd_postfix": ") ",
     "delete_cmd_prefix": "rm(",
     "library": "var_list.r",
     "varRefreshCmd": "cat(var_dic_list()) "
    }
   },
   "types_to_exclude": [
    "module",
    "function",
    "builtin_function_or_method",
    "instance",
    "_Feature"
   ],
   "window_display": false
  }
 },
 "nbformat": 4,
 "nbformat_minor": 2
}
