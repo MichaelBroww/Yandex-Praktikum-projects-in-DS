{
 "cells": [
  {
   "cell_type": "markdown",
   "metadata": {},
   "source": [
    "# Исследование объявлений о продаже квартир\n",
    "\n",
    "В вашем распоряжении данные сервиса Яндекс.Недвижимость — архив объявлений о продаже квартир в Санкт-Петербурге и соседних населённых пунктов за несколько лет. Нужно научиться определять рыночную стоимость объектов недвижимости. Ваша задача — установить параметры. Это позволит построить автоматизированную систему: она отследит аномалии и мошенническую деятельность. \n",
    "\n",
    "По каждой квартире на продажу доступны два вида данных. Первые вписаны пользователем, вторые — получены автоматически на основе картографических данных. Например, расстояние до центра, аэропорта, ближайшего парка и водоёма. "
   ]
  },
  {
   "cell_type": "markdown",
   "metadata": {},
   "source": [
    "### Откройте файл с данными и изучите общую информацию. "
   ]
  },
  {
   "cell_type": "code",
   "execution_count": 137,
   "metadata": {},
   "outputs": [
    {
     "data": {
      "text/html": [
       "<div>\n",
       "<style scoped>\n",
       "    .dataframe tbody tr th:only-of-type {\n",
       "        vertical-align: middle;\n",
       "    }\n",
       "\n",
       "    .dataframe tbody tr th {\n",
       "        vertical-align: top;\n",
       "    }\n",
       "\n",
       "    .dataframe thead th {\n",
       "        text-align: right;\n",
       "    }\n",
       "</style>\n",
       "<table border=\"1\" class=\"dataframe\">\n",
       "  <thead>\n",
       "    <tr style=\"text-align: right;\">\n",
       "      <th></th>\n",
       "      <th>total_images</th>\n",
       "      <th>last_price</th>\n",
       "      <th>total_area</th>\n",
       "      <th>first_day_exposition</th>\n",
       "      <th>rooms</th>\n",
       "      <th>ceiling_height</th>\n",
       "      <th>floors_total</th>\n",
       "      <th>living_area</th>\n",
       "      <th>floor</th>\n",
       "      <th>is_apartment</th>\n",
       "      <th>studio</th>\n",
       "      <th>open_plan</th>\n",
       "      <th>kitchen_area</th>\n",
       "      <th>balcony</th>\n",
       "      <th>locality_name</th>\n",
       "      <th>airports_nearest</th>\n",
       "      <th>cityCenters_nearest</th>\n",
       "      <th>parks_around3000</th>\n",
       "      <th>parks_nearest</th>\n",
       "      <th>ponds_around3000</th>\n",
       "      <th>ponds_nearest</th>\n",
       "      <th>days_exposition</th>\n",
       "    </tr>\n",
       "  </thead>\n",
       "  <tbody>\n",
       "    <tr>\n",
       "      <th>0</th>\n",
       "      <td>20</td>\n",
       "      <td>13,000,000.00</td>\n",
       "      <td>108.00</td>\n",
       "      <td>2019-03-07T00:00:00</td>\n",
       "      <td>3</td>\n",
       "      <td>2.70</td>\n",
       "      <td>16.00</td>\n",
       "      <td>51.00</td>\n",
       "      <td>8</td>\n",
       "      <td>NaN</td>\n",
       "      <td>False</td>\n",
       "      <td>False</td>\n",
       "      <td>25.00</td>\n",
       "      <td>NaN</td>\n",
       "      <td>Санкт-Петербург</td>\n",
       "      <td>18,863.00</td>\n",
       "      <td>16,028.00</td>\n",
       "      <td>1.00</td>\n",
       "      <td>482.00</td>\n",
       "      <td>2.00</td>\n",
       "      <td>755.00</td>\n",
       "      <td>NaN</td>\n",
       "    </tr>\n",
       "    <tr>\n",
       "      <th>1</th>\n",
       "      <td>7</td>\n",
       "      <td>3,350,000.00</td>\n",
       "      <td>40.40</td>\n",
       "      <td>2018-12-04T00:00:00</td>\n",
       "      <td>1</td>\n",
       "      <td>NaN</td>\n",
       "      <td>11.00</td>\n",
       "      <td>18.60</td>\n",
       "      <td>1</td>\n",
       "      <td>NaN</td>\n",
       "      <td>False</td>\n",
       "      <td>False</td>\n",
       "      <td>11.00</td>\n",
       "      <td>2.00</td>\n",
       "      <td>посёлок Шушары</td>\n",
       "      <td>12,817.00</td>\n",
       "      <td>18,603.00</td>\n",
       "      <td>0.00</td>\n",
       "      <td>NaN</td>\n",
       "      <td>0.00</td>\n",
       "      <td>NaN</td>\n",
       "      <td>81.00</td>\n",
       "    </tr>\n",
       "    <tr>\n",
       "      <th>2</th>\n",
       "      <td>10</td>\n",
       "      <td>5,196,000.00</td>\n",
       "      <td>56.00</td>\n",
       "      <td>2015-08-20T00:00:00</td>\n",
       "      <td>2</td>\n",
       "      <td>NaN</td>\n",
       "      <td>5.00</td>\n",
       "      <td>34.30</td>\n",
       "      <td>4</td>\n",
       "      <td>NaN</td>\n",
       "      <td>False</td>\n",
       "      <td>False</td>\n",
       "      <td>8.30</td>\n",
       "      <td>0.00</td>\n",
       "      <td>Санкт-Петербург</td>\n",
       "      <td>21,741.00</td>\n",
       "      <td>13,933.00</td>\n",
       "      <td>1.00</td>\n",
       "      <td>90.00</td>\n",
       "      <td>2.00</td>\n",
       "      <td>574.00</td>\n",
       "      <td>558.00</td>\n",
       "    </tr>\n",
       "    <tr>\n",
       "      <th>3</th>\n",
       "      <td>0</td>\n",
       "      <td>64,900,000.00</td>\n",
       "      <td>159.00</td>\n",
       "      <td>2015-07-24T00:00:00</td>\n",
       "      <td>3</td>\n",
       "      <td>NaN</td>\n",
       "      <td>14.00</td>\n",
       "      <td>NaN</td>\n",
       "      <td>9</td>\n",
       "      <td>NaN</td>\n",
       "      <td>False</td>\n",
       "      <td>False</td>\n",
       "      <td>NaN</td>\n",
       "      <td>0.00</td>\n",
       "      <td>Санкт-Петербург</td>\n",
       "      <td>28,098.00</td>\n",
       "      <td>6,800.00</td>\n",
       "      <td>2.00</td>\n",
       "      <td>84.00</td>\n",
       "      <td>3.00</td>\n",
       "      <td>234.00</td>\n",
       "      <td>424.00</td>\n",
       "    </tr>\n",
       "    <tr>\n",
       "      <th>4</th>\n",
       "      <td>2</td>\n",
       "      <td>10,000,000.00</td>\n",
       "      <td>100.00</td>\n",
       "      <td>2018-06-19T00:00:00</td>\n",
       "      <td>2</td>\n",
       "      <td>3.03</td>\n",
       "      <td>14.00</td>\n",
       "      <td>32.00</td>\n",
       "      <td>13</td>\n",
       "      <td>NaN</td>\n",
       "      <td>False</td>\n",
       "      <td>False</td>\n",
       "      <td>41.00</td>\n",
       "      <td>NaN</td>\n",
       "      <td>Санкт-Петербург</td>\n",
       "      <td>31,856.00</td>\n",
       "      <td>8,098.00</td>\n",
       "      <td>2.00</td>\n",
       "      <td>112.00</td>\n",
       "      <td>1.00</td>\n",
       "      <td>48.00</td>\n",
       "      <td>121.00</td>\n",
       "    </tr>\n",
       "  </tbody>\n",
       "</table>\n",
       "</div>"
      ],
      "text/plain": [
       "   total_images    last_price  total_area first_day_exposition  rooms  \\\n",
       "0            20 13,000,000.00      108.00  2019-03-07T00:00:00      3   \n",
       "1             7  3,350,000.00       40.40  2018-12-04T00:00:00      1   \n",
       "2            10  5,196,000.00       56.00  2015-08-20T00:00:00      2   \n",
       "3             0 64,900,000.00      159.00  2015-07-24T00:00:00      3   \n",
       "4             2 10,000,000.00      100.00  2018-06-19T00:00:00      2   \n",
       "\n",
       "   ceiling_height  floors_total  living_area  floor is_apartment  studio  \\\n",
       "0            2.70         16.00        51.00      8          NaN   False   \n",
       "1             NaN         11.00        18.60      1          NaN   False   \n",
       "2             NaN          5.00        34.30      4          NaN   False   \n",
       "3             NaN         14.00          NaN      9          NaN   False   \n",
       "4            3.03         14.00        32.00     13          NaN   False   \n",
       "\n",
       "   open_plan  kitchen_area  balcony    locality_name  airports_nearest  \\\n",
       "0      False         25.00      NaN  Санкт-Петербург         18,863.00   \n",
       "1      False         11.00     2.00   посёлок Шушары         12,817.00   \n",
       "2      False          8.30     0.00  Санкт-Петербург         21,741.00   \n",
       "3      False           NaN     0.00  Санкт-Петербург         28,098.00   \n",
       "4      False         41.00      NaN  Санкт-Петербург         31,856.00   \n",
       "\n",
       "   cityCenters_nearest  parks_around3000  parks_nearest  ponds_around3000  \\\n",
       "0            16,028.00              1.00         482.00              2.00   \n",
       "1            18,603.00              0.00            NaN              0.00   \n",
       "2            13,933.00              1.00          90.00              2.00   \n",
       "3             6,800.00              2.00          84.00              3.00   \n",
       "4             8,098.00              2.00         112.00              1.00   \n",
       "\n",
       "   ponds_nearest  days_exposition  \n",
       "0         755.00              NaN  \n",
       "1            NaN            81.00  \n",
       "2         574.00           558.00  \n",
       "3         234.00           424.00  \n",
       "4          48.00           121.00  "
      ]
     },
     "metadata": {},
     "output_type": "display_data"
    },
    {
     "name": "stdout",
     "output_type": "stream",
     "text": [
      "Число дубликатов: 0\n",
      "\n",
      "<class 'pandas.core.frame.DataFrame'>\n",
      "RangeIndex: 23699 entries, 0 to 23698\n",
      "Data columns (total 22 columns):\n",
      " #   Column                Non-Null Count  Dtype  \n",
      "---  ------                --------------  -----  \n",
      " 0   total_images          23699 non-null  int64  \n",
      " 1   last_price            23699 non-null  float64\n",
      " 2   total_area            23699 non-null  float64\n",
      " 3   first_day_exposition  23699 non-null  object \n",
      " 4   rooms                 23699 non-null  int64  \n",
      " 5   ceiling_height        14504 non-null  float64\n",
      " 6   floors_total          23613 non-null  float64\n",
      " 7   living_area           21796 non-null  float64\n",
      " 8   floor                 23699 non-null  int64  \n",
      " 9   is_apartment          2775 non-null   object \n",
      " 10  studio                23699 non-null  bool   \n",
      " 11  open_plan             23699 non-null  bool   \n",
      " 12  kitchen_area          21421 non-null  float64\n",
      " 13  balcony               12180 non-null  float64\n",
      " 14  locality_name         23650 non-null  object \n",
      " 15  airports_nearest      18157 non-null  float64\n",
      " 16  cityCenters_nearest   18180 non-null  float64\n",
      " 17  parks_around3000      18181 non-null  float64\n",
      " 18  parks_nearest         8079 non-null   float64\n",
      " 19  ponds_around3000      18181 non-null  float64\n",
      " 20  ponds_nearest         9110 non-null   float64\n",
      " 21  days_exposition       20518 non-null  float64\n",
      "dtypes: bool(2), float64(14), int64(3), object(3)\n",
      "memory usage: 3.7+ MB\n"
     ]
    }
   ],
   "source": [
    "import matplotlib.pyplot as plt\n",
    "import pandas as pd\n",
    "import numpy as np\n",
    "import math\n",
    "data = pd.read_csv('/datasets/real_estate_data.csv', sep = '\\t')\n",
    "display(data.head())\n",
    "print('Число дубликатов:', data.duplicated().sum())\n",
    "print()\n",
    "data.info()"
   ]
  },
  {
   "cell_type": "code",
   "execution_count": 138,
   "metadata": {},
   "outputs": [
    {
     "data": {
      "text/html": [
       "<div>\n",
       "<style scoped>\n",
       "    .dataframe tbody tr th:only-of-type {\n",
       "        vertical-align: middle;\n",
       "    }\n",
       "\n",
       "    .dataframe tbody tr th {\n",
       "        vertical-align: top;\n",
       "    }\n",
       "\n",
       "    .dataframe thead th {\n",
       "        text-align: right;\n",
       "    }\n",
       "</style>\n",
       "<table border=\"1\" class=\"dataframe\">\n",
       "  <thead>\n",
       "    <tr style=\"text-align: right;\">\n",
       "      <th></th>\n",
       "      <th>total_images</th>\n",
       "      <th>last_price</th>\n",
       "      <th>total_area</th>\n",
       "      <th>rooms</th>\n",
       "      <th>ceiling_height</th>\n",
       "      <th>floors_total</th>\n",
       "      <th>living_area</th>\n",
       "      <th>floor</th>\n",
       "      <th>kitchen_area</th>\n",
       "      <th>balcony</th>\n",
       "      <th>airports_nearest</th>\n",
       "      <th>cityCenters_nearest</th>\n",
       "      <th>parks_around3000</th>\n",
       "      <th>parks_nearest</th>\n",
       "      <th>ponds_around3000</th>\n",
       "      <th>ponds_nearest</th>\n",
       "      <th>days_exposition</th>\n",
       "    </tr>\n",
       "  </thead>\n",
       "  <tbody>\n",
       "    <tr>\n",
       "      <th>count</th>\n",
       "      <td>23,699.00</td>\n",
       "      <td>23,699.00</td>\n",
       "      <td>23,699.00</td>\n",
       "      <td>23,699.00</td>\n",
       "      <td>14,504.00</td>\n",
       "      <td>23,613.00</td>\n",
       "      <td>21,796.00</td>\n",
       "      <td>23,699.00</td>\n",
       "      <td>21,421.00</td>\n",
       "      <td>12,180.00</td>\n",
       "      <td>18,157.00</td>\n",
       "      <td>18,180.00</td>\n",
       "      <td>18,181.00</td>\n",
       "      <td>8,079.00</td>\n",
       "      <td>18,181.00</td>\n",
       "      <td>9,110.00</td>\n",
       "      <td>20,518.00</td>\n",
       "    </tr>\n",
       "    <tr>\n",
       "      <th>mean</th>\n",
       "      <td>9.86</td>\n",
       "      <td>6,541,548.77</td>\n",
       "      <td>60.35</td>\n",
       "      <td>2.07</td>\n",
       "      <td>2.77</td>\n",
       "      <td>10.67</td>\n",
       "      <td>34.46</td>\n",
       "      <td>5.89</td>\n",
       "      <td>10.57</td>\n",
       "      <td>1.15</td>\n",
       "      <td>28,793.67</td>\n",
       "      <td>14,191.28</td>\n",
       "      <td>0.61</td>\n",
       "      <td>490.80</td>\n",
       "      <td>0.77</td>\n",
       "      <td>517.98</td>\n",
       "      <td>180.89</td>\n",
       "    </tr>\n",
       "    <tr>\n",
       "      <th>std</th>\n",
       "      <td>5.68</td>\n",
       "      <td>10,887,013.27</td>\n",
       "      <td>35.65</td>\n",
       "      <td>1.08</td>\n",
       "      <td>1.26</td>\n",
       "      <td>6.60</td>\n",
       "      <td>22.03</td>\n",
       "      <td>4.89</td>\n",
       "      <td>5.91</td>\n",
       "      <td>1.07</td>\n",
       "      <td>12,630.88</td>\n",
       "      <td>8,608.39</td>\n",
       "      <td>0.80</td>\n",
       "      <td>342.32</td>\n",
       "      <td>0.94</td>\n",
       "      <td>277.72</td>\n",
       "      <td>219.73</td>\n",
       "    </tr>\n",
       "    <tr>\n",
       "      <th>min</th>\n",
       "      <td>0.00</td>\n",
       "      <td>12,190.00</td>\n",
       "      <td>12.00</td>\n",
       "      <td>0.00</td>\n",
       "      <td>1.00</td>\n",
       "      <td>1.00</td>\n",
       "      <td>2.00</td>\n",
       "      <td>1.00</td>\n",
       "      <td>1.30</td>\n",
       "      <td>0.00</td>\n",
       "      <td>0.00</td>\n",
       "      <td>181.00</td>\n",
       "      <td>0.00</td>\n",
       "      <td>1.00</td>\n",
       "      <td>0.00</td>\n",
       "      <td>13.00</td>\n",
       "      <td>1.00</td>\n",
       "    </tr>\n",
       "    <tr>\n",
       "      <th>25%</th>\n",
       "      <td>6.00</td>\n",
       "      <td>3,400,000.00</td>\n",
       "      <td>40.00</td>\n",
       "      <td>1.00</td>\n",
       "      <td>2.52</td>\n",
       "      <td>5.00</td>\n",
       "      <td>18.60</td>\n",
       "      <td>2.00</td>\n",
       "      <td>7.00</td>\n",
       "      <td>0.00</td>\n",
       "      <td>18,585.00</td>\n",
       "      <td>9,238.00</td>\n",
       "      <td>0.00</td>\n",
       "      <td>288.00</td>\n",
       "      <td>0.00</td>\n",
       "      <td>294.00</td>\n",
       "      <td>45.00</td>\n",
       "    </tr>\n",
       "    <tr>\n",
       "      <th>50%</th>\n",
       "      <td>9.00</td>\n",
       "      <td>4,650,000.00</td>\n",
       "      <td>52.00</td>\n",
       "      <td>2.00</td>\n",
       "      <td>2.65</td>\n",
       "      <td>9.00</td>\n",
       "      <td>30.00</td>\n",
       "      <td>4.00</td>\n",
       "      <td>9.10</td>\n",
       "      <td>1.00</td>\n",
       "      <td>26,726.00</td>\n",
       "      <td>13,098.50</td>\n",
       "      <td>0.00</td>\n",
       "      <td>455.00</td>\n",
       "      <td>1.00</td>\n",
       "      <td>502.00</td>\n",
       "      <td>95.00</td>\n",
       "    </tr>\n",
       "    <tr>\n",
       "      <th>75%</th>\n",
       "      <td>14.00</td>\n",
       "      <td>6,800,000.00</td>\n",
       "      <td>69.90</td>\n",
       "      <td>3.00</td>\n",
       "      <td>2.80</td>\n",
       "      <td>16.00</td>\n",
       "      <td>42.30</td>\n",
       "      <td>8.00</td>\n",
       "      <td>12.00</td>\n",
       "      <td>2.00</td>\n",
       "      <td>37,273.00</td>\n",
       "      <td>16,293.00</td>\n",
       "      <td>1.00</td>\n",
       "      <td>612.00</td>\n",
       "      <td>1.00</td>\n",
       "      <td>729.00</td>\n",
       "      <td>232.00</td>\n",
       "    </tr>\n",
       "    <tr>\n",
       "      <th>max</th>\n",
       "      <td>50.00</td>\n",
       "      <td>763,000,000.00</td>\n",
       "      <td>900.00</td>\n",
       "      <td>19.00</td>\n",
       "      <td>100.00</td>\n",
       "      <td>60.00</td>\n",
       "      <td>409.70</td>\n",
       "      <td>33.00</td>\n",
       "      <td>112.00</td>\n",
       "      <td>5.00</td>\n",
       "      <td>84,869.00</td>\n",
       "      <td>65,968.00</td>\n",
       "      <td>3.00</td>\n",
       "      <td>3,190.00</td>\n",
       "      <td>3.00</td>\n",
       "      <td>1,344.00</td>\n",
       "      <td>1,580.00</td>\n",
       "    </tr>\n",
       "  </tbody>\n",
       "</table>\n",
       "</div>"
      ],
      "text/plain": [
       "       total_images     last_price  total_area     rooms  ceiling_height  \\\n",
       "count     23,699.00      23,699.00   23,699.00 23,699.00       14,504.00   \n",
       "mean           9.86   6,541,548.77       60.35      2.07            2.77   \n",
       "std            5.68  10,887,013.27       35.65      1.08            1.26   \n",
       "min            0.00      12,190.00       12.00      0.00            1.00   \n",
       "25%            6.00   3,400,000.00       40.00      1.00            2.52   \n",
       "50%            9.00   4,650,000.00       52.00      2.00            2.65   \n",
       "75%           14.00   6,800,000.00       69.90      3.00            2.80   \n",
       "max           50.00 763,000,000.00      900.00     19.00          100.00   \n",
       "\n",
       "       floors_total  living_area     floor  kitchen_area   balcony  \\\n",
       "count     23,613.00    21,796.00 23,699.00     21,421.00 12,180.00   \n",
       "mean          10.67        34.46      5.89         10.57      1.15   \n",
       "std            6.60        22.03      4.89          5.91      1.07   \n",
       "min            1.00         2.00      1.00          1.30      0.00   \n",
       "25%            5.00        18.60      2.00          7.00      0.00   \n",
       "50%            9.00        30.00      4.00          9.10      1.00   \n",
       "75%           16.00        42.30      8.00         12.00      2.00   \n",
       "max           60.00       409.70     33.00        112.00      5.00   \n",
       "\n",
       "       airports_nearest  cityCenters_nearest  parks_around3000  parks_nearest  \\\n",
       "count         18,157.00            18,180.00         18,181.00       8,079.00   \n",
       "mean          28,793.67            14,191.28              0.61         490.80   \n",
       "std           12,630.88             8,608.39              0.80         342.32   \n",
       "min                0.00               181.00              0.00           1.00   \n",
       "25%           18,585.00             9,238.00              0.00         288.00   \n",
       "50%           26,726.00            13,098.50              0.00         455.00   \n",
       "75%           37,273.00            16,293.00              1.00         612.00   \n",
       "max           84,869.00            65,968.00              3.00       3,190.00   \n",
       "\n",
       "       ponds_around3000  ponds_nearest  days_exposition  \n",
       "count         18,181.00       9,110.00        20,518.00  \n",
       "mean               0.77         517.98           180.89  \n",
       "std                0.94         277.72           219.73  \n",
       "min                0.00          13.00             1.00  \n",
       "25%                0.00         294.00            45.00  \n",
       "50%                1.00         502.00            95.00  \n",
       "75%                1.00         729.00           232.00  \n",
       "max                3.00       1,344.00         1,580.00  "
      ]
     },
     "execution_count": 138,
     "metadata": {},
     "output_type": "execute_result"
    }
   ],
   "source": [
    "pd.options.display.float_format = '{:,.2f}'.format\n",
    "pd.options.display.max_columns = 100\n",
    "data.describe()"
   ]
  },
  {
   "cell_type": "code",
   "execution_count": 139,
   "metadata": {},
   "outputs": [
    {
     "data": {
      "image/png": "[encoded data removed]",
      "text/plain": [
       "<Figure size 1080x1440 with 20 Axes>"
      ]
     },
     "metadata": {
      "needs_background": "light"
     },
     "output_type": "display_data"
    }
   ],
   "source": [
    "data.hist(figsize=(15, 20))\n",
    "plt.show()"
   ]
  },
  {
   "cell_type": "code",
   "execution_count": 140,
   "metadata": {},
   "outputs": [
    {
     "data": {
      "text/plain": [
       "total_images                0\n",
       "last_price                  0\n",
       "total_area                  0\n",
       "first_day_exposition        0\n",
       "rooms                       0\n",
       "ceiling_height           9195\n",
       "floors_total               86\n",
       "living_area              1903\n",
       "floor                       0\n",
       "is_apartment            20924\n",
       "studio                      0\n",
       "open_plan                   0\n",
       "kitchen_area             2278\n",
       "balcony                 11519\n",
       "locality_name              49\n",
       "airports_nearest         5542\n",
       "cityCenters_nearest      5519\n",
       "parks_around3000         5518\n",
       "parks_nearest           15620\n",
       "ponds_around3000         5518\n",
       "ponds_nearest           14589\n",
       "days_exposition          3181\n",
       "dtype: int64"
      ]
     },
     "execution_count": 140,
     "metadata": {},
     "output_type": "execute_result"
    }
   ],
   "source": [
    "data.isna().sum()"
   ]
  },
  {
   "cell_type": "markdown",
   "metadata": {},
   "source": [
    "**Промежуточный вывод**:\n",
    "\n",
    "Всего у нас 23699 записи. Для целого ряда столбцов есть пропущенные значения и некорректный тип данных."
   ]
  },
  {
   "cell_type": "markdown",
   "metadata": {},
   "source": [
    "### Предобработка данных"
   ]
  },
  {
   "cell_type": "code",
   "execution_count": 141,
   "metadata": {},
   "outputs": [
    {
     "name": "stdout",
     "output_type": "stream",
     "text": [
      "2    21075\n",
      "3     2529\n",
      "4       77\n",
      "5        7\n",
      "6        1\n",
      "Name: ceiling_height, dtype: int64\n"
     ]
    }
   ],
   "source": [
    "# Заполним пустые ячейки в высоте потолков медианным знаением\n",
    "data['ceiling_height'] = data['ceiling_height'].fillna(data['ceiling_height'].median())\n",
    "# Устранение аномальных значений в высоте потолков где указаны высота больше 15\n",
    "def correct_hight(row):\n",
    "  if row > 15:\n",
    "    return (row / 10)\n",
    "  else:\n",
    "    return row\n",
    "data['ceiling_height'] = data['ceiling_height'].apply(correct_hight)\n",
    "# Перевод типа в инт с округлением высоты потолка до целого значения\n",
    "data['ceiling_height'] = data['ceiling_height'].astype(np.int64)\n",
    "# Удалим аномальные значение где высота ниже 2х метров и выше 6 метров \n",
    "data = data.drop(data.loc[(data['ceiling_height'] > 6) | (data['ceiling_height'] < 2)].index)\n",
    "# Выведем количество размер потолков по высоте\n",
    "print(data['ceiling_height'].value_counts())"
   ]
  },
  {
   "cell_type": "markdown",
   "metadata": {},
   "source": [
    "**Промежуточный вывод**:\n",
    "\n",
    "Большое количество квартир с размеры потолков встречаются высотой 2х метров, встречаются и показатели выше это могут быть двух этажные квартиры, мы их не стали учитывать для анализа"
   ]
  },
  {
   "cell_type": "code",
   "execution_count": 142,
   "metadata": {},
   "outputs": [],
   "source": [
    "# Удалим позици по название населённого пункта, и этажей всего\n",
    "data.dropna(subset=['locality_name'], inplace=True)\n",
    "data.dropna(subset=['floors_total'], inplace=True)\n",
    "# Заполним пустые значения в живой площади средним значением\n",
    "living_ratio = data['living_area'].mean() / data['total_area'].mean()\n",
    "data['living_area'].fillna(living_ratio * data['total_area'], inplace =True)\n",
    "# Заполним пустые значения в площади кухни средним значением\n",
    "kitchen_ratio = data['kitchen_area'].mean() / data['total_area'].mean()\n",
    "data['kitchen_area'].fillna(kitchen_ratio * data['total_area'], inplace=True)"
   ]
  },
  {
   "cell_type": "code",
   "execution_count": 143,
   "metadata": {},
   "outputs": [],
   "source": [
    "# Удаление позиции после заполнения, где сумма площади кухни и живой превышает общей\n",
    "data = data.drop(data.loc[(data['kitchen_area'] + data['living_area']) > data['total_area']].index)"
   ]
  },
  {
   "cell_type": "code",
   "execution_count": 144,
   "metadata": {},
   "outputs": [],
   "source": [
    "# Заполнение пропусков значением False\n",
    "data['is_apartment'] = data['is_apartment'].fillna(value=False)\n",
    "# Заполнение пустых значение по количеству балконов, и изменение типа\n",
    "data['balcony'] = data['balcony'].fillna(value=0).astype(np.int32)\n",
    "# Заполнение пустых значение по количеству Парков и Прудов в радиусе 3000, и изменение типа\n",
    "data['parks_around3000'] = data['parks_around3000'].fillna(value=0).astype(np.int32)\n",
    "data['ponds_around3000'] = data['ponds_around3000'].fillna(value=0).astype(np.int32)\n",
    "# Изменение типов : Цена, Всего этажей в доме\n",
    "data['last_price'] = data['last_price'].astype(np.int32)\n",
    "data['floors_total'] = data['floors_total'].astype(np.int32)\n",
    "# Замена формата времени\n",
    "data['first_day_exposition'] = pd.to_datetime(data['first_day_exposition'], format='%Y-%m-%d %H:%M')"
   ]
  },
  {
   "cell_type": "code",
   "execution_count": 145,
   "metadata": {},
   "outputs": [],
   "source": [
    "# Замена аномальных значение в название населённого пункта\n",
    "def replace_name(row):\n",
    "  try:\n",
    "    if 'поселок' in row:\n",
    "      return row.replace('поселок', 'посёлок')\n",
    "    elif 'посёлок при железнодорожной станции' in row:\n",
    "      return row.replace('посёлок при железнодорожной станции', 'посёлок станции')\n",
    "    elif 'городской посёлок' in row:\n",
    "      return row.replace('городской посёлок', 'посёлок городского типа')     \n",
    "    elif 'коттеджный посёлок' in row:\n",
    "      return row.replace('коттеджный посёлок', 'посёлок')\n",
    "    else:\n",
    "      return row\n",
    "  except:\n",
    "    return row\n",
    "\n",
    "data['locality_name'] = data['locality_name'].apply(replace_name)"
   ]
  },
  {
   "cell_type": "code",
   "execution_count": 146,
   "metadata": {},
   "outputs": [
    {
     "name": "stdout",
     "output_type": "stream",
     "text": [
      "<class 'pandas.core.frame.DataFrame'>\n",
      "Int64Index: 23436 entries, 0 to 23698\n",
      "Data columns (total 22 columns):\n",
      " #   Column                Non-Null Count  Dtype         \n",
      "---  ------                --------------  -----         \n",
      " 0   total_images          23436 non-null  int64         \n",
      " 1   last_price            23436 non-null  int32         \n",
      " 2   total_area            23436 non-null  float64       \n",
      " 3   first_day_exposition  23436 non-null  datetime64[ns]\n",
      " 4   rooms                 23436 non-null  int64         \n",
      " 5   ceiling_height        23436 non-null  int64         \n",
      " 6   floors_total          23436 non-null  int32         \n",
      " 7   living_area           23436 non-null  float64       \n",
      " 8   floor                 23436 non-null  int64         \n",
      " 9   is_apartment          23436 non-null  bool          \n",
      " 10  studio                23436 non-null  bool          \n",
      " 11  open_plan             23436 non-null  bool          \n",
      " 12  kitchen_area          23436 non-null  float64       \n",
      " 13  balcony               23436 non-null  int32         \n",
      " 14  locality_name         23436 non-null  object        \n",
      " 15  airports_nearest      17949 non-null  float64       \n",
      " 16  cityCenters_nearest   17972 non-null  float64       \n",
      " 17  parks_around3000      23436 non-null  int32         \n",
      " 18  parks_nearest         7990 non-null   float64       \n",
      " 19  ponds_around3000      23436 non-null  int32         \n",
      " 20  ponds_nearest         8987 non-null   float64       \n",
      " 21  days_exposition       20277 non-null  float64       \n",
      "dtypes: bool(3), datetime64[ns](1), float64(8), int32(5), int64(4), object(1)\n",
      "memory usage: 3.2+ MB\n"
     ]
    }
   ],
   "source": [
    "data.info()"
   ]
  },
  {
   "cell_type": "markdown",
   "metadata": {},
   "source": [
    "**Промежуточный вывод**:\n",
    "\n",
    "- Заменили типы данных в колличественных позициях, на int для дальнейшего анализа.\n",
    "- Заменили пустые значение в позициях высота потолков, живой площади,площадь кухни,apartment, балкон, парк(пруды) в радиусе 3000\n",
    "- Решили вопрос по анаманальным значениям с названием населенных пунктов\n",
    "- Удаление пустых значений для более корректного анализа\n",
    "- Позиции где возможно брали расстояние из онлайн карт мы не стали заполнять ни какими данными, так же и день публикации на сайте\n",
    "-------------------------------------------------------\n",
    "- В колонках с количеством парков и водоемов в радиусе 3 км, а также с количеством балконов, отсутствие значений может быть связано с отсутствие наличия парков, водоемов и балконов.\n",
    "- В колонке is_apartment если квартира не была апартаментами могли ничего и не указывать.\n",
    "- В остальных колонках не заполнили значение это может быть человеческий или технический фактор."
   ]
  },
  {
   "cell_type": "markdown",
   "metadata": {},
   "source": [
    "### Посчитайте и добавьте в таблицу новые столбцы"
   ]
  },
  {
   "cell_type": "code",
   "execution_count": 147,
   "metadata": {},
   "outputs": [
    {
     "data": {
      "text/plain": [
       "0       120,370.37\n",
       "1        82,920.79\n",
       "2        92,785.71\n",
       "3       408,176.10\n",
       "4       100,000.00\n",
       "           ...    \n",
       "23694    72,490.85\n",
       "23695    52,542.37\n",
       "23696    44,091.71\n",
       "23697   149,511.40\n",
       "23698    41,795.67\n",
       "Name: price_sm, Length: 23436, dtype: float64"
      ]
     },
     "execution_count": 147,
     "metadata": {},
     "output_type": "execute_result"
    }
   ],
   "source": [
    "# Добавляем столбец цена за м²\n",
    "data['price_sm'] = data['last_price'] / data['total_area']\n",
    "data['price_sm']"
   ]
  },
  {
   "cell_type": "code",
   "execution_count": 148,
   "metadata": {},
   "outputs": [],
   "source": [
    "# Добавление столбцов с днями, месяцами, годами публикации\n",
    "data['weekday_public'] = data['first_day_exposition'].dt.weekday\n",
    "data['month_public'] = data['first_day_exposition'].dt.month\n",
    "data['year_public'] = data['first_day_exposition'].dt.year"
   ]
  },
  {
   "cell_type": "code",
   "execution_count": 149,
   "metadata": {},
   "outputs": [
    {
     "data": {
      "text/plain": [
       "другой       17238\n",
       "последний     3307\n",
       "первый        2891\n",
       "Name: type_floors, dtype: int64"
      ]
     },
     "execution_count": 149,
     "metadata": {},
     "output_type": "execute_result"
    }
   ],
   "source": [
    "# Добавление столбца с типом этажа квартиры\n",
    "def type_floors(row):\n",
    "    floor = row['floor']\n",
    "    floors_total = row['floors_total']\n",
    "    if floor == 1:\n",
    "        return 'первый'\n",
    "    elif floor > 1 and floor == floors_total:\n",
    "        return 'последний'\n",
    "    else:\n",
    "        return 'другой'\n",
    "data['type_floors'] = data.apply(type_floors, axis =1)\n",
    "data['type_floors'].value_counts()"
   ]
  },
  {
   "cell_type": "code",
   "execution_count": 150,
   "metadata": {},
   "outputs": [],
   "source": [
    "# Добавление столбца расстояние в км до центра\n",
    "def to_km(row):\n",
    "  try:\n",
    "    return round(row / 1000)\n",
    "  except:\n",
    "    return row\n",
    "data['cityCentr_km'] = data['cityCenters_nearest'].apply(to_km)"
   ]
  },
  {
   "cell_type": "markdown",
   "metadata": {},
   "source": [
    "### Проведите исследовательский анализ данных"
   ]
  },
  {
   "cell_type": "code",
   "execution_count": 151,
   "metadata": {},
   "outputs": [
    {
     "data": {
      "image/png": "[encoded data removed]",
      "text/plain": [
       "<Figure size 432x288 with 1 Axes>"
      ]
     },
     "metadata": {
      "needs_background": "light"
     },
     "output_type": "display_data"
    },
    {
     "data": {
      "image/png": "[encoded data removed]",
      "text/plain": [
       "<Figure size 432x288 with 1 Axes>"
      ]
     },
     "metadata": {
      "needs_background": "light"
     },
     "output_type": "display_data"
    },
    {
     "data": {
      "image/png": "[encoded data removed]",
      "text/plain": [
       "<Figure size 432x288 with 1 Axes>"
      ]
     },
     "metadata": {
      "needs_background": "light"
     },
     "output_type": "display_data"
    }
   ],
   "source": [
    "# Выявление количество кваритр по категорим : общая площадь, жилая площадь, площадь кухни\n",
    "rows = ['total_area', 'living_area', 'kitchen_area']\n",
    "\n",
    "for row in data[rows]:\n",
    "  data.plot(kind='hist', y=row, title=row, bins=50,grid=True, range=(0, 150))"
   ]
  },
  {
   "cell_type": "markdown",
   "metadata": {},
   "source": [
    "По выведенным данным мы видим, количество объявлений квартир\n",
    "- По общей площади продаются около 50м²\n",
    "- По живой площади около 18м²\n",
    "- По площади кухни 10м²"
   ]
  },
  {
   "cell_type": "code",
   "execution_count": 152,
   "metadata": {},
   "outputs": [
    {
     "data": {
      "text/plain": [
       "<AxesSubplot:>"
      ]
     },
     "execution_count": 152,
     "metadata": {},
     "output_type": "execute_result"
    },
    {
     "data": {
      "image/png": "[encoded data removed]",
      "text/plain": [
       "<Figure size 432x288 with 1 Axes>"
      ]
     },
     "metadata": {
      "needs_background": "light"
     },
     "output_type": "display_data"
    }
   ],
   "source": [
    "# Количество объявлений по частоте цены продажи\n",
    "pd.Series(data['last_price']).hist(bins =30, range = (0, 20_000_000))"
   ]
  },
  {
   "cell_type": "markdown",
   "metadata": {},
   "source": [
    "В основном стоимость квартир - порядка 5 миллионов. Больше 20 миллионов вариантов мало и они выглядят очень странно и некоторые - на порядок дороже."
   ]
  },
  {
   "cell_type": "code",
   "execution_count": 153,
   "metadata": {},
   "outputs": [
    {
     "data": {
      "text/plain": [
       "<AxesSubplot:>"
      ]
     },
     "execution_count": 153,
     "metadata": {},
     "output_type": "execute_result"
    },
    {
     "data": {
      "image/png": "[encoded data removed]",
      "text/plain": [
       "<Figure size 432x288 with 1 Axes>"
      ]
     },
     "metadata": {
      "needs_background": "light"
     },
     "output_type": "display_data"
    }
   ],
   "source": [
    "# Количество квартир по количество комнат\n",
    "pd.Series(data['rooms']).hist(bins =8, range = (0, 7))"
   ]
  },
  {
   "cell_type": "markdown",
   "metadata": {},
   "source": [
    "В основном квартиры состоят из 1, 2 и 3 комнат. Есть небольшая доля 4-комнатных квартир."
   ]
  },
  {
   "cell_type": "code",
   "execution_count": 154,
   "metadata": {},
   "outputs": [
    {
     "data": {
      "image/png": "[encoded data removed]",
      "text/plain": [
       "<Figure size 720x360 with 1 Axes>"
      ]
     },
     "metadata": {
      "needs_background": "light"
     },
     "output_type": "display_data"
    }
   ],
   "source": [
    "# Количество квартир по этажу\n",
    "floor_count = data['floor'].value_counts()\n",
    "fig = plt.figure(figsize = (10, 5))\n",
    "plt.bar(floor_count.index.astype(int), floor_count)\n",
    " \n",
    "plt.title(label = \"Количество объявлений о продаже квартир по этажу\", fontsize = 14)\n",
    "plt.ylabel(\"Количество объявлений\",  fontsize = 12)\n",
    "plt.xlabel( \"Этаж в квартире\", size = 12)\n",
    "plt.grid()\n",
    "plt.show()"
   ]
  },
  {
   "cell_type": "markdown",
   "metadata": {},
   "source": [
    "Частота объявление по кличеству объявлений по этажам, здесь мы видим что большенство обявление составлют квартиры до 5 этажа, чуть больше от 5 до 10 "
   ]
  },
  {
   "cell_type": "code",
   "execution_count": 155,
   "metadata": {},
   "outputs": [
    {
     "data": {
      "image/png": "[encoded data removed]",
      "text/plain": [
       "<Figure size 432x288 with 1 Axes>"
      ]
     },
     "metadata": {
      "needs_background": "light"
     },
     "output_type": "display_data"
    }
   ],
   "source": [
    "# Типы этажей по количеству объявлений\n",
    "type_floor_count = data['type_floors'].value_counts()\n",
    "plt.bar(type_floor_count.index, type_floor_count.values)\n",
    "plt.grid()\n",
    "plt.show()"
   ]
  },
  {
   "cell_type": "markdown",
   "metadata": {},
   "source": [
    "Чаще продают квартиры между первым и последним"
   ]
  },
  {
   "cell_type": "code",
   "execution_count": 156,
   "metadata": {},
   "outputs": [
    {
     "data": {
      "text/plain": [
       "<AxesSubplot:>"
      ]
     },
     "execution_count": 156,
     "metadata": {},
     "output_type": "execute_result"
    },
    {
     "data": {
      "image/png": "[encoded data removed]",
      "text/plain": [
       "<Figure size 432x288 with 1 Axes>"
      ]
     },
     "metadata": {
      "needs_background": "light"
     },
     "output_type": "display_data"
    }
   ],
   "source": [
    "# Количество объявлений по этажам в доме всего в доме\n",
    "pd.Series(data['floors_total']).hist(bins =30, range = (0,35))"
   ]
  },
  {
   "cell_type": "markdown",
   "metadata": {},
   "source": [
    "Здесь мы видим что больше всего продают квартиры где в доме 5 этаже, дальше идут объявление где дома имеют 9 этажей"
   ]
  },
  {
   "cell_type": "code",
   "execution_count": 157,
   "metadata": {},
   "outputs": [
    {
     "data": {
      "text/plain": [
       "<AxesSubplot:>"
      ]
     },
     "execution_count": 157,
     "metadata": {},
     "output_type": "execute_result"
    },
    {
     "data": {
      "image/png": "[encoded data removed]",
      "text/plain": [
       "<Figure size 432x288 with 1 Axes>"
      ]
     },
     "metadata": {
      "needs_background": "light"
     },
     "output_type": "display_data"
    }
   ],
   "source": [
    "# Количество объявлении квартир по удаленности от центра\n",
    "pd.Series(data['cityCentr_km']).hist(bins =30, range = (0,50))"
   ]
  },
  {
   "cell_type": "markdown",
   "metadata": {},
   "source": [
    "Больше продают квартиры в среднем от 10 до 18 км от центра города"
   ]
  },
  {
   "cell_type": "code",
   "execution_count": 158,
   "metadata": {},
   "outputs": [
    {
     "data": {
      "text/plain": [
       "<AxesSubplot:ylabel='Frequency'>"
      ]
     },
     "execution_count": 158,
     "metadata": {},
     "output_type": "execute_result"
    },
    {
     "data": {
      "image/png": "[encoded data removed]",
      "text/plain": [
       "<Figure size 432x288 with 1 Axes>"
      ]
     },
     "metadata": {
      "needs_background": "light"
     },
     "output_type": "display_data"
    }
   ],
   "source": [
    "# Таблица с расстояниями от центра, аэропорта и парков\n",
    "areas = ['cityCenters_nearest', 'airports_nearest', 'parks_nearest']\n",
    "data.plot(\n",
    "    kind='hist', \n",
    "    y=areas, \n",
    "    alpha=0.7, \n",
    "    histtype='step', \n",
    "    linewidth=3,\n",
    "    grid=True, \n",
    "    range=(0, 60_000),\n",
    "    label = ['Расстояние до центра в м', 'Расстояние до аэропорта', 'Расстояние до парка']\n",
    ")"
   ]
  },
  {
   "cell_type": "markdown",
   "metadata": {},
   "source": [
    "По нашим данным мы видим :\n",
    "\n",
    "- Большинство квартир продают где рассторяние до центра составляет от 10_000м до 18_000м\n",
    "- По расстоянию от аэропортов, идет чем дальше расстоянии тем меньше объявлений начиная от 11_000м\n",
    "- Большое количество парков находится близко"
   ]
  },
  {
   "cell_type": "code",
   "execution_count": 159,
   "metadata": {},
   "outputs": [
    {
     "data": {
      "text/plain": [
       "<AxesSubplot:ylabel='Frequency'>"
      ]
     },
     "execution_count": 159,
     "metadata": {},
     "output_type": "execute_result"
    },
    {
     "data": {
      "image/png": "[encoded data removed]",
      "text/plain": [
       "<Figure size 432x288 with 1 Axes>"
      ]
     },
     "metadata": {
      "needs_background": "light"
     },
     "output_type": "display_data"
    }
   ],
   "source": [
    "# День и месяц публикации\n",
    "areas = ['weekday_public', 'month_public']\n",
    "data.plot(\n",
    "    kind='hist', \n",
    "    y=areas, \n",
    "    alpha=0.7, \n",
    "    histtype='step', \n",
    "    linewidth=3,\n",
    "    grid=True, \n",
    "    range=(0, 12),\n",
    "    label = ['День публикации', 'Месяц публикации']\n",
    ")"
   ]
  },
  {
   "cell_type": "markdown",
   "metadata": {},
   "source": [
    "День публикации обычно приходится на Пн, а по месяцам люди выставляют на продажу квартиры в середине года и в конце"
   ]
  },
  {
   "cell_type": "code",
   "execution_count": 160,
   "metadata": {},
   "outputs": [
    {
     "name": "stdout",
     "output_type": "stream",
     "text": [
      "Значение маедианы: 95\n",
      "Значение среднее: 180\n"
     ]
    },
    {
     "data": {
      "image/png": "[encoded data removed]",
      "text/plain": [
       "<Figure size 432x288 with 1 Axes>"
      ]
     },
     "metadata": {
      "needs_background": "light"
     },
     "output_type": "display_data"
    },
    {
     "name": "stdout",
     "output_type": "stream",
     "text": [
      "count    20277\n",
      "mean       180\n",
      "std        219\n",
      "min          1\n",
      "25%         45\n",
      "50%         95\n",
      "75%        232\n",
      "max       1580\n",
      "Name: days_exposition, dtype: int64\n"
     ]
    }
   ],
   "source": [
    "# Время продажи квартиры\n",
    "print('Значение маедианы:', data['days_exposition'].median().astype(int))\n",
    "print('Значение среднее:', data['days_exposition'].mean().astype(int))\n",
    "data.plot(\n",
    "    kind='hist', \n",
    "    y='days_exposition', \n",
    "    title='Время продажи',\n",
    "    grid=True, \n",
    "    range=(0, 250), \n",
    "    bins=100)\n",
    "plt.show()\n",
    "print(data['days_exposition'].describe().astype(int))"
   ]
  },
  {
   "cell_type": "markdown",
   "metadata": {},
   "source": [
    "- Медианное время продажи - 95 дней.\n",
    "\n",
    "- Среднее время продажи - 180 дней\n",
    "\n",
    "- В основном квартиры продаются за срок в 100 дней\n",
    "\n",
    "- Быстрой продажей можно назвать срок в 45 дней и меньше. Долгой продажей - 232 дня\n",
    "-------------------------------------------------\n",
    "\n",
    "- На данном графике мы видим выбивающиеся знаачения так как мы ограничили вывод графика range(0, 250), тем самы на графигке мы можем увидеть, что большое количсетво снятых объявлений было через 45 и 60 дней, если мы уберем ограничение то это уже будет не так заметно. (ограничение помогло более детально рассмотреть график, так как попадаются небольшое количество значений где обьявление о продаже висело годами)"
   ]
  },
  {
   "cell_type": "code",
   "execution_count": 161,
   "metadata": {},
   "outputs": [
    {
     "data": {
      "text/plain": [
       "(0.0, 300.0)"
      ]
     },
     "execution_count": 161,
     "metadata": {},
     "output_type": "execute_result"
    },
    {
     "data": {
      "image/png": "[encoded data removed]",
      "text/plain": [
       "<Figure size 432x288 with 1 Axes>"
      ]
     },
     "metadata": {
      "needs_background": "light"
     },
     "output_type": "display_data"
    }
   ],
   "source": [
    "# Взаимосвязь общей площади кв и ценой\n",
    "data.plot(\n",
    "    x='total_area',\n",
    "    y='last_price',\n",
    "    kind='scatter',\n",
    "    grid=True)\n",
    "plt.ylim(0,60_000_000)\n",
    "plt.xlim(0,300)"
   ]
  },
  {
   "cell_type": "markdown",
   "metadata": {},
   "source": [
    "Взаимосвязь есть чем больше площадь квартиры тем больше цена"
   ]
  },
  {
   "cell_type": "code",
   "execution_count": 162,
   "metadata": {},
   "outputs": [
    {
     "data": {
      "text/plain": [
       "(0.0, 300.0)"
      ]
     },
     "execution_count": 162,
     "metadata": {},
     "output_type": "execute_result"
    },
    {
     "data": {
      "image/png": "[encoded data removed]",
      "text/plain": [
       "<Figure size 360x360 with 1 Axes>"
      ]
     },
     "metadata": {
      "needs_background": "light"
     },
     "output_type": "display_data"
    }
   ],
   "source": [
    "# Взаимосвязь жилой площади и ценой\n",
    "(\n",
    "data\n",
    "    .pivot_table(index='living_area', values='last_price')\n",
    "    .plot(grid=True, style='o', figsize=(5, 5))\n",
    ")\n",
    "plt.ylim(0,60_000_000)\n",
    "plt.xlim(0,300)"
   ]
  },
  {
   "cell_type": "markdown",
   "metadata": {},
   "source": [
    "Взаимосвязь есть, чем больше живая площаль тем больше стоимость"
   ]
  },
  {
   "cell_type": "code",
   "execution_count": 163,
   "metadata": {},
   "outputs": [
    {
     "data": {
      "text/plain": [
       "(0.0, 60.0)"
      ]
     },
     "execution_count": 163,
     "metadata": {},
     "output_type": "execute_result"
    },
    {
     "data": {
      "image/png": "[encoded data removed]",
      "text/plain": [
       "<Figure size 360x360 with 1 Axes>"
      ]
     },
     "metadata": {
      "needs_background": "light"
     },
     "output_type": "display_data"
    }
   ],
   "source": [
    "# Взаимосвязь площади кухни и ценой квартиры\n",
    "(\n",
    "data\n",
    "    .pivot_table(index='kitchen_area', values='last_price')\n",
    "    .plot(grid=True, style='o', figsize=(5, 5))\n",
    ")\n",
    "plt.ylim(0,60_000_000)\n",
    "plt.xlim(0,60)"
   ]
  },
  {
   "cell_type": "markdown",
   "metadata": {},
   "source": [
    "Взаимосвязь есть, чем больше площадь кухни тем больше стоимость"
   ]
  },
  {
   "cell_type": "code",
   "execution_count": 164,
   "metadata": {},
   "outputs": [
    {
     "data": {
      "text/plain": [
       "Text(0.5, 0, 'Количество комнат')"
      ]
     },
     "execution_count": 164,
     "metadata": {},
     "output_type": "execute_result"
    },
    {
     "data": {
      "image/png": "[encoded data removed]",
      "text/plain": [
       "<Figure size 648x360 with 1 Axes>"
      ]
     },
     "metadata": {
      "needs_background": "light"
     },
     "output_type": "display_data"
    }
   ],
   "source": [
    "# Взаимосвязь Колиество комнат и ценой квартир\n",
    "(\n",
    "data\n",
    "    .pivot_table(index='rooms', values='last_price')\n",
    "    .plot(grid=True,figsize=(9, 5))\n",
    ")\n",
    "plt.ylim(0,70_000_000)\n",
    "plt.xlim(0,7)\n",
    "plt.title(label = \"Комнаты\", fontsize = 14)\n",
    "plt.ylabel(\"Количество объявлений\",  fontsize = 12)\n",
    "plt.xlabel( \"Количество комнат\", size = 12)"
   ]
  },
  {
   "cell_type": "markdown",
   "metadata": {},
   "source": [
    "Взаимосвязь есть, чем больше комнат тем больше стоимость"
   ]
  },
  {
   "cell_type": "code",
   "execution_count": 165,
   "metadata": {},
   "outputs": [
    {
     "data": {
      "text/plain": [
       "Text(0, 0.5, 'Количество объявлений')"
      ]
     },
     "execution_count": 165,
     "metadata": {},
     "output_type": "execute_result"
    },
    {
     "data": {
      "image/png": "[encoded data removed]",
      "text/plain": [
       "<Figure size 648x360 with 1 Axes>"
      ]
     },
     "metadata": {
      "needs_background": "light"
     },
     "output_type": "display_data"
    }
   ],
   "source": [
    "# Взаимосвщяь типов этажей квартиры и ценой\n",
    "(\n",
    "data\n",
    "    .pivot_table(index='type_floors', values='last_price')\n",
    "    .plot(grid=True,figsize=(9, 5))\n",
    ")\n",
    "plt.title(label = \"Тип этажа квартиры\", fontsize = 14)\n",
    "plt.ylabel(\"Количество объявлений\",  fontsize = 12)"
   ]
  },
  {
   "cell_type": "markdown",
   "metadata": {},
   "source": [
    "Взаимосвязь с типом квартиры и стоимости, что первый эатж дешевле продают чем другой и последний"
   ]
  },
  {
   "cell_type": "code",
   "execution_count": 166,
   "metadata": {},
   "outputs": [
    {
     "data": {
      "text/plain": [
       "Text(0.5, 0, 'Год')"
      ]
     },
     "execution_count": 166,
     "metadata": {},
     "output_type": "execute_result"
    },
    {
     "data": {
      "image/png": "[encoded data removed]",
      "text/plain": [
       "<Figure size 648x360 with 1 Axes>"
      ]
     },
     "metadata": {
      "needs_background": "light"
     },
     "output_type": "display_data"
    },
    {
     "data": {
      "image/png": "[encoded data removed]",
      "text/plain": [
       "<Figure size 648x360 with 1 Axes>"
      ]
     },
     "metadata": {
      "needs_background": "light"
     },
     "output_type": "display_data"
    },
    {
     "data": {
      "image/png": "[encoded data removed]",
      "text/plain": [
       "<Figure size 648x360 with 1 Axes>"
      ]
     },
     "metadata": {
      "needs_background": "light"
     },
     "output_type": "display_data"
    }
   ],
   "source": [
    "#день публикации объявления(0 - понедельник, 1 - вторник и т.д.)\n",
    "data.pivot_table(index='weekday_public', values='last_price').plot(grid=True, figsize=(9, 5))\n",
    "plt.title(label = \"День публикации\", fontsize = 14)\n",
    "plt.ylabel(\"Количество объявлений\",  fontsize = 12)\n",
    "plt.xlabel( \"День недели\", size = 12)\n",
    "#месяц публикации объявления\n",
    "data.pivot_table(index='month_public', values='last_price').plot(grid=True, figsize=(9, 5))\n",
    "plt.title(label = \"Месяц публикаци\", fontsize = 14)\n",
    "plt.ylabel(\"Количество объявлений\",  fontsize = 12)\n",
    "plt.xlabel( \"Месяц\", size = 12)\n",
    "#год публикации объявления\n",
    "data.pivot_table(index='year_public', values='last_price').plot(grid=True, figsize=(9, 5))\n",
    "plt.title(label = \"Год публикации\", fontsize = 14)\n",
    "plt.ylabel(\"Количество объявлений\",  fontsize = 12)\n",
    "plt.xlabel( \"Год\", size = 12)"
   ]
  },
  {
   "cell_type": "markdown",
   "metadata": {},
   "source": [
    "Взаимосзявь между ценой и временем публикации мы видим\n",
    "\n",
    "- В субботу выставляют больше квартир с большой ценой, возможно это связанно с тем что первый выходной, или с тем что люди думают об большой продаже всю неделю\n",
    "- Выставляют на продажу чаще к концу года, либо боятся роста цен в следующем году , что бы успеть купить новую квартиру или хотят кординально, что то изменить в следующем\n",
    "- Чаще продавали квартиры в 2014 году"
   ]
  },
  {
   "cell_type": "code",
   "execution_count": 167,
   "metadata": {},
   "outputs": [
    {
     "name": "stdout",
     "output_type": "stream",
     "text": [
      "locality_name\n",
      "Санкт-Петербург      114702\n",
      "Пушкин               103125\n",
      "деревня Кудрово       92524\n",
      "посёлок Парголово     90135\n",
      "посёлок Мурино        85475\n",
      "посёлок Шушары        78546\n",
      "Колпино               75480\n",
      "Гатчина               68625\n",
      "Всеволожск            68572\n",
      "Выборг                58154\n",
      "Name: price_sm, dtype: int32\n",
      "\n",
      "В Санкт-Петербурге самая высокая стоимость одного квадратного метра: 114702\n",
      "В Выборге самая низкая стоимость одного квадратного метра: 58154\n"
     ]
    }
   ],
   "source": [
    "# Cредняя цена одного квадратного метра в 10 населённых пунктах с наибольшим числом объявлений\n",
    "top_ten = data['locality_name'].value_counts().head(10)\n",
    "mean_price = ( \n",
    "    data \n",
    "    .query('locality_name in (@top_ten.index)')\n",
    "    .groupby('locality_name')['price_sm'].mean().astype(np.int32)\n",
    ")\n",
    "print(mean_price.sort_values(ascending=False))\n",
    "print()\n",
    "print(f'В Санкт-Петербурге самая высокая стоимость одного квадратного метра: {mean_price.max()}')\n",
    "print(f'В Выборге самая низкая стоимость одного квадратного метра: {mean_price.min()}')"
   ]
  },
  {
   "cell_type": "markdown",
   "metadata": {},
   "source": [
    "Здесь мы видим самую высокую стоимость м² находится в Санкт-Петербурге, а населенном пункте Выборге стоимсоть за м² самая низкая. Обясняется это тем что чем ближе к Санкт-Петербургу, тем самым и к количеству парков, прудов и др строительных объектов стоимость повышается"
   ]
  },
  {
   "cell_type": "code",
   "execution_count": 168,
   "metadata": {},
   "outputs": [],
   "source": [
    "# Средняя цена каждого километра\n",
    "def km_price(row):\n",
    "  try:\n",
    "    return int(row['last_price']/row['cityCentr_km'])\n",
    "  except:\n",
    "    return None\n",
    "\n",
    "data['km_price'] = data.apply(km_price, axis =1)"
   ]
  },
  {
   "cell_type": "code",
   "execution_count": 169,
   "metadata": {},
   "outputs": [
    {
     "data": {
      "text/plain": [
       "<AxesSubplot:ylabel='Frequency'>"
      ]
     },
     "execution_count": 169,
     "metadata": {},
     "output_type": "execute_result"
    },
    {
     "data": {
      "image/png": "[encoded data removed]",
      "text/plain": [
       "<Figure size 648x360 with 1 Axes>"
      ]
     },
     "metadata": {
      "needs_background": "light"
     },
     "output_type": "display_data"
    }
   ],
   "source": [
    "# Квартиры в Санкт-Петербурге и средняя цена каждого километра\n",
    "data_spb = data.loc[data['locality_name'] == 'Санкт-Петербург']\n",
    "data_spb['km_price'].plot(kind ='hist',xlim = (0, 12_000_000), bins = 300, grid = True,figsize=(9, 5))"
   ]
  },
  {
   "cell_type": "markdown",
   "metadata": {},
   "source": [
    "Здесь мы видим средняя стоимость км в Санкт-Петербурге выше когда расстояние меньше, чем дальше от центра, объявлении все меньше и меньше"
   ]
  },
  {
   "cell_type": "code",
   "execution_count": 170,
   "metadata": {
    "scrolled": true
   },
   "outputs": [
    {
     "data": {
      "image/png": "[encoded data removed]",
      "text/plain": [
       "<Figure size 648x360 with 1 Axes>"
      ]
     },
     "metadata": {
      "needs_background": "light"
     },
     "output_type": "display_data"
    }
   ],
   "source": [
    "# Количество объектов по цене продажи объявлении и расстоянию от центра\n",
    "(\n",
    "data_spb\n",
    "    .pivot_table(index='cityCentr_km', values='last_price')\n",
    "    .plot(grid=True, figsize=(9, 5))\n",
    ")\n",
    "plt.show()"
   ]
  },
  {
   "cell_type": "code",
   "execution_count": 171,
   "metadata": {
    "scrolled": true
   },
   "outputs": [
    {
     "data": {
      "text/html": [
       "<div>\n",
       "<style scoped>\n",
       "    .dataframe tbody tr th:only-of-type {\n",
       "        vertical-align: middle;\n",
       "    }\n",
       "\n",
       "    .dataframe tbody tr th {\n",
       "        vertical-align: top;\n",
       "    }\n",
       "\n",
       "    .dataframe thead th {\n",
       "        text-align: right;\n",
       "    }\n",
       "</style>\n",
       "<table border=\"1\" class=\"dataframe\">\n",
       "  <thead>\n",
       "    <tr style=\"text-align: right;\">\n",
       "      <th></th>\n",
       "      <th>last_price</th>\n",
       "    </tr>\n",
       "    <tr>\n",
       "      <th>cityCentr_km</th>\n",
       "      <th></th>\n",
       "    </tr>\n",
       "  </thead>\n",
       "  <tbody>\n",
       "    <tr>\n",
       "      <th>0.00</th>\n",
       "      <td>30,927,928.00</td>\n",
       "    </tr>\n",
       "    <tr>\n",
       "      <th>1.00</th>\n",
       "      <td>21,143,335.44</td>\n",
       "    </tr>\n",
       "    <tr>\n",
       "      <th>2.00</th>\n",
       "      <td>17,892,114.27</td>\n",
       "    </tr>\n",
       "    <tr>\n",
       "      <th>3.00</th>\n",
       "      <td>11,146,705.37</td>\n",
       "    </tr>\n",
       "    <tr>\n",
       "      <th>4.00</th>\n",
       "      <td>13,339,077.83</td>\n",
       "    </tr>\n",
       "  </tbody>\n",
       "</table>\n",
       "</div>"
      ],
      "text/plain": [
       "                last_price\n",
       "cityCentr_km              \n",
       "0.00         30,927,928.00\n",
       "1.00         21,143,335.44\n",
       "2.00         17,892,114.27\n",
       "3.00         11,146,705.37\n",
       "4.00         13,339,077.83"
      ]
     },
     "execution_count": 171,
     "metadata": {},
     "output_type": "execute_result"
    }
   ],
   "source": [
    "s = data.pivot_table(index='cityCentr_km', values='last_price')\n",
    "s.head()"
   ]
  },
  {
   "cell_type": "markdown",
   "metadata": {},
   "source": [
    "Здесь мы видим, что чем ближе мы к центру тем больше количество объявлении"
   ]
  },
  {
   "cell_type": "markdown",
   "metadata": {},
   "source": [
    "### Общий вывод"
   ]
  },
  {
   "cell_type": "markdown",
   "metadata": {},
   "source": [
    "**Срок продажи квартиры**\n",
    "\n",
    "Чаще всего квартиру продают за 95 дней. Если меньше 45 дней, то это быстро, если дольше 230 дней - это долго.\n",
    "Есть большое число квартир, проданных всего за несколько дней после публикации.\n",
    "Также есть варианты, которые продавались несколько десятков месяцев.\n",
    "\n",
    "**Факторы, влияющие на стоимость**\n",
    "\n",
    "На стоимость больше влияет площадь квартиры, нежели число комнат. Т.е. могут быть дорогие квартиры с малым числом комнат.\n",
    "Первый этаж значительно дешевле остальных вариантов. Также стоимость квартиры на последнем этаже ниже, чем на остальных, кроме первого.\n",
    "\n",
    "**Стоимость квадратного метра в топ-10 населённых пунктов**\n",
    "\n",
    "Дороже всего квадратный метр в Санкт-Петербурге - 115199.09\n",
    "Дешевле всего квадратный метр в Выборге - 58309.2\n",
    "\n",
    "**Факторы, влияющие на стоимость в центре Санкт-Петербурга**\n",
    "\n",
    "В центре города практически нет разницы, насколько квартира удалена от условного центра города."
   ]
  }
 ],
 "metadata": {
  "ExecuteTimeLog": [
   {
    "duration": 493,
    "start_time": "2022-10-22T20:05:00.626Z"
   },
   {
    "duration": 80,
    "start_time": "2022-10-22T20:06:33.130Z"
   },
   {
    "duration": 78,
    "start_time": "2022-10-22T20:06:49.736Z"
   },
   {
    "duration": 80,
    "start_time": "2022-10-22T20:07:24.945Z"
   },
   {
    "duration": 86,
    "start_time": "2022-10-22T20:07:34.449Z"
   },
   {
    "duration": 38,
    "start_time": "2022-10-22T20:07:57.199Z"
   },
   {
    "duration": 91,
    "start_time": "2022-10-22T20:08:04.207Z"
   },
   {
    "duration": 82,
    "start_time": "2022-10-22T20:08:39.787Z"
   },
   {
    "duration": 66,
    "start_time": "2022-10-22T21:32:43.091Z"
   },
   {
    "duration": 81,
    "start_time": "2022-10-22T21:32:52.801Z"
   },
   {
    "duration": 7,
    "start_time": "2022-10-22T21:32:55.613Z"
   },
   {
    "duration": 7,
    "start_time": "2022-10-22T21:34:11.609Z"
   },
   {
    "duration": 673,
    "start_time": "2022-10-22T21:34:33.058Z"
   },
   {
    "duration": 649,
    "start_time": "2022-10-22T21:35:13.046Z"
   },
   {
    "duration": 6,
    "start_time": "2022-10-22T21:35:38.211Z"
   },
   {
    "duration": 5,
    "start_time": "2022-10-22T21:36:09.453Z"
   },
   {
    "duration": 4,
    "start_time": "2022-10-22T21:37:17.313Z"
   },
   {
    "duration": 5,
    "start_time": "2022-10-22T21:37:24.103Z"
   },
   {
    "duration": 5,
    "start_time": "2022-10-22T21:39:11.052Z"
   },
   {
    "duration": 12,
    "start_time": "2022-10-22T21:39:56.376Z"
   },
   {
    "duration": 10,
    "start_time": "2022-10-22T22:37:03.884Z"
   },
   {
    "duration": 12,
    "start_time": "2022-10-22T22:37:11.524Z"
   },
   {
    "duration": 4,
    "start_time": "2022-10-22T22:41:14.952Z"
   },
   {
    "duration": 8,
    "start_time": "2022-10-22T22:42:23.610Z"
   },
   {
    "duration": 5,
    "start_time": "2022-10-22T22:43:30.982Z"
   },
   {
    "duration": 9,
    "start_time": "2022-10-22T23:25:16.114Z"
   },
   {
    "duration": 4,
    "start_time": "2022-10-22T23:29:30.134Z"
   },
   {
    "duration": 7,
    "start_time": "2022-10-22T23:29:38.024Z"
   },
   {
    "duration": 5,
    "start_time": "2022-10-22T23:29:49.184Z"
   },
   {
    "duration": 7,
    "start_time": "2022-10-22T23:31:20.054Z"
   },
   {
    "duration": 88,
    "start_time": "2022-10-22T23:31:26.721Z"
   },
   {
    "duration": 7,
    "start_time": "2022-10-22T23:31:29.207Z"
   },
   {
    "duration": 5,
    "start_time": "2022-10-22T23:31:32.653Z"
   },
   {
    "duration": 8,
    "start_time": "2022-10-22T23:31:57.534Z"
   },
   {
    "duration": 466,
    "start_time": "2022-10-26T15:53:12.673Z"
   },
   {
    "duration": 574,
    "start_time": "2022-10-26T15:53:58.460Z"
   },
   {
    "duration": 179,
    "start_time": "2022-10-26T15:54:16.020Z"
   },
   {
    "duration": 72,
    "start_time": "2022-10-26T15:54:41.471Z"
   },
   {
    "duration": 1792,
    "start_time": "2022-10-26T15:55:14.971Z"
   },
   {
    "duration": 8,
    "start_time": "2022-10-26T15:56:13.491Z"
   },
   {
    "duration": 26,
    "start_time": "2022-10-26T15:56:29.273Z"
   },
   {
    "duration": 11,
    "start_time": "2022-10-26T15:56:53.995Z"
   },
   {
    "duration": 14,
    "start_time": "2022-10-26T15:57:16.916Z"
   },
   {
    "duration": 8,
    "start_time": "2022-10-26T15:57:45.270Z"
   },
   {
    "duration": 16,
    "start_time": "2022-10-26T15:57:58.148Z"
   },
   {
    "duration": 14,
    "start_time": "2022-10-26T16:19:21.686Z"
   },
   {
    "duration": 8,
    "start_time": "2022-10-26T16:27:09.454Z"
   },
   {
    "duration": 7,
    "start_time": "2022-10-26T16:27:41.831Z"
   },
   {
    "duration": 13,
    "start_time": "2022-10-26T16:29:01.367Z"
   },
   {
    "duration": 262,
    "start_time": "2022-10-26T16:30:36.202Z"
   },
   {
    "duration": 271,
    "start_time": "2022-10-26T16:30:50.058Z"
   },
   {
    "duration": 19,
    "start_time": "2022-10-26T16:36:07.183Z"
   },
   {
    "duration": 1014,
    "start_time": "2022-10-26T16:45:01.102Z"
   },
   {
    "duration": 244,
    "start_time": "2022-10-26T16:45:18.968Z"
   },
   {
    "duration": 139,
    "start_time": "2022-10-26T16:46:02.195Z"
   },
   {
    "duration": 137,
    "start_time": "2022-10-26T16:46:15.496Z"
   },
   {
    "duration": 240,
    "start_time": "2022-10-26T16:46:47.920Z"
   },
   {
    "duration": 132,
    "start_time": "2022-10-26T16:48:41.196Z"
   },
   {
    "duration": 24,
    "start_time": "2022-10-26T16:48:51.778Z"
   },
   {
    "duration": 212,
    "start_time": "2022-10-26T16:49:09.599Z"
   },
   {
    "duration": 207,
    "start_time": "2022-10-26T16:49:42.396Z"
   },
   {
    "duration": 207,
    "start_time": "2022-10-26T16:49:48.698Z"
   },
   {
    "duration": 1377,
    "start_time": "2022-10-26T16:50:34.302Z"
   },
   {
    "duration": 220,
    "start_time": "2022-10-26T16:50:45.099Z"
   },
   {
    "duration": 112,
    "start_time": "2022-10-26T16:50:57.100Z"
   },
   {
    "duration": 128,
    "start_time": "2022-10-26T16:51:12.535Z"
   },
   {
    "duration": 99,
    "start_time": "2022-10-26T16:51:18.745Z"
   },
   {
    "duration": 134,
    "start_time": "2022-10-26T16:51:28.567Z"
   },
   {
    "duration": 136,
    "start_time": "2022-10-26T16:51:32.821Z"
   },
   {
    "duration": 160,
    "start_time": "2022-10-26T16:52:29.106Z"
   },
   {
    "duration": 149,
    "start_time": "2022-10-26T16:52:44.005Z"
   },
   {
    "duration": 176,
    "start_time": "2022-10-26T16:53:00.458Z"
   },
   {
    "duration": 186,
    "start_time": "2022-10-26T16:53:03.941Z"
   },
   {
    "duration": 191,
    "start_time": "2022-10-26T16:53:08.667Z"
   },
   {
    "duration": 178,
    "start_time": "2022-10-26T16:53:16.110Z"
   },
   {
    "duration": 189,
    "start_time": "2022-10-26T16:53:20.334Z"
   },
   {
    "duration": 172,
    "start_time": "2022-10-26T16:53:24.294Z"
   },
   {
    "duration": 268,
    "start_time": "2022-10-26T16:53:42.067Z"
   },
   {
    "duration": 235,
    "start_time": "2022-10-26T16:54:11.878Z"
   },
   {
    "duration": 286,
    "start_time": "2022-10-26T16:55:24.195Z"
   },
   {
    "duration": 167,
    "start_time": "2022-10-26T16:55:35.695Z"
   },
   {
    "duration": 172,
    "start_time": "2022-10-26T16:55:48.712Z"
   },
   {
    "duration": 173,
    "start_time": "2022-10-26T16:56:03.827Z"
   },
   {
    "duration": 8,
    "start_time": "2022-10-26T16:56:37.500Z"
   },
   {
    "duration": 84,
    "start_time": "2022-10-26T16:56:40.564Z"
   },
   {
    "duration": 82,
    "start_time": "2022-10-26T16:57:01.348Z"
   },
   {
    "duration": 153,
    "start_time": "2022-10-26T16:58:47.138Z"
   },
   {
    "duration": 132,
    "start_time": "2022-10-26T16:59:24.174Z"
   },
   {
    "duration": 209,
    "start_time": "2022-10-26T16:59:42.703Z"
   },
   {
    "duration": 147,
    "start_time": "2022-10-26T16:59:58.981Z"
   },
   {
    "duration": 215,
    "start_time": "2022-10-26T17:04:23.137Z"
   },
   {
    "duration": 133,
    "start_time": "2022-10-26T17:05:08.596Z"
   },
   {
    "duration": 296,
    "start_time": "2022-10-26T17:05:26.761Z"
   },
   {
    "duration": 158,
    "start_time": "2022-10-26T17:05:31.326Z"
   },
   {
    "duration": 160,
    "start_time": "2022-10-26T17:05:35.202Z"
   },
   {
    "duration": 147,
    "start_time": "2022-10-26T17:05:41.216Z"
   },
   {
    "duration": 155,
    "start_time": "2022-10-26T17:05:46.914Z"
   },
   {
    "duration": 138,
    "start_time": "2022-10-26T17:05:53.100Z"
   },
   {
    "duration": 150,
    "start_time": "2022-10-26T17:05:59.874Z"
   },
   {
    "duration": 183,
    "start_time": "2022-10-26T17:06:55.844Z"
   },
   {
    "duration": 189,
    "start_time": "2022-10-26T17:07:08.710Z"
   },
   {
    "duration": 188,
    "start_time": "2022-10-26T17:07:15.536Z"
   },
   {
    "duration": 143,
    "start_time": "2022-10-26T17:07:45.624Z"
   },
   {
    "duration": 168,
    "start_time": "2022-10-26T17:07:50.453Z"
   },
   {
    "duration": 145,
    "start_time": "2022-10-26T17:10:35.116Z"
   },
   {
    "duration": 183,
    "start_time": "2022-10-26T17:10:41.958Z"
   },
   {
    "duration": 162,
    "start_time": "2022-10-26T17:10:47.370Z"
   },
   {
    "duration": 196,
    "start_time": "2022-10-26T17:12:07.560Z"
   },
   {
    "duration": 148,
    "start_time": "2022-10-26T17:12:15.343Z"
   },
   {
    "duration": 154,
    "start_time": "2022-10-26T17:12:23.154Z"
   },
   {
    "duration": 157,
    "start_time": "2022-10-26T17:12:28.601Z"
   },
   {
    "duration": 200,
    "start_time": "2022-10-26T17:12:34.805Z"
   },
   {
    "duration": 311,
    "start_time": "2022-10-26T17:12:45.808Z"
   },
   {
    "duration": 190,
    "start_time": "2022-10-26T17:12:52.815Z"
   },
   {
    "duration": 193,
    "start_time": "2022-10-26T17:12:57.861Z"
   },
   {
    "duration": 175,
    "start_time": "2022-10-26T17:13:11.236Z"
   },
   {
    "duration": 160,
    "start_time": "2022-10-26T17:15:16.460Z"
   },
   {
    "duration": 159,
    "start_time": "2022-10-26T17:15:24.359Z"
   },
   {
    "duration": 164,
    "start_time": "2022-10-26T17:15:27.105Z"
   },
   {
    "duration": 159,
    "start_time": "2022-10-26T17:15:30.595Z"
   },
   {
    "duration": 453,
    "start_time": "2022-10-26T17:15:56.871Z"
   },
   {
    "duration": 23,
    "start_time": "2022-10-26T17:17:40.021Z"
   },
   {
    "duration": 15,
    "start_time": "2022-10-26T17:18:45.616Z"
   },
   {
    "duration": 15,
    "start_time": "2022-10-26T17:18:56.647Z"
   },
   {
    "duration": 19,
    "start_time": "2022-10-26T17:19:04.416Z"
   },
   {
    "duration": 378,
    "start_time": "2022-10-26T17:19:22.674Z"
   },
   {
    "duration": 168,
    "start_time": "2022-10-26T17:19:49.529Z"
   },
   {
    "duration": 169,
    "start_time": "2022-10-26T17:19:54.695Z"
   },
   {
    "duration": 229,
    "start_time": "2022-10-26T17:19:57.945Z"
   },
   {
    "duration": 382,
    "start_time": "2022-10-26T17:20:02.535Z"
   },
   {
    "duration": 250,
    "start_time": "2022-10-26T17:20:07.753Z"
   },
   {
    "duration": 225,
    "start_time": "2022-10-26T17:20:15.696Z"
   },
   {
    "duration": 189,
    "start_time": "2022-10-26T17:21:16.631Z"
   },
   {
    "duration": 272,
    "start_time": "2022-10-26T17:21:27.843Z"
   },
   {
    "duration": 265,
    "start_time": "2022-10-26T17:21:33.402Z"
   },
   {
    "duration": 261,
    "start_time": "2022-10-26T17:21:39.498Z"
   },
   {
    "duration": 744,
    "start_time": "2022-10-26T17:21:45.696Z"
   },
   {
    "duration": 610,
    "start_time": "2022-10-26T17:21:50.296Z"
   },
   {
    "duration": 502,
    "start_time": "2022-10-26T17:22:06.918Z"
   },
   {
    "duration": 381,
    "start_time": "2022-10-26T17:23:02.224Z"
   },
   {
    "duration": 74,
    "start_time": "2022-10-26T17:23:12.808Z"
   },
   {
    "duration": 95,
    "start_time": "2022-10-26T17:23:23.439Z"
   },
   {
    "duration": 178,
    "start_time": "2022-10-26T17:23:36.271Z"
   },
   {
    "duration": 479,
    "start_time": "2022-10-26T17:34:33.473Z"
   },
   {
    "duration": 591,
    "start_time": "2022-10-26T17:34:49.962Z"
   },
   {
    "duration": 458,
    "start_time": "2022-10-26T17:35:20.689Z"
   },
   {
    "duration": 541,
    "start_time": "2022-10-26T17:38:33.399Z"
   },
   {
    "duration": 214,
    "start_time": "2022-10-26T17:38:55.101Z"
   },
   {
    "duration": 157,
    "start_time": "2022-10-26T17:40:23.902Z"
   },
   {
    "duration": 142,
    "start_time": "2022-10-26T17:41:46.099Z"
   },
   {
    "duration": 171,
    "start_time": "2022-10-26T17:42:18.441Z"
   },
   {
    "duration": 195,
    "start_time": "2022-10-26T17:42:42.529Z"
   },
   {
    "duration": 193,
    "start_time": "2022-10-26T17:43:11.924Z"
   },
   {
    "duration": 160,
    "start_time": "2022-10-26T17:44:08.631Z"
   },
   {
    "duration": 186,
    "start_time": "2022-10-26T17:44:16.099Z"
   },
   {
    "duration": 177,
    "start_time": "2022-10-26T17:44:24.811Z"
   },
   {
    "duration": 187,
    "start_time": "2022-10-26T17:44:29.753Z"
   },
   {
    "duration": 214,
    "start_time": "2022-10-26T17:44:34.511Z"
   },
   {
    "duration": 199,
    "start_time": "2022-10-26T17:44:40.799Z"
   },
   {
    "duration": 218,
    "start_time": "2022-10-26T17:44:46.523Z"
   },
   {
    "duration": 154,
    "start_time": "2022-10-26T17:44:56.498Z"
   },
   {
    "duration": 609,
    "start_time": "2022-10-26T17:45:07.422Z"
   },
   {
    "duration": 355,
    "start_time": "2022-10-26T17:45:19.047Z"
   },
   {
    "duration": 493,
    "start_time": "2022-10-26T17:45:34.428Z"
   },
   {
    "duration": 749,
    "start_time": "2022-10-26T17:51:16.253Z"
   },
   {
    "duration": 736,
    "start_time": "2022-10-26T17:51:33.964Z"
   },
   {
    "duration": 142,
    "start_time": "2022-10-26T18:08:04.291Z"
   },
   {
    "duration": 136,
    "start_time": "2022-10-26T18:08:22.392Z"
   },
   {
    "duration": 79,
    "start_time": "2022-10-26T18:08:22.530Z"
   },
   {
    "duration": 2105,
    "start_time": "2022-10-26T18:08:22.611Z"
   },
   {
    "duration": 8,
    "start_time": "2022-10-26T18:08:24.719Z"
   },
   {
    "duration": 18,
    "start_time": "2022-10-26T18:08:24.728Z"
   },
   {
    "duration": 41,
    "start_time": "2022-10-26T18:08:24.748Z"
   },
   {
    "duration": 7,
    "start_time": "2022-10-26T18:08:24.793Z"
   },
   {
    "duration": 15,
    "start_time": "2022-10-26T18:08:24.801Z"
   },
   {
    "duration": 13,
    "start_time": "2022-10-26T18:08:24.818Z"
   },
   {
    "duration": 9,
    "start_time": "2022-10-26T18:08:24.833Z"
   },
   {
    "duration": 12,
    "start_time": "2022-10-26T18:08:24.843Z"
   },
   {
    "duration": 50,
    "start_time": "2022-10-26T18:08:24.856Z"
   },
   {
    "duration": 266,
    "start_time": "2022-10-26T18:08:24.908Z"
   },
   {
    "duration": 23,
    "start_time": "2022-10-26T18:08:25.177Z"
   },
   {
    "duration": 653,
    "start_time": "2022-10-26T18:08:25.202Z"
   },
   {
    "duration": 169,
    "start_time": "2022-10-26T18:08:25.856Z"
   },
   {
    "duration": 142,
    "start_time": "2022-10-26T18:08:26.026Z"
   },
   {
    "duration": 216,
    "start_time": "2022-10-26T18:08:26.170Z"
   },
   {
    "duration": 106,
    "start_time": "2022-10-26T18:08:26.389Z"
   },
   {
    "duration": 166,
    "start_time": "2022-10-26T18:08:26.497Z"
   },
   {
    "duration": 177,
    "start_time": "2022-10-26T18:08:26.665Z"
   },
   {
    "duration": 188,
    "start_time": "2022-10-26T18:08:26.845Z"
   },
   {
    "duration": 163,
    "start_time": "2022-10-26T18:08:27.034Z"
   },
   {
    "duration": 313,
    "start_time": "2022-10-26T18:08:27.200Z"
   },
   {
    "duration": 152,
    "start_time": "2022-10-26T18:08:27.515Z"
   },
   {
    "duration": 227,
    "start_time": "2022-10-26T18:08:27.669Z"
   },
   {
    "duration": 494,
    "start_time": "2022-10-26T18:08:27.900Z"
   },
   {
    "duration": 145,
    "start_time": "2022-10-26T18:08:28.398Z"
   },
   {
    "duration": 175,
    "start_time": "2022-10-26T18:08:28.545Z"
   },
   {
    "duration": 170,
    "start_time": "2022-10-26T18:08:28.721Z"
   },
   {
    "duration": 460,
    "start_time": "2022-10-26T18:08:28.892Z"
   },
   {
    "duration": 32,
    "start_time": "2022-10-26T18:08:29.354Z"
   },
   {
    "duration": 275,
    "start_time": "2022-10-26T18:08:29.390Z"
   },
   {
    "duration": 469,
    "start_time": "2022-10-26T18:08:29.667Z"
   },
   {
    "duration": 160,
    "start_time": "2022-10-26T18:08:30.138Z"
   },
   {
    "duration": 80,
    "start_time": "2022-10-26T18:43:29.764Z"
   },
   {
    "duration": 83,
    "start_time": "2022-10-26T18:43:41.469Z"
   },
   {
    "duration": 224,
    "start_time": "2022-10-26T18:43:47.509Z"
   },
   {
    "duration": 211,
    "start_time": "2022-10-26T18:44:47.889Z"
   },
   {
    "duration": 71,
    "start_time": "2022-10-26T19:24:54.797Z"
   },
   {
    "duration": 107,
    "start_time": "2022-10-26T19:35:20.889Z"
   },
   {
    "duration": 460,
    "start_time": "2022-10-26T19:37:02.004Z"
   },
   {
    "duration": 143,
    "start_time": "2022-10-26T19:54:28.635Z"
   },
   {
    "duration": 61,
    "start_time": "2022-10-26T19:54:28.786Z"
   },
   {
    "duration": 2042,
    "start_time": "2022-10-26T19:54:28.849Z"
   },
   {
    "duration": 9,
    "start_time": "2022-10-26T19:54:30.893Z"
   },
   {
    "duration": 37,
    "start_time": "2022-10-26T19:54:30.903Z"
   },
   {
    "duration": 18,
    "start_time": "2022-10-26T19:54:30.941Z"
   },
   {
    "duration": 9,
    "start_time": "2022-10-26T19:54:30.971Z"
   },
   {
    "duration": 40,
    "start_time": "2022-10-26T19:54:30.982Z"
   },
   {
    "duration": 0,
    "start_time": "2022-10-26T19:54:31.025Z"
   },
   {
    "duration": 0,
    "start_time": "2022-10-26T19:54:31.026Z"
   },
   {
    "duration": 0,
    "start_time": "2022-10-26T19:54:31.027Z"
   },
   {
    "duration": 0,
    "start_time": "2022-10-26T19:54:31.028Z"
   },
   {
    "duration": 0,
    "start_time": "2022-10-26T19:54:31.029Z"
   },
   {
    "duration": 0,
    "start_time": "2022-10-26T19:54:31.030Z"
   },
   {
    "duration": 0,
    "start_time": "2022-10-26T19:54:31.031Z"
   },
   {
    "duration": 0,
    "start_time": "2022-10-26T19:54:31.031Z"
   },
   {
    "duration": 0,
    "start_time": "2022-10-26T19:54:31.032Z"
   },
   {
    "duration": 0,
    "start_time": "2022-10-26T19:54:31.033Z"
   },
   {
    "duration": 0,
    "start_time": "2022-10-26T19:54:31.034Z"
   },
   {
    "duration": 0,
    "start_time": "2022-10-26T19:54:31.035Z"
   },
   {
    "duration": 0,
    "start_time": "2022-10-26T19:54:31.036Z"
   },
   {
    "duration": 0,
    "start_time": "2022-10-26T19:54:31.037Z"
   },
   {
    "duration": 0,
    "start_time": "2022-10-26T19:54:31.037Z"
   },
   {
    "duration": 0,
    "start_time": "2022-10-26T19:54:31.038Z"
   },
   {
    "duration": 0,
    "start_time": "2022-10-26T19:54:31.039Z"
   },
   {
    "duration": 0,
    "start_time": "2022-10-26T19:54:31.040Z"
   },
   {
    "duration": 0,
    "start_time": "2022-10-26T19:54:31.041Z"
   },
   {
    "duration": 0,
    "start_time": "2022-10-26T19:54:31.041Z"
   },
   {
    "duration": 0,
    "start_time": "2022-10-26T19:54:31.042Z"
   },
   {
    "duration": 0,
    "start_time": "2022-10-26T19:54:31.043Z"
   },
   {
    "duration": 0,
    "start_time": "2022-10-26T19:54:31.044Z"
   },
   {
    "duration": 0,
    "start_time": "2022-10-26T19:54:31.046Z"
   },
   {
    "duration": 0,
    "start_time": "2022-10-26T19:54:31.079Z"
   },
   {
    "duration": 0,
    "start_time": "2022-10-26T19:54:31.080Z"
   },
   {
    "duration": 12,
    "start_time": "2022-10-26T19:55:03.634Z"
   },
   {
    "duration": 129,
    "start_time": "2022-10-26T19:55:56.394Z"
   },
   {
    "duration": 97,
    "start_time": "2022-10-26T19:55:56.525Z"
   },
   {
    "duration": 1926,
    "start_time": "2022-10-26T19:55:56.624Z"
   },
   {
    "duration": 8,
    "start_time": "2022-10-26T19:55:58.552Z"
   },
   {
    "duration": 36,
    "start_time": "2022-10-26T19:55:58.561Z"
   },
   {
    "duration": 19,
    "start_time": "2022-10-26T19:55:58.599Z"
   },
   {
    "duration": 6,
    "start_time": "2022-10-26T19:55:58.619Z"
   },
   {
    "duration": 22,
    "start_time": "2022-10-26T19:55:58.627Z"
   },
   {
    "duration": 44,
    "start_time": "2022-10-26T19:55:58.651Z"
   },
   {
    "duration": 20,
    "start_time": "2022-10-26T19:55:58.698Z"
   },
   {
    "duration": 6,
    "start_time": "2022-10-26T19:55:58.720Z"
   },
   {
    "duration": 15,
    "start_time": "2022-10-26T19:55:58.727Z"
   },
   {
    "duration": 315,
    "start_time": "2022-10-26T19:55:58.743Z"
   },
   {
    "duration": 22,
    "start_time": "2022-10-26T19:55:59.060Z"
   },
   {
    "duration": 679,
    "start_time": "2022-10-26T19:55:59.088Z"
   },
   {
    "duration": 218,
    "start_time": "2022-10-26T19:55:59.769Z"
   },
   {
    "duration": 143,
    "start_time": "2022-10-26T19:55:59.992Z"
   },
   {
    "duration": 224,
    "start_time": "2022-10-26T19:56:00.137Z"
   },
   {
    "duration": 124,
    "start_time": "2022-10-26T19:56:00.363Z"
   },
   {
    "duration": 156,
    "start_time": "2022-10-26T19:56:00.489Z"
   },
   {
    "duration": 170,
    "start_time": "2022-10-26T19:56:00.647Z"
   },
   {
    "duration": 191,
    "start_time": "2022-10-26T19:56:00.819Z"
   },
   {
    "duration": 172,
    "start_time": "2022-10-26T19:56:01.012Z"
   },
   {
    "duration": 297,
    "start_time": "2022-10-26T19:56:01.191Z"
   },
   {
    "duration": 184,
    "start_time": "2022-10-26T19:56:01.489Z"
   },
   {
    "duration": 168,
    "start_time": "2022-10-26T19:56:01.681Z"
   },
   {
    "duration": 164,
    "start_time": "2022-10-26T19:56:01.851Z"
   },
   {
    "duration": 540,
    "start_time": "2022-10-26T19:56:02.018Z"
   },
   {
    "duration": 167,
    "start_time": "2022-10-26T19:56:02.559Z"
   },
   {
    "duration": 512,
    "start_time": "2022-10-26T19:56:02.728Z"
   },
   {
    "duration": 16,
    "start_time": "2022-10-26T19:56:03.241Z"
   },
   {
    "duration": 288,
    "start_time": "2022-10-26T19:56:03.259Z"
   },
   {
    "duration": 515,
    "start_time": "2022-10-26T19:56:03.549Z"
   },
   {
    "duration": 158,
    "start_time": "2022-10-26T19:56:04.065Z"
   },
   {
    "duration": 1186,
    "start_time": "2022-10-27T11:50:34.380Z"
   },
   {
    "duration": 1950,
    "start_time": "2022-10-27T11:50:43.844Z"
   },
   {
    "duration": 101,
    "start_time": "2022-10-27T11:57:24.261Z"
   },
   {
    "duration": 19,
    "start_time": "2022-10-27T11:57:30.858Z"
   },
   {
    "duration": 202,
    "start_time": "2022-10-27T12:09:47.414Z"
   },
   {
    "duration": 72,
    "start_time": "2022-10-27T12:09:47.624Z"
   },
   {
    "duration": 2354,
    "start_time": "2022-10-27T12:09:47.698Z"
   },
   {
    "duration": 12,
    "start_time": "2022-10-27T12:09:50.054Z"
   },
   {
    "duration": 57,
    "start_time": "2022-10-27T12:09:50.069Z"
   },
   {
    "duration": 79,
    "start_time": "2022-10-27T12:09:50.128Z"
   },
   {
    "duration": 85,
    "start_time": "2022-10-27T12:09:50.209Z"
   },
   {
    "duration": 20,
    "start_time": "2022-10-27T12:09:53.980Z"
   },
   {
    "duration": 26,
    "start_time": "2022-10-27T12:11:32.852Z"
   },
   {
    "duration": 10,
    "start_time": "2022-10-27T12:11:35.172Z"
   },
   {
    "duration": 19,
    "start_time": "2022-10-27T12:11:37.668Z"
   },
   {
    "duration": 23,
    "start_time": "2022-10-27T12:12:30.807Z"
   },
   {
    "duration": 23,
    "start_time": "2022-10-27T12:12:34.972Z"
   },
   {
    "duration": 180,
    "start_time": "2022-10-27T12:45:07.105Z"
   },
   {
    "duration": 171,
    "start_time": "2022-10-27T12:45:35.972Z"
   },
   {
    "duration": 288,
    "start_time": "2022-10-27T12:45:55.300Z"
   },
   {
    "duration": 391,
    "start_time": "2022-10-27T12:46:20.115Z"
   },
   {
    "duration": 21,
    "start_time": "2022-10-27T13:08:12.905Z"
   },
   {
    "duration": 135,
    "start_time": "2022-10-27T13:08:20.782Z"
   },
   {
    "duration": 71,
    "start_time": "2022-10-27T13:08:20.920Z"
   },
   {
    "duration": 1976,
    "start_time": "2022-10-27T13:08:20.993Z"
   },
   {
    "duration": 10,
    "start_time": "2022-10-27T13:08:22.972Z"
   },
   {
    "duration": 41,
    "start_time": "2022-10-27T13:08:22.984Z"
   },
   {
    "duration": 20,
    "start_time": "2022-10-27T13:08:23.026Z"
   },
   {
    "duration": 9,
    "start_time": "2022-10-27T13:08:23.048Z"
   },
   {
    "duration": 25,
    "start_time": "2022-10-27T13:08:23.059Z"
   },
   {
    "duration": 11,
    "start_time": "2022-10-27T13:08:23.086Z"
   },
   {
    "duration": 20,
    "start_time": "2022-10-27T13:08:23.122Z"
   },
   {
    "duration": 8,
    "start_time": "2022-10-27T13:08:23.144Z"
   },
   {
    "duration": 41,
    "start_time": "2022-10-27T13:08:23.155Z"
   },
   {
    "duration": 376,
    "start_time": "2022-10-27T13:08:23.198Z"
   },
   {
    "duration": 12,
    "start_time": "2022-10-27T13:08:23.577Z"
   },
   {
    "duration": 747,
    "start_time": "2022-10-27T13:08:23.591Z"
   },
   {
    "duration": 209,
    "start_time": "2022-10-27T13:08:24.340Z"
   },
   {
    "duration": 159,
    "start_time": "2022-10-27T13:08:24.552Z"
   },
   {
    "duration": 199,
    "start_time": "2022-10-27T13:08:24.713Z"
   },
   {
    "duration": 113,
    "start_time": "2022-10-27T13:08:24.914Z"
   },
   {
    "duration": 175,
    "start_time": "2022-10-27T13:08:25.028Z"
   },
   {
    "duration": 170,
    "start_time": "2022-10-27T13:08:25.205Z"
   },
   {
    "duration": 268,
    "start_time": "2022-10-27T13:08:25.377Z"
   },
   {
    "duration": 175,
    "start_time": "2022-10-27T13:08:25.646Z"
   },
   {
    "duration": 297,
    "start_time": "2022-10-27T13:08:25.823Z"
   },
   {
    "duration": 189,
    "start_time": "2022-10-27T13:08:26.122Z"
   },
   {
    "duration": 163,
    "start_time": "2022-10-27T13:08:26.313Z"
   },
   {
    "duration": 172,
    "start_time": "2022-10-27T13:08:26.477Z"
   },
   {
    "duration": 187,
    "start_time": "2022-10-27T13:08:26.653Z"
   },
   {
    "duration": 165,
    "start_time": "2022-10-27T13:08:26.841Z"
   },
   {
    "duration": 520,
    "start_time": "2022-10-27T13:08:27.008Z"
   },
   {
    "duration": 19,
    "start_time": "2022-10-27T13:08:31.000Z"
   },
   {
    "duration": 7,
    "start_time": "2022-10-27T13:10:55.129Z"
   },
   {
    "duration": 10,
    "start_time": "2022-10-27T13:11:04.467Z"
   },
   {
    "duration": 7,
    "start_time": "2022-10-27T13:12:30.871Z"
   },
   {
    "duration": 7,
    "start_time": "2022-10-27T13:13:20.820Z"
   },
   {
    "duration": 8,
    "start_time": "2022-10-27T13:13:27.399Z"
   },
   {
    "duration": 13,
    "start_time": "2022-10-27T13:13:37.006Z"
   },
   {
    "duration": 14,
    "start_time": "2022-10-27T13:13:42.212Z"
   },
   {
    "duration": 93,
    "start_time": "2022-10-27T13:14:07.469Z"
   },
   {
    "duration": 17,
    "start_time": "2022-10-27T13:14:23.575Z"
   },
   {
    "duration": 15,
    "start_time": "2022-10-27T13:14:46.565Z"
   },
   {
    "duration": 13,
    "start_time": "2022-10-27T13:14:56.236Z"
   },
   {
    "duration": 8,
    "start_time": "2022-10-27T13:16:04.641Z"
   },
   {
    "duration": 128,
    "start_time": "2022-10-27T13:16:20.310Z"
   },
   {
    "duration": 82,
    "start_time": "2022-10-27T13:16:20.440Z"
   },
   {
    "duration": 1738,
    "start_time": "2022-10-27T13:16:20.524Z"
   },
   {
    "duration": 8,
    "start_time": "2022-10-27T13:16:22.264Z"
   },
   {
    "duration": 21,
    "start_time": "2022-10-27T13:16:22.274Z"
   },
   {
    "duration": 30,
    "start_time": "2022-10-27T13:16:22.296Z"
   },
   {
    "duration": 6,
    "start_time": "2022-10-27T13:16:22.328Z"
   },
   {
    "duration": 19,
    "start_time": "2022-10-27T13:16:22.335Z"
   },
   {
    "duration": 9,
    "start_time": "2022-10-27T13:16:22.356Z"
   },
   {
    "duration": 17,
    "start_time": "2022-10-27T13:16:22.367Z"
   },
   {
    "duration": 40,
    "start_time": "2022-10-27T13:16:22.386Z"
   },
   {
    "duration": 29,
    "start_time": "2022-10-27T13:16:22.428Z"
   },
   {
    "duration": 375,
    "start_time": "2022-10-27T13:16:22.458Z"
   },
   {
    "duration": 13,
    "start_time": "2022-10-27T13:16:22.834Z"
   },
   {
    "duration": 648,
    "start_time": "2022-10-27T13:16:22.848Z"
   },
   {
    "duration": 168,
    "start_time": "2022-10-27T13:16:23.498Z"
   },
   {
    "duration": 141,
    "start_time": "2022-10-27T13:16:23.667Z"
   },
   {
    "duration": 196,
    "start_time": "2022-10-27T13:16:23.809Z"
   },
   {
    "duration": 105,
    "start_time": "2022-10-27T13:16:24.007Z"
   },
   {
    "duration": 167,
    "start_time": "2022-10-27T13:16:24.114Z"
   },
   {
    "duration": 151,
    "start_time": "2022-10-27T13:16:24.283Z"
   },
   {
    "duration": 179,
    "start_time": "2022-10-27T13:16:24.435Z"
   },
   {
    "duration": 245,
    "start_time": "2022-10-27T13:16:24.620Z"
   },
   {
    "duration": 279,
    "start_time": "2022-10-27T13:16:24.867Z"
   },
   {
    "duration": 174,
    "start_time": "2022-10-27T13:16:25.148Z"
   },
   {
    "duration": 166,
    "start_time": "2022-10-27T13:16:25.324Z"
   },
   {
    "duration": 165,
    "start_time": "2022-10-27T13:16:25.492Z"
   },
   {
    "duration": 178,
    "start_time": "2022-10-27T13:16:25.661Z"
   },
   {
    "duration": 156,
    "start_time": "2022-10-27T13:16:25.841Z"
   },
   {
    "duration": 459,
    "start_time": "2022-10-27T13:16:25.999Z"
   },
   {
    "duration": 15,
    "start_time": "2022-10-27T13:16:26.459Z"
   },
   {
    "duration": 348,
    "start_time": "2022-10-27T13:16:26.476Z"
   },
   {
    "duration": 446,
    "start_time": "2022-10-27T13:16:26.826Z"
   },
   {
    "duration": 143,
    "start_time": "2022-10-27T13:16:27.274Z"
   },
   {
    "duration": 14,
    "start_time": "2022-10-27T13:16:27.420Z"
   },
   {
    "duration": 135,
    "start_time": "2022-10-27T13:24:32.387Z"
   },
   {
    "duration": 62,
    "start_time": "2022-10-27T13:24:32.524Z"
   },
   {
    "duration": 1825,
    "start_time": "2022-10-27T13:24:32.588Z"
   },
   {
    "duration": 10,
    "start_time": "2022-10-27T13:24:34.415Z"
   },
   {
    "duration": 17,
    "start_time": "2022-10-27T13:24:34.427Z"
   },
   {
    "duration": 18,
    "start_time": "2022-10-27T13:24:34.445Z"
   },
   {
    "duration": 6,
    "start_time": "2022-10-27T13:24:34.465Z"
   },
   {
    "duration": 16,
    "start_time": "2022-10-27T13:24:34.472Z"
   },
   {
    "duration": 32,
    "start_time": "2022-10-27T13:24:34.490Z"
   },
   {
    "duration": 26,
    "start_time": "2022-10-27T13:24:34.524Z"
   },
   {
    "duration": 6,
    "start_time": "2022-10-27T13:24:34.551Z"
   },
   {
    "duration": 17,
    "start_time": "2022-10-27T13:24:34.558Z"
   },
   {
    "duration": 258,
    "start_time": "2022-10-27T13:24:34.576Z"
   },
   {
    "duration": 12,
    "start_time": "2022-10-27T13:24:34.836Z"
   },
   {
    "duration": 653,
    "start_time": "2022-10-27T13:24:34.849Z"
   },
   {
    "duration": 327,
    "start_time": "2022-10-27T13:24:35.504Z"
   },
   {
    "duration": 153,
    "start_time": "2022-10-27T13:24:35.833Z"
   },
   {
    "duration": 197,
    "start_time": "2022-10-27T13:24:35.988Z"
   },
   {
    "duration": 113,
    "start_time": "2022-10-27T13:24:36.187Z"
   },
   {
    "duration": 171,
    "start_time": "2022-10-27T13:24:36.302Z"
   },
   {
    "duration": 168,
    "start_time": "2022-10-27T13:24:36.475Z"
   },
   {
    "duration": 190,
    "start_time": "2022-10-27T13:24:36.645Z"
   },
   {
    "duration": 170,
    "start_time": "2022-10-27T13:24:36.836Z"
   },
   {
    "duration": 313,
    "start_time": "2022-10-27T13:24:37.008Z"
   },
   {
    "duration": 207,
    "start_time": "2022-10-27T13:24:37.323Z"
   },
   {
    "duration": 175,
    "start_time": "2022-10-27T13:24:37.532Z"
   },
   {
    "duration": 299,
    "start_time": "2022-10-27T13:24:37.709Z"
   },
   {
    "duration": 182,
    "start_time": "2022-10-27T13:24:38.020Z"
   },
   {
    "duration": 172,
    "start_time": "2022-10-27T13:24:38.204Z"
   },
   {
    "duration": 527,
    "start_time": "2022-10-27T13:24:38.378Z"
   },
   {
    "duration": 29,
    "start_time": "2022-10-27T13:24:38.907Z"
   },
   {
    "duration": 350,
    "start_time": "2022-10-27T13:24:38.938Z"
   },
   {
    "duration": 471,
    "start_time": "2022-10-27T13:24:39.289Z"
   },
   {
    "duration": 281,
    "start_time": "2022-10-27T13:24:39.762Z"
   },
   {
    "duration": 15,
    "start_time": "2022-10-27T13:24:40.045Z"
   },
   {
    "duration": 9,
    "start_time": "2022-10-27T13:27:49.775Z"
   },
   {
    "duration": 138,
    "start_time": "2022-10-27T13:28:00.326Z"
   },
   {
    "duration": 87,
    "start_time": "2022-10-27T13:28:00.466Z"
   },
   {
    "duration": 1877,
    "start_time": "2022-10-27T13:28:00.555Z"
   },
   {
    "duration": 9,
    "start_time": "2022-10-27T13:28:02.434Z"
   },
   {
    "duration": 62,
    "start_time": "2022-10-27T13:28:02.445Z"
   },
   {
    "duration": 15,
    "start_time": "2022-10-27T13:28:02.509Z"
   },
   {
    "duration": 23,
    "start_time": "2022-10-27T13:28:02.526Z"
   },
   {
    "duration": 53,
    "start_time": "2022-10-27T13:28:02.552Z"
   },
   {
    "duration": 17,
    "start_time": "2022-10-27T13:28:02.607Z"
   },
   {
    "duration": 33,
    "start_time": "2022-10-27T13:28:02.628Z"
   },
   {
    "duration": 18,
    "start_time": "2022-10-27T13:28:02.663Z"
   },
   {
    "duration": 25,
    "start_time": "2022-10-27T13:28:02.683Z"
   },
   {
    "duration": 434,
    "start_time": "2022-10-27T13:28:02.710Z"
   },
   {
    "duration": 13,
    "start_time": "2022-10-27T13:28:03.145Z"
   },
   {
    "duration": 686,
    "start_time": "2022-10-27T13:28:03.160Z"
   },
   {
    "duration": 170,
    "start_time": "2022-10-27T13:28:03.854Z"
   },
   {
    "duration": 150,
    "start_time": "2022-10-27T13:28:04.026Z"
   },
   {
    "duration": 203,
    "start_time": "2022-10-27T13:28:04.178Z"
   },
   {
    "duration": 114,
    "start_time": "2022-10-27T13:28:04.383Z"
   },
   {
    "duration": 167,
    "start_time": "2022-10-27T13:28:04.499Z"
   },
   {
    "duration": 179,
    "start_time": "2022-10-27T13:28:04.668Z"
   },
   {
    "duration": 195,
    "start_time": "2022-10-27T13:28:04.850Z"
   },
   {
    "duration": 169,
    "start_time": "2022-10-27T13:28:05.047Z"
   },
   {
    "duration": 455,
    "start_time": "2022-10-27T13:28:05.220Z"
   },
   {
    "duration": 193,
    "start_time": "2022-10-27T13:28:05.676Z"
   },
   {
    "duration": 178,
    "start_time": "2022-10-27T13:28:05.871Z"
   },
   {
    "duration": 162,
    "start_time": "2022-10-27T13:28:06.051Z"
   },
   {
    "duration": 173,
    "start_time": "2022-10-27T13:28:06.220Z"
   },
   {
    "duration": 167,
    "start_time": "2022-10-27T13:28:06.395Z"
   },
   {
    "duration": 489,
    "start_time": "2022-10-27T13:28:06.564Z"
   },
   {
    "duration": 16,
    "start_time": "2022-10-27T13:28:07.055Z"
   },
   {
    "duration": 299,
    "start_time": "2022-10-27T13:28:07.073Z"
   },
   {
    "duration": 484,
    "start_time": "2022-10-27T13:28:07.373Z"
   },
   {
    "duration": 319,
    "start_time": "2022-10-27T13:28:07.858Z"
   },
   {
    "duration": 14,
    "start_time": "2022-10-27T13:28:08.179Z"
   }
  ],
  "hide_input": false,
  "kernelspec": {
   "display_name": "Python 3 (ipykernel)",
   "language": "python",
   "name": "python3"
  },
  "language_info": {
   "codemirror_mode": {
    "name": "ipython",
    "version": 3
   },
   "file_extension": ".py",
   "mimetype": "text/x-python",
   "name": "python",
   "nbconvert_exporter": "python",
   "pygments_lexer": "ipython3",
   "version": "3.9.12"
  },
  "nbTranslate": {
   "displayLangs": [
    "*"
   ],
   "hotkey": "alt-t",
   "langInMainMenu": true,
   "sourceLang": "en",
   "targetLang": "fr",
   "useGoogleTranslate": true
  },
  "toc": {
   "base_numbering": 1,
   "nav_menu": {},
   "number_sections": true,
   "sideBar": true,
   "skip_h1_title": true,
   "title_cell": "Table of Contents",
   "title_sidebar": "Contents",
   "toc_cell": false,
   "toc_position": {},
   "toc_section_display": true,
   "toc_window_display": false
  },
  "varInspector": {
   "cols": {
    "lenName": 16,
    "lenType": 16,
    "lenVar": 40
   },
   "kernels_config": {
    "python": {
     "delete_cmd_postfix": "",
     "delete_cmd_prefix": "del ",
     "library": "var_list.py",
     "varRefreshCmd": "print(var_dic_list())"
    },
    "r": {
     "delete_cmd_postfix": ") ",
     "delete_cmd_prefix": "rm(",
     "library": "var_list.r",
     "varRefreshCmd": "cat(var_dic_list()) "
    }
   },
   "types_to_exclude": [
    "module",
    "function",
    "builtin_function_or_method",
    "instance",
    "_Feature"
   ],
   "window_display": false
  }
 },
 "nbformat": 4,
 "nbformat_minor": 2
}
