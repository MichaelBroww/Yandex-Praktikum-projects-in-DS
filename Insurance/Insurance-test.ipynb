{
 "cells": [
  {
   "cell_type": "markdown",
   "metadata": {
    "pycharm": {
     "name": "#%% md\n"
    }
   },
   "source": [
    "# Защита персональных данных клиентов"
   ]
  },
  {
   "cell_type": "markdown",
   "metadata": {
    "pycharm": {
     "name": "#%% md\n"
    }
   },
   "source": [
    "# Описание проекта "
   ]
  },
  {
   "cell_type": "markdown",
   "metadata": {
    "pycharm": {
     "name": "#%% md\n"
    }
   },
   "source": [
    "Нам нужно защитить данные клиентов страховой компании «Хоть потоп». Разработать такой метод преобразования данных, чтобы по ним было сложно восстановить персональную информацию. Обосновать корректность его работы.\n",
    "\n",
    "Нужно защитить данные, чтобы при преобразовании качество моделей машинного обучения не ухудшилось. Подбирать наилучшую модель не требуется."
   ]
  },
  {
   "cell_type": "markdown",
   "metadata": {
    "pycharm": {
     "name": "#%% md\n"
    }
   },
   "source": [
    "**Инструкция по выполнению проекта**\n",
    "\n",
    "1. Загрузить и изучить данные.\n",
    "2. Ответить на вопрос и обосновать решение. \n",
    "- Признаки умножают на обратимую матрицу. \n",
    "- Изменится ли качество линейной регрессии? (Её можно обучить заново.)\n",
    "- a. Изменится. Приведите примеры матриц.\n",
    "- b. Не изменится. Указать, как связаны параметры линейной регрессии в исходной задаче и в преобразованной.\n",
    "4. Предложить алгоритм преобразования данных для решения задачи. Обоснуйте, почему качество линейной регрессии не поменяется.\n",
    "5. Запрограммировать этот алгоритм, применив матричные операции. Проверить, что качество линейной регрессии из sklearn не отличается до и после преобразования. Применить метрику R2."
   ]
  },
  {
   "cell_type": "markdown",
   "metadata": {
    "pycharm": {
     "name": "#%% md\n"
    }
   },
   "source": [
    "**Описание данных**\n",
    "\n",
    "Набор данных находится в файле /datasets/insurance.csv.<br>\n",
    "__Признаки__: пол, возраст и зарплата застрахованного, количество членов его семьи.<br>\n",
    "__Целевой признак__: количество страховых выплат клиенту за последние 5 лет."
   ]
  },
  {
   "cell_type": "markdown",
   "metadata": {
    "pycharm": {
     "name": "#%% md\n"
    }
   },
   "source": [
    "## Загрузка данных"
   ]
  },
  {
   "cell_type": "code",
   "execution_count": 1,
   "metadata": {
    "ExecuteTime": {
     "end_time": "2023-02-09T17:57:28.505692Z",
     "start_time": "2023-02-09T17:57:25.622695Z"
    },
    "pycharm": {
     "name": "#%%\n"
    }
   },
   "outputs": [],
   "source": [
    "# Импортируем библиотеку для общего удобства\n",
    "import pandas as pd\n",
    "import numpy as np\n",
    "\n",
    "from sklearn.metrics import r2_score\n",
    "from sklearn.linear_model import LinearRegression"
   ]
  },
  {
   "cell_type": "code",
   "execution_count": 2,
   "metadata": {
    "ExecuteTime": {
     "end_time": "2023-02-09T17:57:28.576754Z",
     "start_time": "2023-02-09T17:57:28.520753Z"
    },
    "pycharm": {
     "name": "#%%\n"
    }
   },
   "outputs": [],
   "source": [
    "try:\n",
    "    data = pd.read_csv('/datasets/insurance.csv')\n",
    "except:\n",
    "    data = pd.read_csv('insurance.csv')\n",
    "data.name = 'Данные клиентов'"
   ]
  },
  {
   "cell_type": "code",
   "execution_count": 3,
   "metadata": {
    "ExecuteTime": {
     "end_time": "2023-02-09T17:57:28.592741Z",
     "start_time": "2023-02-09T17:57:28.576754Z"
    },
    "pycharm": {
     "name": "#%%\n"
    }
   },
   "outputs": [],
   "source": [
    "# Функция для отображения общей информации\n",
    "def review(df):\n",
    "    info = \\\n",
    "    print(f'                 >{df.name}<'),'\\n',\n",
    "    display(df.head()),\n",
    "    print(),\n",
    "    df.info(),\n",
    "    print()\n",
    "    print('-' * 40, '\\n', \n",
    "          'Количество дубликатов:',df.duplicated().sum(),\n",
    "          '\\n')"
   ]
  },
  {
   "cell_type": "code",
   "execution_count": 4,
   "metadata": {
    "ExecuteTime": {
     "end_time": "2023-02-09T17:57:28.688727Z",
     "start_time": "2023-02-09T17:57:28.600739Z"
    },
    "pycharm": {
     "name": "#%%\n"
    },
    "scrolled": false
   },
   "outputs": [
    {
     "name": "stdout",
     "output_type": "stream",
     "text": [
      "                 >Данные клиентов<\n"
     ]
    },
    {
     "data": {
      "text/html": [
       "<div>\n",
       "<style scoped>\n",
       "    .dataframe tbody tr th:only-of-type {\n",
       "        vertical-align: middle;\n",
       "    }\n",
       "\n",
       "    .dataframe tbody tr th {\n",
       "        vertical-align: top;\n",
       "    }\n",
       "\n",
       "    .dataframe thead th {\n",
       "        text-align: right;\n",
       "    }\n",
       "</style>\n",
       "<table border=\"1\" class=\"dataframe\">\n",
       "  <thead>\n",
       "    <tr style=\"text-align: right;\">\n",
       "      <th></th>\n",
       "      <th>Пол</th>\n",
       "      <th>Возраст</th>\n",
       "      <th>Зарплата</th>\n",
       "      <th>Члены семьи</th>\n",
       "      <th>Страховые выплаты</th>\n",
       "    </tr>\n",
       "  </thead>\n",
       "  <tbody>\n",
       "    <tr>\n",
       "      <th>0</th>\n",
       "      <td>1</td>\n",
       "      <td>41.0</td>\n",
       "      <td>49600.0</td>\n",
       "      <td>1</td>\n",
       "      <td>0</td>\n",
       "    </tr>\n",
       "    <tr>\n",
       "      <th>1</th>\n",
       "      <td>0</td>\n",
       "      <td>46.0</td>\n",
       "      <td>38000.0</td>\n",
       "      <td>1</td>\n",
       "      <td>1</td>\n",
       "    </tr>\n",
       "    <tr>\n",
       "      <th>2</th>\n",
       "      <td>0</td>\n",
       "      <td>29.0</td>\n",
       "      <td>21000.0</td>\n",
       "      <td>0</td>\n",
       "      <td>0</td>\n",
       "    </tr>\n",
       "    <tr>\n",
       "      <th>3</th>\n",
       "      <td>0</td>\n",
       "      <td>21.0</td>\n",
       "      <td>41700.0</td>\n",
       "      <td>2</td>\n",
       "      <td>0</td>\n",
       "    </tr>\n",
       "    <tr>\n",
       "      <th>4</th>\n",
       "      <td>1</td>\n",
       "      <td>28.0</td>\n",
       "      <td>26100.0</td>\n",
       "      <td>0</td>\n",
       "      <td>0</td>\n",
       "    </tr>\n",
       "  </tbody>\n",
       "</table>\n",
       "</div>"
      ],
      "text/plain": [
       "   Пол  Возраст  Зарплата  Члены семьи  Страховые выплаты\n",
       "0    1     41.0   49600.0            1                  0\n",
       "1    0     46.0   38000.0            1                  1\n",
       "2    0     29.0   21000.0            0                  0\n",
       "3    0     21.0   41700.0            2                  0\n",
       "4    1     28.0   26100.0            0                  0"
      ]
     },
     "metadata": {},
     "output_type": "display_data"
    },
    {
     "name": "stdout",
     "output_type": "stream",
     "text": [
      "\n",
      "<class 'pandas.core.frame.DataFrame'>\n",
      "RangeIndex: 5000 entries, 0 to 4999\n",
      "Data columns (total 5 columns):\n",
      " #   Column             Non-Null Count  Dtype  \n",
      "---  ------             --------------  -----  \n",
      " 0   Пол                5000 non-null   int64  \n",
      " 1   Возраст            5000 non-null   float64\n",
      " 2   Зарплата           5000 non-null   float64\n",
      " 3   Члены семьи        5000 non-null   int64  \n",
      " 4   Страховые выплаты  5000 non-null   int64  \n",
      "dtypes: float64(2), int64(3)\n",
      "memory usage: 195.4 KB\n",
      "\n",
      "---------------------------------------- \n",
      " Количество дубликатов: 153 \n",
      "\n"
     ]
    }
   ],
   "source": [
    "review(data)"
   ]
  },
  {
   "cell_type": "code",
   "execution_count": 5,
   "metadata": {
    "ExecuteTime": {
     "end_time": "2023-02-09T17:57:28.760717Z",
     "start_time": "2023-02-09T17:57:28.688727Z"
    },
    "pycharm": {
     "name": "#%%\n"
    },
    "scrolled": false
   },
   "outputs": [
    {
     "name": "stdout",
     "output_type": "stream",
     "text": [
      "<class 'pandas.core.frame.DataFrame'>\n",
      "RangeIndex: 4847 entries, 0 to 4846\n",
      "Data columns (total 5 columns):\n",
      " #   Column             Non-Null Count  Dtype\n",
      "---  ------             --------------  -----\n",
      " 0   Пол                4847 non-null   int64\n",
      " 1   Возраст            4847 non-null   int64\n",
      " 2   Зарплата           4847 non-null   int64\n",
      " 3   Члены семьи        4847 non-null   int64\n",
      " 4   Страховые выплаты  4847 non-null   int64\n",
      "dtypes: int64(5)\n",
      "memory usage: 189.5 KB\n",
      "\n",
      "Проверим на пропуски \n",
      "Пол                  0\n",
      "Возраст              0\n",
      "Зарплата             0\n",
      "Члены семьи          0\n",
      "Страховые выплаты    0\n",
      "dtype: int64\n"
     ]
    }
   ],
   "source": [
    "# Убере дублирующие строки для точности матрицы\n",
    "data = data.drop_duplicates().reset_index(drop=True)\n",
    "# А так же заменим тип данных Возраст, Зарплата на int\n",
    "data.Возраст = data.Возраст.astype('int64')\n",
    "data.Зарплата = data.Зарплата.astype('int64')\n",
    "data.info()\n",
    "data.describe()\n",
    "print()\n",
    "print(f'''Проверим на пропуски \n",
    "{data.isna().sum()}''')"
   ]
  },
  {
   "cell_type": "code",
   "execution_count": 6,
   "metadata": {
    "ExecuteTime": {
     "end_time": "2023-02-09T17:57:28.792713Z",
     "start_time": "2023-02-09T17:57:28.768724Z"
    },
    "pycharm": {
     "name": "#%%\n"
    },
    "scrolled": true
   },
   "outputs": [
    {
     "data": {
      "text/html": [
       "<div>\n",
       "<style scoped>\n",
       "    .dataframe tbody tr th:only-of-type {\n",
       "        vertical-align: middle;\n",
       "    }\n",
       "\n",
       "    .dataframe tbody tr th {\n",
       "        vertical-align: top;\n",
       "    }\n",
       "\n",
       "    .dataframe thead th {\n",
       "        text-align: right;\n",
       "    }\n",
       "</style>\n",
       "<table border=\"1\" class=\"dataframe\">\n",
       "  <thead>\n",
       "    <tr style=\"text-align: right;\">\n",
       "      <th></th>\n",
       "      <th>male</th>\n",
       "      <th>age</th>\n",
       "      <th>salary</th>\n",
       "      <th>family_members</th>\n",
       "      <th>insurance_payment</th>\n",
       "    </tr>\n",
       "  </thead>\n",
       "  <tbody>\n",
       "    <tr>\n",
       "      <th>0</th>\n",
       "      <td>1</td>\n",
       "      <td>41</td>\n",
       "      <td>49600</td>\n",
       "      <td>1</td>\n",
       "      <td>0</td>\n",
       "    </tr>\n",
       "    <tr>\n",
       "      <th>1</th>\n",
       "      <td>0</td>\n",
       "      <td>46</td>\n",
       "      <td>38000</td>\n",
       "      <td>1</td>\n",
       "      <td>1</td>\n",
       "    </tr>\n",
       "    <tr>\n",
       "      <th>2</th>\n",
       "      <td>0</td>\n",
       "      <td>29</td>\n",
       "      <td>21000</td>\n",
       "      <td>0</td>\n",
       "      <td>0</td>\n",
       "    </tr>\n",
       "    <tr>\n",
       "      <th>3</th>\n",
       "      <td>0</td>\n",
       "      <td>21</td>\n",
       "      <td>41700</td>\n",
       "      <td>2</td>\n",
       "      <td>0</td>\n",
       "    </tr>\n",
       "    <tr>\n",
       "      <th>4</th>\n",
       "      <td>1</td>\n",
       "      <td>28</td>\n",
       "      <td>26100</td>\n",
       "      <td>0</td>\n",
       "      <td>0</td>\n",
       "    </tr>\n",
       "  </tbody>\n",
       "</table>\n",
       "</div>"
      ],
      "text/plain": [
       "   male  age  salary  family_members  insurance_payment\n",
       "0     1   41   49600               1                  0\n",
       "1     0   46   38000               1                  1\n",
       "2     0   29   21000               0                  0\n",
       "3     0   21   41700               2                  0\n",
       "4     1   28   26100               0                  0"
      ]
     },
     "execution_count": 6,
     "metadata": {},
     "output_type": "execute_result"
    }
   ],
   "source": [
    "data.columns = ['male', 'age', 'salary', 'family_members', 'insurance_payment']\n",
    "data.head()"
   ]
  },
  {
   "cell_type": "markdown",
   "metadata": {
    "pycharm": {
     "name": "#%% md\n"
    }
   },
   "source": [
    "## Умножение матриц"
   ]
  },
  {
   "cell_type": "markdown",
   "metadata": {
    "pycharm": {
     "name": "#%% md\n"
    }
   },
   "source": [
    "В этом задании вы можете записывать формулы в *Jupyter Notebook.*\n",
    "\n",
    "Чтобы записать формулу внутри текста, окружите её символами доллара \\\\$; если снаружи —  двойными символами \\\\$\\\\$. Эти формулы записываются на языке вёрстки *LaTeX.* \n",
    "\n",
    "Для примера мы записали формулы линейной регрессии. Можете их скопировать и отредактировать, чтобы решить задачу.\n",
    "\n",
    "Работать в *LaTeX* необязательно."
   ]
  },
  {
   "cell_type": "markdown",
   "metadata": {
    "pycharm": {
     "name": "#%% md\n"
    }
   },
   "source": [
    "Обозначения:\n",
    "\n",
    "- $X$ — матрица признаков (нулевой столбец состоит из единиц)\n",
    "\n",
    "- $y$ — вектор целевого признака\n",
    "\n",
    "- $P$ — матрица, на которую умножаются признаки\n",
    "\n",
    "- $w$ — вектор весов линейной регрессии (нулевой элемент равен сдвигу)"
   ]
  },
  {
   "cell_type": "markdown",
   "metadata": {
    "pycharm": {
     "name": "#%% md\n"
    }
   },
   "source": [
    "Предсказания:\n",
    "\n",
    "$$\n",
    "a = Xw\n",
    "$$\n",
    "\n",
    "Задача обучения:\n",
    "\n",
    "$$\n",
    "w = \\arg\\min_w MSE(Xw, y)\n",
    "$$\n",
    "\n",
    "Формула обучения:\n",
    "\n",
    "$$\n",
    "w = (X^T X)^{-1} X^T y\n",
    "$$"
   ]
  },
  {
   "cell_type": "code",
   "execution_count": 7,
   "metadata": {
    "ExecuteTime": {
     "end_time": "2023-02-09T17:57:28.824709Z",
     "start_time": "2023-02-09T17:57:28.800712Z"
    }
   },
   "outputs": [],
   "source": [
    "# Готовим целевой признак и признаки\n",
    "features=data.drop(['insurance_payment'],axis=1)\n",
    "target=data['insurance_payment']"
   ]
  },
  {
   "cell_type": "code",
   "execution_count": 8,
   "metadata": {
    "ExecuteTime": {
     "end_time": "2023-02-09T17:57:28.840707Z",
     "start_time": "2023-02-09T17:57:28.824709Z"
    }
   },
   "outputs": [
    {
     "name": "stdout",
     "output_type": "stream",
     "text": [
      "(4847, 4)\n",
      "(4847,)\n"
     ]
    }
   ],
   "source": [
    "print(features.shape, end ='\\n')\n",
    "print(target.shape)"
   ]
  },
  {
   "cell_type": "code",
   "execution_count": 9,
   "metadata": {
    "ExecuteTime": {
     "end_time": "2023-02-09T17:57:28.856704Z",
     "start_time": "2023-02-09T17:57:28.840707Z"
    }
   },
   "outputs": [],
   "source": [
    "random_matrix = np.random.randn(features.shape[1],features.shape[1])"
   ]
  },
  {
   "cell_type": "markdown",
   "metadata": {},
   "source": [
    "Проверим матрицу на обратимость."
   ]
  },
  {
   "cell_type": "code",
   "execution_count": 10,
   "metadata": {
    "ExecuteTime": {
     "end_time": "2023-02-09T17:59:06.991788Z",
     "start_time": "2023-02-09T17:59:06.975788Z"
    }
   },
   "outputs": [
    {
     "name": "stdout",
     "output_type": "stream",
     "text": [
      "\n",
      "Вывод: \n",
      "Обратная матрица к заданной существует\n"
     ]
    }
   ],
   "source": [
    "try:\n",
    "    inv_matrix = np.linalg.inv(random_matrix)\n",
    "    print('\\nВывод: \\nОбратная матрица к заданной существует')\n",
    "except:\n",
    "    print('\\nВывод: Обратная матрица к заданной не существует')"
   ]
  },
  {
   "cell_type": "code",
   "execution_count": 11,
   "metadata": {
    "scrolled": true
   },
   "outputs": [
    {
     "name": "stdout",
     "output_type": "stream",
     "text": [
      "[[-0.25530302 -0.47285476  0.70726904  0.17747791]\n",
      " [-0.08727969  0.39751579 -1.15192753 -0.7782626 ]\n",
      " [-0.42209161  0.05487826  0.32510495  0.52159973]\n",
      " [ 0.46940267  0.05874443  1.24310246  0.15674822]]\n",
      "\n",
      " [[ 1.00000000e+00 -1.89672847e-17  1.47359848e-16  8.40002463e-17]\n",
      " [-1.97387949e-17  1.00000000e+00 -6.06085523e-16 -2.54041678e-16]\n",
      " [ 4.27323610e-17  4.01231603e-17  1.00000000e+00 -3.78530403e-17]\n",
      " [-6.90104713e-18 -3.68020368e-17 -4.74557302e-17  1.00000000e+00]]\n"
     ]
    }
   ],
   "source": [
    "a = np.random.randn(features.shape[1],features.shape[1])\n",
    "a_inv = np.linalg.inv(a)\n",
    "print(a_inv)\n",
    "print('\\n',np.dot(a, a_inv))"
   ]
  },
  {
   "cell_type": "markdown",
   "metadata": {},
   "source": [
    "Мы можем проверить правильность результата, опираясь на основное свойство обратной матрицы, т.е."
   ]
  },
  {
   "cell_type": "code",
   "execution_count": 12,
   "metadata": {
    "scrolled": false
   },
   "outputs": [
    {
     "name": "stdout",
     "output_type": "stream",
     "text": [
      "True\n",
      "\n",
      "True\n"
     ]
    }
   ],
   "source": [
    "print(np.allclose(np.dot(a, a_inv), np.eye(a.shape[0])))\n",
    "print()\n",
    "print(np.allclose(np.dot(a_inv, a), np.eye(a.shape[0])))\n"
   ]
  },
  {
   "cell_type": "markdown",
   "metadata": {},
   "source": [
    "Рассчитаем результаты для исходных параметров."
   ]
  },
  {
   "cell_type": "code",
   "execution_count": 13,
   "metadata": {
    "ExecuteTime": {
     "end_time": "2023-02-09T17:57:28.904697Z",
     "start_time": "2023-02-09T17:57:28.872702Z"
    }
   },
   "outputs": [],
   "source": [
    "w = np.linalg.inv(features.T.dot(features)).dot(features.T).dot(target)\n",
    "a = features @ w"
   ]
  },
  {
   "cell_type": "markdown",
   "metadata": {},
   "source": [
    "Рассчитаем результаты для новых параметров."
   ]
  },
  {
   "cell_type": "code",
   "execution_count": 14,
   "metadata": {
    "ExecuteTime": {
     "end_time": "2023-02-09T17:57:28.920697Z",
     "start_time": "2023-02-09T17:57:28.904697Z"
    }
   },
   "outputs": [],
   "source": [
    "features_upgraded = features @ random_matrix"
   ]
  },
  {
   "cell_type": "code",
   "execution_count": 15,
   "metadata": {
    "ExecuteTime": {
     "end_time": "2023-02-09T17:57:28.952691Z",
     "start_time": "2023-02-09T17:57:28.920697Z"
    }
   },
   "outputs": [],
   "source": [
    "w2 = np.linalg.inv(features_upgraded.T.dot(features_upgraded)).dot(features_upgraded.T).dot(target)\n",
    "a2 = features_upgraded @ w2"
   ]
  },
  {
   "cell_type": "markdown",
   "metadata": {},
   "source": [
    "Посмотрим, есть ли разница между результатами."
   ]
  },
  {
   "cell_type": "code",
   "execution_count": 16,
   "metadata": {
    "ExecuteTime": {
     "end_time": "2023-02-09T17:57:28.984687Z",
     "start_time": "2023-02-09T17:57:28.952691Z"
    }
   },
   "outputs": [
    {
     "data": {
      "text/plain": [
       "0.0005379558330596888"
      ]
     },
     "execution_count": 16,
     "metadata": {},
     "output_type": "execute_result"
    }
   ],
   "source": [
    "difference = a - a2\n",
    "difference.sum()"
   ]
  },
  {
   "cell_type": "markdown",
   "metadata": {},
   "source": [
    "**Вывод:**\n",
    "Используемый алгоритм не создает различий в предсказаниях при использовании исходных параметров и модернизированных. Значит, качество предсказаний модели не ухудшится."
   ]
  },
  {
   "cell_type": "markdown",
   "metadata": {},
   "source": [
    "Разница между исходными предсказаниями и предсказаниями с использованием обратимой матрицы не значительно минимально."
   ]
  },
  {
   "cell_type": "markdown",
   "metadata": {
    "pycharm": {
     "name": "#%% md\n"
    }
   },
   "source": [
    "**Ответ:** при умножении признаков $X$\n",
    " на обратимую матрицу $P$\n",
    " мы имеем новую матрицу признаков $B$\n",
    ". Качество линейной регрессии после проверки $B$\n",
    " измениться, т.е метрика качества $R^2$\n",
    " будет сильно другой. А точнее будет хуже. Но если принять матрицу признаков $B$\n",
    ", как обучающую, то модель обучится и покажет тот же результат $R^2$\n",
    ", что и для признаков $X$\n"
   ]
  },
  {
   "cell_type": "markdown",
   "metadata": {},
   "source": [
    "**Обоснование:**\n",
    "\n",
    "Используемые свойства:\n",
    "$$\n",
    "(AB)^T=B^T A^T\n",
    "$$\n",
    "$$\n",
    "(AB)^{-1} = B^{-1} A^{-1}\n",
    "$$\n",
    "$$\n",
    "A A^{-1} = A^{-1} A = E\n",
    "$$\n",
    "$$\n",
    "AE = EA = A\n",
    "$$\n",
    "Доказательство:\n",
    "$$\n",
    "a = Xw = XEw = XPP^{-1}w = (XP)P^{-1}w = (XP)w'\n",
    "$$\n",
    "\\\n",
    "Требуется доказать, что предсказания не изменятся, имеем  $a =  Xw$,   $a' = X'w'$\n",
    "\\\n",
    "\\\n",
    "$$\n",
    "    w = (X^T X)^{-1} X^T y\n",
    "$$"
   ]
  },
  {
   "cell_type": "markdown",
   "metadata": {},
   "source": [
    "$$  \n",
    "w' = ((XP)^TXP)^{-1}(XP)^Ty = (P^T(X^TX)P)^{-1}P^TX^Ty = P^{-1}(X^TX)^{-1}(P^T)^{-1}P^TX^Ty = P^{-1}(X^TX)^{-1}X^Ty => w' = P^{-1}w\n",
    "$$\n",
    "\n",
    "$$ a = Xw$$"
   ]
  },
  {
   "cell_type": "markdown",
   "metadata": {},
   "source": [
    "Получаем: $a'= XP * w' = XPP^{-1}w = XEw = Xw = a$\n",
    "\n",
    "Таким образом мы доказали, что преобразование подобного типа не повлияет на предсказание."
   ]
  },
  {
   "cell_type": "markdown",
   "metadata": {
    "pycharm": {
     "name": "#%% md\n"
    }
   },
   "source": [
    "## Алгоритм преобразования"
   ]
  },
  {
   "cell_type": "markdown",
   "metadata": {
    "pycharm": {
     "name": "#%% md\n"
    }
   },
   "source": [
    "**Алгоритм**\n",
    "\n",
    "После получения новой матрицы B, перед процессом функцией predict выполним действие: $X = P^-¹ * B$"
   ]
  },
  {
   "cell_type": "markdown",
   "metadata": {
    "pycharm": {
     "name": "#%% md\n"
    }
   },
   "source": [
    "**Обоснование**\n",
    "\n",
    "Кодирование признаков происходит умножением $X * P = B$,<br>\n",
    "где: <br>\n",
    "$X$-матрица признаков,\n",
    "<br>$P$ \n",
    "-матрица, на которую умножаются признаки (обратимая матрица),\n",
    "<br>$B$\n",
    "-новая матрица. <br>Умножим обе части уравнения на $P^-¹$\n",
    " (обратную матрицу $P$\n",
    "). <br>Получим $X * P^-¹ * P = B * P^-¹$\n",
    ". <br>Зная свойство обратных матриц $P^-¹ * P = E$\n",
    ", где Е- это единичная матрица и зная свойство единичной матрицы $E * X = X$ \n",
    ", получаем, что $X = P^-¹ * B$"
   ]
  },
  {
   "cell_type": "markdown",
   "metadata": {
    "pycharm": {
     "name": "#%% md\n"
    }
   },
   "source": [
    "## Проверка алгоритма"
   ]
  },
  {
   "cell_type": "code",
   "execution_count": 17,
   "metadata": {
    "ExecuteTime": {
     "end_time": "2023-02-09T17:57:29.000684Z",
     "start_time": "2023-02-09T17:57:28.984687Z"
    },
    "pycharm": {
     "name": "#%%\n"
    }
   },
   "outputs": [],
   "source": [
    "#Создадим класс модели Линейной Регрессии.\n",
    "class ConstantRegression:\n",
    "    def model_fit(self, features, target):\n",
    "        self.model = LinearRegression()\n",
    "        self.model.fit(features, target)\n",
    "        \n",
    "    def predict_result(self, features):\n",
    "        result = self.model.predict(features)\n",
    "        return result\n",
    "        \n",
    "    def get_r2_s(self, target, predict):\n",
    "        r2 = r2_score(target, predict)\n",
    "        return r2  "
   ]
  },
  {
   "cell_type": "code",
   "execution_count": 18,
   "metadata": {
    "ExecuteTime": {
     "end_time": "2023-02-09T17:57:29.032682Z",
     "start_time": "2023-02-09T17:57:29.000684Z"
    }
   },
   "outputs": [],
   "source": [
    "#Вычислим результат метрики для исходных признаков.\n",
    "model_1 = ConstantRegression()\n",
    "model_1.model_fit(features, target)\n",
    "predict_features = model_1.predict_result(features)\n",
    "r2_features = model_1.get_r2_s(target, predict_features)"
   ]
  },
  {
   "cell_type": "code",
   "execution_count": 19,
   "metadata": {
    "ExecuteTime": {
     "end_time": "2023-02-09T17:57:29.064678Z",
     "start_time": "2023-02-09T17:57:29.032682Z"
    }
   },
   "outputs": [],
   "source": [
    "#Вычислим результат метрики для признаков, умноженных на обратимую матрицу.\n",
    "model_2 = ConstantRegression()\n",
    "model_2.model_fit(features_upgraded, target)\n",
    "predict_upgraded_features = model_2.predict_result(features_upgraded)\n",
    "r2_upgraded_features = model_2.get_r2_s(target, predict_upgraded_features)"
   ]
  },
  {
   "cell_type": "code",
   "execution_count": 20,
   "metadata": {
    "ExecuteTime": {
     "end_time": "2023-02-09T17:57:29.080673Z",
     "start_time": "2023-02-09T17:57:29.064678Z"
    }
   },
   "outputs": [
    {
     "name": "stdout",
     "output_type": "stream",
     "text": [
      "\n",
      "Значение R2 при использовании исходных признаков - 0.4302010046633359\n",
      "\n",
      "Значение R2 при использовании признаков, умноженых на обратимую матрицу - 0.43020100466332967\n"
     ]
    }
   ],
   "source": [
    "print('\\nЗначение R2 при использовании исходных признаков -', r2_features)\n",
    "print('\\nЗначение R2 при использовании признаков, умноженых на обратимую матрицу -', r2_upgraded_features)"
   ]
  },
  {
   "cell_type": "markdown",
   "metadata": {},
   "source": [
    "**Вывод:** \n",
    "\n",
    "Разница не значительно минимальна, при умножении признаков на обратимую матрицу качество модели не изменилось."
   ]
  },
  {
   "cell_type": "markdown",
   "metadata": {},
   "source": [
    "**Вывод**"
   ]
  },
  {
   "cell_type": "markdown",
   "metadata": {},
   "source": [
    "- Используемый алгоритм не создает различий в предсказаниях при использовании исходных параметров и модернизированных. Значит, качество предсказаний модели не ухудшится.\n",
    "\n",
    "- При умножение матрицы признаков на обратимую матрицу качество Линейной Регрессии не изменяется."
   ]
  }
 ],
 "metadata": {
  "ExecuteTimeLog": [
   {
    "duration": 92,
    "start_time": "2023-02-09T21:54:30.730Z"
   },
   {
    "duration": 48,
    "start_time": "2023-02-10T20:01:23.097Z"
   },
   {
    "duration": 1108,
    "start_time": "2023-02-10T20:01:34.721Z"
   },
   {
    "duration": 122,
    "start_time": "2023-02-10T20:01:35.831Z"
   },
   {
    "duration": 5,
    "start_time": "2023-02-10T20:01:35.954Z"
   },
   {
    "duration": 30,
    "start_time": "2023-02-10T20:01:35.961Z"
   },
   {
    "duration": 34,
    "start_time": "2023-02-10T20:01:35.994Z"
   },
   {
    "duration": 8,
    "start_time": "2023-02-10T20:01:36.030Z"
   },
   {
    "duration": 4,
    "start_time": "2023-02-10T20:01:36.040Z"
   },
   {
    "duration": 5,
    "start_time": "2023-02-10T20:01:36.045Z"
   },
   {
    "duration": 6,
    "start_time": "2023-02-10T20:01:36.051Z"
   },
   {
    "duration": 6,
    "start_time": "2023-02-10T20:01:36.058Z"
   },
   {
    "duration": 766,
    "start_time": "2023-02-10T20:01:36.066Z"
   },
   {
    "duration": 0,
    "start_time": "2023-02-10T20:01:36.834Z"
   },
   {
    "duration": 0,
    "start_time": "2023-02-10T20:01:36.836Z"
   },
   {
    "duration": 0,
    "start_time": "2023-02-10T20:01:36.836Z"
   },
   {
    "duration": 0,
    "start_time": "2023-02-10T20:01:36.837Z"
   },
   {
    "duration": 0,
    "start_time": "2023-02-10T20:01:36.839Z"
   },
   {
    "duration": 0,
    "start_time": "2023-02-10T20:01:36.840Z"
   },
   {
    "duration": 0,
    "start_time": "2023-02-10T20:01:36.841Z"
   },
   {
    "duration": 0,
    "start_time": "2023-02-10T20:01:36.842Z"
   },
   {
    "duration": 12,
    "start_time": "2023-02-10T20:02:20.267Z"
   },
   {
    "duration": 6,
    "start_time": "2023-02-10T20:02:32.770Z"
   },
   {
    "duration": 6,
    "start_time": "2023-02-10T20:02:56.480Z"
   },
   {
    "duration": 7,
    "start_time": "2023-02-10T20:02:58.564Z"
   },
   {
    "duration": 100,
    "start_time": "2023-02-10T20:03:10.427Z"
   },
   {
    "duration": 7,
    "start_time": "2023-02-10T20:03:17.193Z"
   },
   {
    "duration": 6,
    "start_time": "2023-02-10T20:08:24.379Z"
   },
   {
    "duration": 5,
    "start_time": "2023-02-10T20:08:52.884Z"
   },
   {
    "duration": 88,
    "start_time": "2023-02-10T20:09:22.338Z"
   },
   {
    "duration": 8,
    "start_time": "2023-02-10T20:09:52.433Z"
   },
   {
    "duration": 3,
    "start_time": "2023-02-10T20:09:59.163Z"
   },
   {
    "duration": 68,
    "start_time": "2023-02-10T20:10:20.785Z"
   },
   {
    "duration": 2,
    "start_time": "2023-02-10T20:10:34.198Z"
   },
   {
    "duration": 3,
    "start_time": "2023-02-10T20:10:47.858Z"
   },
   {
    "duration": 3,
    "start_time": "2023-02-10T20:10:53.337Z"
   },
   {
    "duration": 3,
    "start_time": "2023-02-10T20:11:02.607Z"
   },
   {
    "duration": 4,
    "start_time": "2023-02-10T20:11:09.224Z"
   },
   {
    "duration": 91,
    "start_time": "2023-02-10T20:11:17.928Z"
   },
   {
    "duration": 10,
    "start_time": "2023-02-10T20:11:27.344Z"
   },
   {
    "duration": 578,
    "start_time": "2023-02-10T20:12:24.006Z"
   },
   {
    "duration": 5,
    "start_time": "2023-02-10T20:12:30.863Z"
   },
   {
    "duration": 6,
    "start_time": "2023-02-10T20:12:31.958Z"
   },
   {
    "duration": 5,
    "start_time": "2023-02-10T20:12:32.638Z"
   },
   {
    "duration": 6,
    "start_time": "2023-02-10T20:12:33.238Z"
   },
   {
    "duration": 4,
    "start_time": "2023-02-10T20:12:34.583Z"
   },
   {
    "duration": 4,
    "start_time": "2023-02-10T20:12:35.718Z"
   },
   {
    "duration": 4,
    "start_time": "2023-02-10T20:14:59.068Z"
   },
   {
    "duration": 3,
    "start_time": "2023-02-10T20:15:13.196Z"
   },
   {
    "duration": 13,
    "start_time": "2023-02-10T20:15:27.724Z"
   },
   {
    "duration": 1547,
    "start_time": "2023-02-10T22:09:34.582Z"
   },
   {
    "duration": 90,
    "start_time": "2023-02-10T22:09:36.131Z"
   },
   {
    "duration": 3,
    "start_time": "2023-02-10T22:09:36.223Z"
   },
   {
    "duration": 27,
    "start_time": "2023-02-10T22:09:36.228Z"
   },
   {
    "duration": 42,
    "start_time": "2023-02-10T22:09:36.257Z"
   },
   {
    "duration": 6,
    "start_time": "2023-02-10T22:09:36.301Z"
   },
   {
    "duration": 5,
    "start_time": "2023-02-10T22:09:36.308Z"
   },
   {
    "duration": 11,
    "start_time": "2023-02-10T22:09:36.315Z"
   },
   {
    "duration": 8,
    "start_time": "2023-02-10T22:09:36.327Z"
   },
   {
    "duration": 12,
    "start_time": "2023-02-10T22:09:36.336Z"
   },
   {
    "duration": 10,
    "start_time": "2023-02-10T22:09:36.349Z"
   },
   {
    "duration": 76,
    "start_time": "2023-02-10T22:09:36.361Z"
   },
   {
    "duration": 10,
    "start_time": "2023-02-10T22:09:36.439Z"
   },
   {
    "duration": 96,
    "start_time": "2023-02-10T22:09:36.452Z"
   },
   {
    "duration": 98,
    "start_time": "2023-02-10T22:09:36.549Z"
   },
   {
    "duration": 91,
    "start_time": "2023-02-10T22:09:36.649Z"
   },
   {
    "duration": 4,
    "start_time": "2023-02-10T22:09:36.742Z"
   },
   {
    "duration": 30,
    "start_time": "2023-02-10T22:09:36.838Z"
   },
   {
    "duration": 72,
    "start_time": "2023-02-10T22:09:36.870Z"
   },
   {
    "duration": 101,
    "start_time": "2023-02-10T22:09:36.944Z"
   },
   {
    "duration": 108,
    "start_time": "2023-02-11T08:09:37.509Z"
   }
  ],
  "hide_input": false,
  "kernelspec": {
   "display_name": "Python 3 (ipykernel)",
   "language": "python",
   "name": "python3"
  },
  "language_info": {
   "codemirror_mode": {
    "name": "ipython",
    "version": 3
   },
   "file_extension": ".py",
   "mimetype": "text/x-python",
   "name": "python",
   "nbconvert_exporter": "python",
   "pygments_lexer": "ipython3",
   "version": "3.9.12"
  },
  "nbTranslate": {
   "displayLangs": [
    "*"
   ],
   "hotkey": "alt-t",
   "langInMainMenu": true,
   "sourceLang": "en",
   "targetLang": "fr",
   "useGoogleTranslate": true
  },
  "toc": {
   "base_numbering": 1,
   "nav_menu": {},
   "number_sections": true,
   "sideBar": true,
   "skip_h1_title": true,
   "title_cell": "Содержание",
   "title_sidebar": "Contents",
   "toc_cell": true,
   "toc_position": {
    "height": "calc(100% - 180px)",
    "left": "10px",
    "top": "150px",
    "width": "245.141px"
   },
   "toc_section_display": true,
   "toc_window_display": false
  },
  "varInspector": {
   "cols": {
    "lenName": 16,
    "lenType": 16,
    "lenVar": 40
   },
   "kernels_config": {
    "python": {
     "delete_cmd_postfix": "",
     "delete_cmd_prefix": "del ",
     "library": "var_list.py",
     "varRefreshCmd": "print(var_dic_list())"
    },
    "r": {
     "delete_cmd_postfix": ") ",
     "delete_cmd_prefix": "rm(",
     "library": "var_list.r",
     "varRefreshCmd": "cat(var_dic_list()) "
    }
   },
   "types_to_exclude": [
    "module",
    "function",
    "builtin_function_or_method",
    "instance",
    "_Feature"
   ],
   "window_display": false
  }
 },
 "nbformat": 4,
 "nbformat_minor": 2
}
